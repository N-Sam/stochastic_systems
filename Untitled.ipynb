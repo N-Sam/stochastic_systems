{
 "cells": [
  {
   "cell_type": "markdown",
   "metadata": {},
   "source": [
    "# Open Jackson Networks\n",
    "\n",
    "x + 3y + 5z = 10\n",
    "\n",
    "2x + 5y + z = 8\n",
    "\n",
    "2x + 3y + 8z = 3"
   ]
  },
  {
   "cell_type": "markdown",
   "metadata": {},
   "source": [
    "$$\\begin{bmatrix} x\\\\ y\\\\ z \\end{bmatrix} = \\begin{bmatrix} 1 & 3 & 5\\\\ 2 & 5 & 1\\\\ 2 & 3 & 8 \\end{bmatrix}^{-1} \\begin{bmatrix} 10\\\\ 8\\\\ 3 \\end{bmatrix} = \\frac{1}{25} \\begin{bmatrix} -232\\\\ 129\\\\ 19 \\end{bmatrix} = \\begin{bmatrix} -9.28\\\\ 5.16\\\\ 0.76 \\end{bmatrix}.$$"
   ]
  },
  {
   "cell_type": "code",
   "execution_count": 5,
   "metadata": {},
   "outputs": [
    {
     "data": {
      "text/plain": [
       "array([-9.28,  5.16,  0.76])"
      ]
     },
     "execution_count": 5,
     "metadata": {},
     "output_type": "execute_result"
    }
   ],
   "source": [
    "#Declaring the numpy arrays\n",
    "a = np.array([[1, 3, 5], [2, 5, 1], [2, 3, 8]])\n",
    "b = np.array([10, 8, 3])\n",
    "\n",
    "x = linalg.solve(a, b)\n",
    "x"
   ]
  },
  {
   "cell_type": "code",
   "execution_count": 3,
   "metadata": {},
   "outputs": [
    {
     "name": "stdout",
     "output_type": "stream",
     "text": [
      "[ 2. -2.  9.]\n"
     ]
    }
   ],
   "source": [
    "#importing the scipy and numpy packages\n",
    "from scipy import linalg\n",
    "import numpy as np\n",
    "\n",
    "#Declaring the numpy arrays\n",
    "a = np.array([[3, 2, 0], [1, -1, 0], [0, 5, 1]])\n",
    "b = np.array([2, 4, -1])\n",
    "\n",
    "#Passing the values to the solve function\n",
    "x = linalg.solve(a, b)\n",
    "\n",
    "#printing the result array\n",
    "print(x)"
   ]
  },
  {
   "cell_type": "code",
   "execution_count": 6,
   "metadata": {},
   "outputs": [
    {
     "data": {
      "text/plain": [
       "array([ 5. , 10. ,  7.5])"
      ]
     },
     "execution_count": 6,
     "metadata": {},
     "output_type": "execute_result"
    }
   ],
   "source": [
    "#Declaring the numpy arrays\n",
    "a = np.array([[1, -0.1, -0.4], [-0.6, 1, -0.4], [-0.3, -0.3, 1]])\n",
    "b = np.array([1, 4, 3])\n",
    "\n",
    "x = linalg.solve(a, b)\n",
    "x"
   ]
  },
  {
   "cell_type": "code",
   "execution_count": null,
   "metadata": {},
   "outputs": [],
   "source": []
  }
 ],
 "metadata": {
  "kernelspec": {
   "display_name": "Python 3",
   "language": "python",
   "name": "python3"
  },
  "language_info": {
   "codemirror_mode": {
    "name": "ipython",
    "version": 3
   },
   "file_extension": ".py",
   "mimetype": "text/x-python",
   "name": "python",
   "nbconvert_exporter": "python",
   "pygments_lexer": "ipython3",
   "version": "3.7.3"
  }
 },
 "nbformat": 4,
 "nbformat_minor": 4
}
