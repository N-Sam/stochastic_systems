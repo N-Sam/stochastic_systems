{
 "cells": [
  {
   "cell_type": "markdown",
   "metadata": {},
   "source": [
    "# M/M/s queue problems"
   ]
  },
  {
   "cell_type": "code",
   "execution_count": 112,
   "metadata": {},
   "outputs": [],
   "source": [
    "from scipy import math\n",
    "import pandas as pd\n",
    "import numpy as np"
   ]
  },
  {
   "cell_type": "markdown",
   "metadata": {},
   "source": [
    "An M/M/s system is a queuing process having Poisson arrival pattern, $s$ servers with $s$ i.i.d expeonential service times.  Service times do not depend on the state of the system.  The system (i.e. queue + service) has infinite capacity and a FIFO queue discipline."
   ]
  },
  {
   "cell_type": "markdown",
   "metadata": {},
   "source": [
    "## Hospital Pharmacy example\n",
    "\n",
    "During the afternoon, a pharmacy based in a large hospital has 2 trained pharmacists on duty to check and fullfill patient prescriptions for drugs to take home with them at discharge. They are are able to handle 60 transactions per hour. The service times are exponentially distributed. During this busy period, prescriptions arrive at the pharmacy according to a Possion process, at a mean rate of 100 per hour.  \n",
    "\n",
    "**Questions**\n",
    "\n",
    "1. the probability that there are more than 3 prescriptions in the pharmacy at any one time\n",
    "2. the probability that specific pharmacist is idle\n",
    "3. the probability that a drug order takes longer than 3 minutes to be fulfilled after arrival.\n",
    "\n",
    "### Example Solution:\n",
    "\n",
    "This is a M/M/2 system with $\\lambda=100$ and $\\mu = 60$\n",
    "\n",
    "#### Is the system in control?\n",
    "\n",
    "Let's first check that steady state conditions hold by calculating the traffic intensity $\\rho$.\n",
    "\n",
    "\\begin{equation}\n",
    "\\rho = \\frac{\\lambda}{s\\mu}\n",
    "\\label{eq:rho} \\tag{1}\n",
    "\\end{equation}\n",
    "\n",
    "Steady state conditions hold if $\\rho < 1$"
   ]
  },
  {
   "cell_type": "code",
   "execution_count": 200,
   "metadata": {},
   "outputs": [],
   "source": [
    "def traffic_intensity(_lambda, mu, s):\n",
    "    '''\n",
    "    calculate the traffic intensity (server utilisation)\n",
    "    of an M/M/s queue\n",
    "    '''\n",
    "    return _lambda / (s * mu)"
   ]
  },
  {
   "cell_type": "code",
   "execution_count": 201,
   "metadata": {},
   "outputs": [
    {
     "data": {
      "text/plain": [
       "0.8333333333333334"
      ]
     },
     "execution_count": 201,
     "metadata": {},
     "output_type": "execute_result"
    }
   ],
   "source": [
    "#calculate traffic intensity\n",
    "LAMBDA = 100\n",
    "MU = 60\n",
    "S = 2\n",
    "\n",
    "rho = traffic_intensity(LAMBDA, S, MU)\n",
    "rho"
   ]
  },
  {
   "cell_type": "markdown",
   "metadata": {},
   "source": [
    "**Conclusion**: $\\rho < 1$ steady state conditions will hold."
   ]
  },
  {
   "cell_type": "markdown",
   "metadata": {},
   "source": [
    "### 1. Calculate the probability 3 drug orders in the pharmacy at any one time\n",
    "\n",
    "Steady state probabilities are given by\n",
    "\n",
    "\\begin{equation*}\n",
    "p_0 = \\left[ \\sum_{n=0}^{s-1} \\frac{\\left(\\lambda/ \\mu \\right)^n}{n!} + \\frac{\\left( \\lambda / \\mu \\right)^s}{s!\\left(1-\\rho\\right)}  \\right]^{-1}\n",
    "\\label{eq:p0} \\tag{2}\n",
    "\\end{equation*}\n",
    "\n",
    "\n",
    "\\begin{equation}\n",
    "  p_n = \\left\\{\n",
    "    \\begin{array}{l}\n",
    "      \\dfrac{\\left( \\lambda / \\mu \\right)^n}{n!}p_0,   \\>\\>\\>\\>  n \\leq s\\\\ \\\\\n",
    "      \\dfrac{\\left( \\lambda / \\mu \\right)^n}{s!s^{n-s}}p_0,  \\>\\>\\>\\> n > s\n",
    "    \\end{array}\n",
    "  \\right.\n",
    "\\label{eq:pn} \\tag{3} \n",
    "\\end{equation}"
   ]
  },
  {
   "cell_type": "code",
   "execution_count": null,
   "metadata": {},
   "outputs": [],
   "source": [
    "def prob_system_empty(_lambda, mu, s):\n",
    "    '''\n",
    "    The probability that a M/M/s/infinity queue is empty\n",
    "    '''\n",
    "    p0 = 0.0\n",
    "    rho = traffic_intensity(_lambda, mu, s)\n",
    "    \n",
    "    for n in range(s):\n",
    "        p0 += ((_lambda / mu) ** n) / math.factorial(n)\n",
    "\n",
    "    p0 += ((_lambda / mu) ** s) / (math.factorial(s) * (1 - rho))\n",
    "    return p0**-1"
   ]
  },
  {
   "cell_type": "code",
   "execution_count": 207,
   "metadata": {},
   "outputs": [
    {
     "name": "stdout",
     "output_type": "stream",
     "text": [
      "p0 = 0.09\n"
     ]
    }
   ],
   "source": [
    "p0 = prob_system_empty(LAMBDA, MU, S)\n",
    "print(f'p0 = {p0:.2f}')"
   ]
  },
  {
   "cell_type": "code",
   "execution_count": 198,
   "metadata": {},
   "outputs": [],
   "source": [
    "def prob_n_in_system(n, _lambda, mu, s, return_all_solutions=True):\n",
    "    '''\n",
    "    Calculate the probability that n customers\n",
    "    in the system (queuing + service)\n",
    "    \n",
    "    Parameters:\n",
    "    --------\n",
    "    n: int,\n",
    "        Number of customers in the system\n",
    "    \n",
    "    _lambda: float\n",
    "        Mean arrival rate to system\n",
    "        \n",
    "    mu: float\n",
    "        Mean service rate\n",
    "        \n",
    "    s: int\n",
    "        number of servers\n",
    "        \n",
    "    return_all_solutions: bool, optional (default=True)\n",
    "        Returns all solutions for 0,1 ... n\n",
    "        \n",
    "    Returns:\n",
    "    ------\n",
    "        np.ndarray of solutions\n",
    "    \n",
    "    '''\n",
    "    p0 = prob_system_empty(_lambda, mu, s)\n",
    "    probs = [p0]\n",
    "    \n",
    "    #for n <= s\n",
    "    for i in range(1, min(s+1, n+1)):\n",
    "        pn = (((_lambda / mu)**i) / math.factorial(i)) * p0\n",
    "        probs.append(pn)\n",
    "        \n",
    "    #for n > s\n",
    "    for i in range(s+1, n+1):\n",
    "        pn = (((_lambda / mu)**i) / (math.factorial(s) * (s**(n-s)))) * p0\n",
    "        probs.append(pn)\n",
    "    \n",
    "    if return_all_solutions:\n",
    "        return np.array(probs)\n",
    "    else:\n",
    "        return probs[:-1]"
   ]
  },
  {
   "cell_type": "code",
   "execution_count": 216,
   "metadata": {},
   "outputs": [
    {
     "data": {
      "text/plain": [
       "array([0.09090909, 0.15151515, 0.12626263, 0.10521886])"
      ]
     },
     "execution_count": 216,
     "metadata": {},
     "output_type": "execute_result"
    }
   ],
   "source": [
    "prob = prob_n_in_system(3, LAMBDA, MU, S)\n",
    "\n",
    "#[p0, p1, p2, p3] => probabilities of 3 or less drug orders\n",
    "prob"
   ]
  },
  {
   "cell_type": "code",
   "execution_count": 214,
   "metadata": {},
   "outputs": [
    {
     "name": "stdout",
     "output_type": "stream",
     "text": [
      "p(X > 3) = 0.53\n"
     ]
    }
   ],
   "source": [
    "more_than_three = 1 - prob.sum()\n",
    "print(f'p(X > 3) = {more_than_three:.2f}')"
   ]
  },
  {
   "cell_type": "markdown",
   "metadata": {},
   "source": [
    "### 2. Calculate the probability that at least of the pharmacy staff is idle\n",
    "\n",
    "There are two staff so at least one will be idle if there are zero or one prescription drug order."
   ]
  },
  {
   "cell_type": "code",
   "execution_count": 204,
   "metadata": {},
   "outputs": [
    {
     "data": {
      "text/plain": [
       "array([0.09090909, 0.15151515])"
      ]
     },
     "execution_count": 204,
     "metadata": {},
     "output_type": "execute_result"
    }
   ],
   "source": [
    "prob = prob_n_in_system(1, LAMBDA, MU, S)\n",
    "prob"
   ]
  },
  {
   "cell_type": "code",
   "execution_count": null,
   "metadata": {},
   "outputs": [],
   "source": [
    "T"
   ]
  }
 ],
 "metadata": {
  "kernelspec": {
   "display_name": "Python 3",
   "language": "python",
   "name": "python3"
  },
  "language_info": {
   "codemirror_mode": {
    "name": "ipython",
    "version": 3
   },
   "file_extension": ".py",
   "mimetype": "text/x-python",
   "name": "python",
   "nbconvert_exporter": "python",
   "pygments_lexer": "ipython3",
   "version": "3.7.3"
  }
 },
 "nbformat": 4,
 "nbformat_minor": 4
}
