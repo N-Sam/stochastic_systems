{
 "cells": [
  {
   "cell_type": "markdown",
   "metadata": {},
   "source": [
    "# M/M/s/$\\infty$ queue problems"
   ]
  },
  {
   "cell_type": "code",
   "execution_count": 1,
   "metadata": {},
   "outputs": [],
   "source": [
    "from scipy import math\n",
    "import pandas as pd\n",
    "import numpy as np"
   ]
  },
  {
   "cell_type": "markdown",
   "metadata": {},
   "source": [
    "An M/M/s system is a queuing process having Poisson arrival pattern, $s$ servers with $s$ i.i.d expeonential service times.  Service times do not depend on the state of the system.  The system (i.e. queue + service) has infinite capacity and a FIFO queue discipline."
   ]
  },
  {
   "cell_type": "markdown",
   "metadata": {},
   "source": [
    "## Hospital Pharmacy example\n",
    "\n",
    "During the afternoon, a pharmacy based in a large hospital has 2 trained pharmacists on duty to check and fullfill patient prescriptions for drugs to take home with them at discharge. They are are able to handle 30 transactions per hour. The service times are exponentially distributed. During this busy period, prescriptions arrive at the pharmacy according to a Possion process, at a mean rate of 50 per hour.  \n",
    "\n",
    "**Questions**\n",
    "\n",
    "1. What is the probability that there are more than 3 prescriptions in the pharmacy at any one time\n",
    "2. Expected number of drug prescriptions waiting to be fulfilled\n",
    "3. Expected number of drug prescriptions in the system\n",
    "4. Expected prescription turnaround time\n",
    "\n",
    "### Example Solution:\n",
    "\n",
    "This is a M/M/2 system with $\\lambda=50$ and $\\mu = 30$\n",
    "\n",
    "#### Is the system in control?\n",
    "\n",
    "Let's first check that steady state conditions hold by calculating the traffic intensity $\\rho$.\n",
    "\n",
    "\\begin{equation}\n",
    "\\rho = \\frac{\\lambda}{s\\mu}\n",
    "\\label{eq:rho} \\tag{1}\n",
    "\\end{equation}\n",
    "\n",
    "Steady state conditions hold if $\\rho < 1$"
   ]
  },
  {
   "cell_type": "code",
   "execution_count": 2,
   "metadata": {},
   "outputs": [],
   "source": [
    "def traffic_intensity(_lambda, mu, s):\n",
    "    '''\n",
    "    calculate the traffic intensity (server utilisation)\n",
    "    of an M/M/s queue\n",
    "    '''\n",
    "    return _lambda / (s * mu)"
   ]
  },
  {
   "cell_type": "code",
   "execution_count": 78,
   "metadata": {},
   "outputs": [
    {
     "data": {
      "text/plain": [
       "0.8888888888888888"
      ]
     },
     "execution_count": 78,
     "metadata": {},
     "output_type": "execute_result"
    }
   ],
   "source": [
    "#calculate traffic intensity\n",
    "LAMBDA = 40\n",
    "MU = 15\n",
    "S = 3\n",
    "\n",
    "rho = traffic_intensity(LAMBDA, S, MU)\n",
    "rho"
   ]
  },
  {
   "cell_type": "markdown",
   "metadata": {},
   "source": [
    "**Conclusion**: $\\rho < 1$ steady state conditions will hold."
   ]
  },
  {
   "cell_type": "markdown",
   "metadata": {},
   "source": [
    "### 1. Calculate the probability 3 drug orders in the pharmacy at any one time\n",
    "\n",
    "Steady state probabilities are given by\n",
    "\n",
    "\\begin{equation*}\n",
    "P_0 = \\left[ \\sum_{n=0}^{s-1} \\frac{\\left(\\lambda/ \\mu \\right)^n}{n!} + \\frac{\\left( \\lambda / \\mu \\right)^s}{s!\\left(1-\\rho\\right)}  \\right]^{-1}\n",
    "\\label{eq:p0} \\tag{2}\n",
    "\\end{equation*}\n",
    "\n",
    "\n",
    "\\begin{equation}\n",
    "  P_n = \\left\\{\n",
    "    \\begin{array}{l}\n",
    "      \\dfrac{\\left( \\lambda / \\mu \\right)^n}{n!}p_0,   \\>\\>\\>\\>  n \\leq s\\\\ \\\\\n",
    "      \\dfrac{\\left( \\lambda / \\mu \\right)^n}{s!s^{n-s}}p_0,  \\>\\>\\>\\> n > s\n",
    "    \\end{array}\n",
    "  \\right.\n",
    "\\label{eq:pn} \\tag{3} \n",
    "\\end{equation}"
   ]
  },
  {
   "cell_type": "code",
   "execution_count": 79,
   "metadata": {},
   "outputs": [],
   "source": [
    "def prob_system_empty(_lambda, mu, s):\n",
    "    '''\n",
    "    The probability that a M/M/s/infinity queue is empty\n",
    "    '''\n",
    "    p0 = 0.0\n",
    "    rho = traffic_intensity(_lambda, mu, s)\n",
    "    \n",
    "    for n in range(s):\n",
    "        p0 += ((_lambda / mu) ** n) / math.factorial(n)\n",
    "\n",
    "    p0 += ((_lambda / mu) ** s) / (math.factorial(s) * (1 - rho))\n",
    "    return p0**-1"
   ]
  },
  {
   "cell_type": "code",
   "execution_count": 80,
   "metadata": {},
   "outputs": [
    {
     "name": "stdout",
     "output_type": "stream",
     "text": [
      "p0 = 0.03\n"
     ]
    }
   ],
   "source": [
    "p0 = prob_system_empty(LAMBDA, MU, S)\n",
    "print(f'p0 = {p0:.2f}')"
   ]
  },
  {
   "cell_type": "code",
   "execution_count": 81,
   "metadata": {},
   "outputs": [],
   "source": [
    "def prob_n_in_system(n, _lambda, mu, s, return_all_solutions=True):\n",
    "    '''\n",
    "    Calculate the probability that n customers\n",
    "    in the system (queuing + service)\n",
    "    \n",
    "    Parameters:\n",
    "    --------\n",
    "    n: int,\n",
    "        Number of customers in the system\n",
    "    \n",
    "    _lambda: float\n",
    "        Mean arrival rate to system\n",
    "        \n",
    "    mu: float\n",
    "        Mean service rate\n",
    "        \n",
    "    s: int\n",
    "        number of servers\n",
    "        \n",
    "    return_all_solutions: bool, optional (default=True)\n",
    "        Returns all solutions for 0,1 ... n\n",
    "        \n",
    "    Returns:\n",
    "    ------\n",
    "        np.ndarray of solutions\n",
    "    \n",
    "    '''\n",
    "    p0 = prob_system_empty(_lambda, mu, s)\n",
    "    probs = [p0]\n",
    "    \n",
    "    #for n <= s\n",
    "    for i in range(1, min(s+1, n+1)):\n",
    "        pn = (((_lambda / mu)**i) / math.factorial(i)) * p0\n",
    "        probs.append(pn)\n",
    "        \n",
    "    #for n > s\n",
    "    for i in range(s+1, n+1):\n",
    "        pn = (((_lambda / mu)**i) / (math.factorial(s) * (s**(n-s)))) * p0\n",
    "        probs.append(pn)\n",
    "    \n",
    "    if return_all_solutions:\n",
    "        return np.array(probs)\n",
    "    else:\n",
    "        return probs[:-1]"
   ]
  },
  {
   "cell_type": "code",
   "execution_count": 82,
   "metadata": {},
   "outputs": [
    {
     "data": {
      "text/plain": [
       "array([0.02803738, 0.07476636, 0.09968847, 0.08861198])"
      ]
     },
     "execution_count": 82,
     "metadata": {},
     "output_type": "execute_result"
    }
   ],
   "source": [
    "prob = prob_n_in_system(3, LAMBDA, MU, S)\n",
    "\n",
    "#returns: [p0, p1, p2, p3] => probabilities of 3 or less drug orders\n",
    "prob"
   ]
  },
  {
   "cell_type": "code",
   "execution_count": 83,
   "metadata": {},
   "outputs": [
    {
     "name": "stdout",
     "output_type": "stream",
     "text": [
      "P(X > 3) = 0.71\n"
     ]
    }
   ],
   "source": [
    "#prob.sum() => p(X <=3)\n",
    "more_than_three = 1 - prob.sum()\n",
    "print(f'P(X > 3) = {more_than_three:.2f}')"
   ]
  },
  {
   "cell_type": "markdown",
   "metadata": {},
   "source": [
    "### 2. Expected number of drug prescriptions waiting to be fullfilled\n",
    "\n",
    "\n",
    "$L_q$ = Expected number of customers in the queue for service\n",
    "\n",
    "\\begin{equation}\n",
    "L_q = \\frac{p_0\\left(\\lambda / \\mu \\right)^s \\rho}{s!\\left(1 - \\rho\\right)}\n",
    "\\tag{4}\n",
    "\\end{equation}"
   ]
  },
  {
   "cell_type": "code",
   "execution_count": 84,
   "metadata": {},
   "outputs": [],
   "source": [
    "def mean_queue_length(_lambda, mu, s):\n",
    "    '''\n",
    "    Mean length of queue Lq\n",
    "    '''\n",
    "    p0 = prob_system_empty(_lambda, mu, s)\n",
    "    rho = traffic_intensity(_lambda, mu, s)\n",
    "    \n",
    "    lq = (p0 * ((_lambda / mu)**s) * rho) / (math.factorial(s) * (1 - rho))\n",
    "    return lq"
   ]
  },
  {
   "cell_type": "code",
   "execution_count": 85,
   "metadata": {},
   "outputs": [],
   "source": [
    "lq = mean_queue_length(LAMBDA, MU, S)"
   ]
  },
  {
   "cell_type": "code",
   "execution_count": 86,
   "metadata": {},
   "outputs": [
    {
     "name": "stdout",
     "output_type": "stream",
     "text": [
      "lq = 0.71\n"
     ]
    }
   ],
   "source": [
    "print(f'lq = {lq:.2f}')"
   ]
  },
  {
   "cell_type": "markdown",
   "metadata": {},
   "source": [
    "### 3. Expected number of drug prescriptions in the system\n",
    "\n",
    "$L_s$ = Expected number of customers in the queue\n",
    "\n",
    "We have already calculated $L_q$ therefore we will use\n",
    "\n",
    "\\begin{equation}\n",
    "L_s = L_q + \\frac{\\lambda}{\\mu}\n",
    "\\tag{5}\n",
    "\\end{equation}"
   ]
  },
  {
   "cell_type": "code",
   "execution_count": 87,
   "metadata": {},
   "outputs": [],
   "source": [
    "ls = lq + (LAMBDA / MU)"
   ]
  },
  {
   "cell_type": "code",
   "execution_count": 88,
   "metadata": {},
   "outputs": [
    {
     "name": "stdout",
     "output_type": "stream",
     "text": [
      "Ls = 3.38\n"
     ]
    }
   ],
   "source": [
    "print(f'Ls = {ls:.2f}')"
   ]
  },
  {
   "cell_type": "markdown",
   "metadata": {},
   "source": [
    "### 4. Expected prescription turnaround time\n",
    "\n",
    "Using:\n",
    "\n",
    "\\begin{equation}\n",
    "L_s = \\lambda W_s = L_q\n",
    "\\tag{5}\n",
    "\\end{equation}"
   ]
  },
  {
   "cell_type": "code",
   "execution_count": 89,
   "metadata": {},
   "outputs": [],
   "source": [
    "ws = ls / LAMBDA"
   ]
  },
  {
   "cell_type": "code",
   "execution_count": 90,
   "metadata": {},
   "outputs": [
    {
     "name": "stdout",
     "output_type": "stream",
     "text": [
      "Ws = 0.08\n"
     ]
    }
   ],
   "source": [
    "print(f'Ws = {ws:.2f}')"
   ]
  }
 ],
 "metadata": {
  "kernelspec": {
   "display_name": "Python 3",
   "language": "python",
   "name": "python3"
  },
  "language_info": {
   "codemirror_mode": {
    "name": "ipython",
    "version": 3
   },
   "file_extension": ".py",
   "mimetype": "text/x-python",
   "name": "python",
   "nbconvert_exporter": "python",
   "pygments_lexer": "ipython3",
   "version": "3.7.3"
  }
 },
 "nbformat": 4,
 "nbformat_minor": 4
}
