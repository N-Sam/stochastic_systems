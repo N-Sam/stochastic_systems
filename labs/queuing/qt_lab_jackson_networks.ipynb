{
 "cells": [
  {
   "cell_type": "markdown",
   "metadata": {},
   "source": [
    "# Open Jackson Network Example"
   ]
  },
  {
   "cell_type": "code",
   "execution_count": 1,
   "metadata": {},
   "outputs": [],
   "source": [
    "#importing the scipy and numpy packages\n",
    "from scipy import linalg, math\n",
    "import numpy as np"
   ]
  },
  {
   "cell_type": "markdown",
   "metadata": {},
   "source": [
    "## The example queueing network\n",
    "\n",
    "**Question**: What is the expected number of customers in the entire queuing system?"
   ]
  },
  {
   "cell_type": "markdown",
   "metadata": {},
   "source": [
    "\n",
    "<img src=\"image/jn_example.png\" width=\"500\">"
   ]
  },
  {
   "cell_type": "markdown",
   "metadata": {},
   "source": [
    "## Step 1: Solve for $\\lambda_i$\n",
    "\n",
    "Given:\n",
    "\n",
    "\\begin{equation}\n",
    "        \\lambda_j = a_j + \\sum_{i=1}^m \\lambda_i p_{ij}\n",
    "    \\end{equation}\n",
    "    \n",
    "---\n",
    "\n",
    "Plug the $a_j$ and $p_{ij}$ figures into the equation for $\\lambda_j$ \n",
    "\n",
    "$$\\lambda_1 = 1 + 0.1\\lambda_2 + 0.4\\lambda_3 $$\n",
    "$$\\lambda_2 = 4 + 0.6\\lambda_1 + 0.4\\lambda_3 $$\n",
    "$$\\lambda_3 = 3 + 0.3\\lambda_1 + 0.3\\lambda_2 $$\n",
    "\n",
    "---\n",
    "(optional) rearrange the equations with $a_j$ on the RHS\n",
    "\n",
    "$$\\lambda_1 - 0.1\\lambda_2 - 0.4\\lambda_3 = 1$$\n",
    "$$-0.6\\lambda_1 + \\lambda_2 - 0.4\\lambda_3 = 4$$\n",
    "$$-0.3\\lambda_1 - 0.3\\lambda_2 + \\lambda_3 = 3$$\n",
    "\n",
    "---"
   ]
  },
  {
   "cell_type": "markdown",
   "metadata": {},
   "source": [
    "Express the system of equations describing arrival rates in matrix form.\n",
    "\n",
    "$$ \\begin{bmatrix} 1 & -0.1 & -0.4\\\\ -0.6 & 1 & -0.4 \\\\ -0.3 & -0.3 & 1 \\end{bmatrix} \\begin{bmatrix} \\lambda_1 \\\\ \\lambda_2 \\\\ \\lambda_3 \\end{bmatrix}= \\begin{bmatrix} 1\\\\ 4\\\\ 3 \\end{bmatrix}$$"
   ]
  },
  {
   "cell_type": "code",
   "execution_count": 2,
   "metadata": {},
   "outputs": [],
   "source": [
    "#create the matricies as numpy arrays\n",
    "a = np.array([[1, -0.1, -0.4], [-0.6, 1, -0.4], [-0.3, -0.3, 1]])\n",
    "b = np.array([1, 4, 3])"
   ]
  },
  {
   "cell_type": "code",
   "execution_count": 3,
   "metadata": {},
   "outputs": [
    {
     "data": {
      "text/plain": [
       "array([[ 1. , -0.1, -0.4],\n",
       "       [-0.6,  1. , -0.4],\n",
       "       [-0.3, -0.3,  1. ]])"
      ]
     },
     "execution_count": 3,
     "metadata": {},
     "output_type": "execute_result"
    }
   ],
   "source": [
    "a"
   ]
  },
  {
   "cell_type": "code",
   "execution_count": 4,
   "metadata": {},
   "outputs": [
    {
     "data": {
      "text/plain": [
       "array([1, 4, 3])"
      ]
     },
     "execution_count": 4,
     "metadata": {},
     "output_type": "execute_result"
    }
   ],
   "source": [
    "b"
   ]
  },
  {
   "cell_type": "markdown",
   "metadata": {},
   "source": [
    "## Solve for the unknowns\n",
    "\n",
    "To solve for the unknowns we need to take the dot product of the inverse of a and b\n",
    "\n",
    "$$\\begin{bmatrix} \\lambda_1 \\\\ \\lambda_2 \\\\ \\lambda_3 \\end{bmatrix} = \\begin{bmatrix} 1 & -0.1 & -0.4\\\\ -0.6 & 1 & -0.4 \\\\ -0.3 & -0.3 & 1 \\end{bmatrix}^{-1} \\begin{bmatrix} 1\\\\ 4\\\\ 3 \\end{bmatrix}$$"
   ]
  },
  {
   "cell_type": "code",
   "execution_count": 5,
   "metadata": {},
   "outputs": [
    {
     "data": {
      "text/plain": [
       "array([ 5. , 10. ,  7.5])"
      ]
     },
     "execution_count": 5,
     "metadata": {},
     "output_type": "execute_result"
    }
   ],
   "source": [
    "np.dot(linalg.inv(a), b)"
   ]
  },
  {
   "cell_type": "markdown",
   "metadata": {},
   "source": [
    "An alternative way to solve for the unknowns is to use linalg.solve"
   ]
  },
  {
   "cell_type": "code",
   "execution_count": 6,
   "metadata": {},
   "outputs": [
    {
     "data": {
      "text/plain": [
       "array([ 5. , 10. ,  7.5])"
      ]
     },
     "execution_count": 6,
     "metadata": {},
     "output_type": "execute_result"
    }
   ],
   "source": [
    "arrival_rate = linalg.solve(a, b)\n",
    "arrival_rate"
   ]
  },
  {
   "cell_type": "markdown",
   "metadata": {},
   "source": [
    "## Step 2: Calculate the traffic intensity\n",
    "\n",
    "$\\rho_i = \\dfrac{\\lambda_i} {s_i \\mu_i}$\n",
    "\n",
    "Remember that you are treating each queuing system as an independent M/M/s\n",
    "\n",
    "* Facility 1 is a M/M/1\n",
    "* Facility 2 is a M/M/2\n",
    "* Facility 3 is a M/M/1"
   ]
  },
  {
   "cell_type": "code",
   "execution_count": 7,
   "metadata": {},
   "outputs": [],
   "source": [
    "#your code goes here"
   ]
  },
  {
   "cell_type": "markdown",
   "metadata": {},
   "source": [
    "#### Example solution"
   ]
  },
  {
   "cell_type": "code",
   "execution_count": 8,
   "metadata": {},
   "outputs": [
    {
     "data": {
      "text/plain": [
       "array([0.5 , 0.5 , 0.75])"
      ]
     },
     "execution_count": 8,
     "metadata": {},
     "output_type": "execute_result"
    }
   ],
   "source": [
    "servers = np.array([1, 2, 1])\n",
    "service_rate = np.array([10, 10, 10])\n",
    "\n",
    "rho = arrival_rate / (servers * service_rate)\n",
    "rho"
   ]
  },
  {
   "cell_type": "markdown",
   "metadata": {},
   "source": [
    "## Step 3: Calculate the number of people in the queue\n",
    "\n",
    "For an M/M/1\n",
    "\n",
    "$L_s = \\dfrac{\\rho}{1 - \\rho}$\n",
    "\n",
    "and for an M/M/s\n",
    "\n",
    "$p_0 = \\left[ \\sum_{n=0}^{s-1} \\frac{\\left(\\lambda/ \\mu \\right)^n}{n!} + \\frac{\\left( \\lambda / \\mu \\right)^s}{s!\\left(1-\\rho\\right)}  \\right]^{-1}$\n",
    "\n",
    "$L_q = \\dfrac{p_o(\\lambda/\\mu)^s\\rho}{s!(1-\\rho)^2}$\n"
   ]
  },
  {
   "cell_type": "markdown",
   "metadata": {},
   "source": [
    "\n",
    "$L_s = L_q + \\dfrac{\\lambda}{\\mu}$\n"
   ]
  },
  {
   "cell_type": "code",
   "execution_count": 20,
   "metadata": {},
   "outputs": [],
   "source": [
    "#your code goes here"
   ]
  },
  {
   "cell_type": "markdown",
   "metadata": {},
   "source": [
    "#### Example solution"
   ]
  },
  {
   "cell_type": "code",
   "execution_count": 10,
   "metadata": {},
   "outputs": [],
   "source": [
    "def traffic_intensity(_lambda, mu, s):\n",
    "    '''\n",
    "    calculate the traffic intensity (server utilisation)\n",
    "    of an M/M/s queue\n",
    "    '''\n",
    "    return _lambda / (s * mu)\n",
    "\n",
    "def prob_system_empty(_lambda, mu, s):\n",
    "    '''\n",
    "    The probability that a M/M/s/infinity queue is empty\n",
    "    '''\n",
    "    p0 = 0.0\n",
    "    rho = traffic_intensity(_lambda, mu, s)\n",
    "    \n",
    "    for n in range(s):\n",
    "        p0 += ((_lambda / mu) ** n) / math.factorial(n)\n",
    "\n",
    "    p0 += ((_lambda / mu) ** s) / (math.factorial(s) * (1 - rho))\n",
    "    return p0**-1"
   ]
  },
  {
   "cell_type": "code",
   "execution_count": 11,
   "metadata": {},
   "outputs": [
    {
     "name": "stdout",
     "output_type": "stream",
     "text": [
      "Expected # of customers in service facility 1 = 1.00\n"
     ]
    }
   ],
   "source": [
    "#facilty 1 M/M/1\n",
    "ls1 = rho[0] / (1 - rho[0])\n",
    "print(f'Expected # of customers in service facility 1 = {ls1:.2f}')"
   ]
  },
  {
   "cell_type": "code",
   "execution_count": 13,
   "metadata": {},
   "outputs": [],
   "source": [
    "#facility 2 M/M/2\n",
    "lq = mean_queue_length(arrival_rate[1], service_rate[1], servers[1])"
   ]
  },
  {
   "cell_type": "code",
   "execution_count": 14,
   "metadata": {},
   "outputs": [
    {
     "name": "stdout",
     "output_type": "stream",
     "text": [
      "Expected # of customers in queue for facility 2 = 0.33\n"
     ]
    }
   ],
   "source": [
    "print(f'Expected # of customers in queue for facility 2 = {lq:.2f}')"
   ]
  },
  {
   "cell_type": "code",
   "execution_count": 15,
   "metadata": {},
   "outputs": [
    {
     "name": "stdout",
     "output_type": "stream",
     "text": [
      "Expected # of customers in service facility 2 = 1.33\n"
     ]
    }
   ],
   "source": [
    "ls2 = lq + arrival_rate[1] / service_rate[1]\n",
    "print(f'Expected # of customers in service facility 2 = {ls2:.2f}')"
   ]
  },
  {
   "cell_type": "code",
   "execution_count": 16,
   "metadata": {},
   "outputs": [
    {
     "name": "stdout",
     "output_type": "stream",
     "text": [
      "Expected # of customers in service facility 3 = 3.00\n"
     ]
    }
   ],
   "source": [
    "#facility 3 M/M/1\n",
    "ls3 = rho[2] / (1 - rho[2])\n",
    "print(f'Expected # of customers in service facility 3 = {ls3:.2f}')\n"
   ]
  },
  {
   "cell_type": "code",
   "execution_count": 18,
   "metadata": {},
   "outputs": [
    {
     "name": "stdout",
     "output_type": "stream",
     "text": [
      "Expected # of customers in queuing network = 5.33\n"
     ]
    }
   ],
   "source": [
    "#total in system\n",
    "total_in_system = ls1 + ls2 + ls3\n",
    "print(f'Expected # of customers in queuing network = {total_in_system:.2f}')"
   ]
  },
  {
   "cell_type": "code",
   "execution_count": 1,
   "metadata": {},
   "outputs": [
    {
     "data": {
      "text/plain": [
       "50.0"
      ]
     },
     "execution_count": 1,
     "metadata": {},
     "output_type": "execute_result"
    }
   ],
   "source": [
    "10000000/ 200000"
   ]
  },
  {
   "cell_type": "code",
   "execution_count": 2,
   "metadata": {},
   "outputs": [
    {
     "data": {
      "text/plain": [
       "0.041666666666666664"
      ]
     },
     "execution_count": 2,
     "metadata": {},
     "output_type": "execute_result"
    }
   ],
   "source": [
    "50/1200"
   ]
  },
  {
   "cell_type": "code",
   "execution_count": null,
   "metadata": {},
   "outputs": [],
   "source": []
  }
 ],
 "metadata": {
  "kernelspec": {
   "display_name": "Python 3",
   "language": "python",
   "name": "python3"
  },
  "language_info": {
   "codemirror_mode": {
    "name": "ipython",
    "version": 3
   },
   "file_extension": ".py",
   "mimetype": "text/x-python",
   "name": "python",
   "nbconvert_exporter": "python",
   "pygments_lexer": "ipython3",
   "version": "3.7.3"
  }
 },
 "nbformat": 4,
 "nbformat_minor": 4
}
