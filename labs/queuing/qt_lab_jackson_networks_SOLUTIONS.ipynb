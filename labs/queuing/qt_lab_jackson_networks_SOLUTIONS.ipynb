{
 "cells": [
  {
   "cell_type": "markdown",
   "metadata": {},
   "source": [
    "# Open Jackson Network Lab\n",
    "\n",
    "In the lab you will learn\n",
    "\n",
    "* How to represent arrival rates in a network as a system of linear equations in matrix form\n",
    "* How to use `scipy.linalg` functions to solve for the arrival rates\n",
    "* How to analyse the network"
   ]
  },
  {
   "cell_type": "code",
   "execution_count": 1,
   "metadata": {},
   "outputs": [],
   "source": [
    "#importing the scipy and numpy packages\n",
    "from scipy import linalg, math\n",
    "import numpy as np"
   ]
  },
  {
   "cell_type": "markdown",
   "metadata": {},
   "source": [
    "## The example queueing network\n",
    "\n",
    "**Question**: What is the expected number of customers in the entire queuing system?"
   ]
  },
  {
   "cell_type": "markdown",
   "metadata": {},
   "source": [
    "\n",
    "<img src=\"image/jn_example.png\" width=\"500\">"
   ]
  },
  {
   "cell_type": "markdown",
   "metadata": {},
   "source": [
    "## Step 1: Solve for $\\lambda_i$\n",
    "\n",
    "Given:\n",
    "\n",
    "\\begin{equation}\n",
    "        \\lambda_j = a_j + \\sum_{i=1}^m \\lambda_i p_{ij}\n",
    "    \\end{equation}\n",
    "    \n",
    "---\n",
    "\n",
    "Plug the $a_j$ and $p_{ij}$ figures into the equation for $\\lambda_j$ \n",
    "\n",
    "$$\\lambda_1 = 1 + 0.1\\lambda_2 + 0.4\\lambda_3 $$\n",
    "$$\\lambda_2 = 4 + 0.6\\lambda_1 + 0.4\\lambda_3 $$\n",
    "$$\\lambda_3 = 3 + 0.3\\lambda_1 + 0.3\\lambda_2 $$\n",
    "\n",
    "---\n",
    "(optional) rearrange the equations with $a_j$ on the RHS\n",
    "\n",
    "$$\\lambda_1 - 0.1\\lambda_2 - 0.4\\lambda_3 = 1$$\n",
    "$$-0.6\\lambda_1 + \\lambda_2 - 0.4\\lambda_3 = 4$$\n",
    "$$-0.3\\lambda_1 - 0.3\\lambda_2 + \\lambda_3 = 3$$\n",
    "\n",
    "---"
   ]
  },
  {
   "cell_type": "markdown",
   "metadata": {},
   "source": [
    "Express the system of equations describing arrival rates in matrix form.\n",
    "\n",
    "$$ \\begin{bmatrix} 1 & -0.1 & -0.4\\\\ -0.6 & 1 & -0.4 \\\\ -0.3 & -0.3 & 1 \\end{bmatrix} \\begin{bmatrix} \\lambda_1 \\\\ \\lambda_2 \\\\ \\lambda_3 \\end{bmatrix}= \\begin{bmatrix} 1\\\\ 4\\\\ 3 \\end{bmatrix}$$"
   ]
  },
  {
   "cell_type": "code",
   "execution_count": 2,
   "metadata": {},
   "outputs": [],
   "source": [
    "#create the matricies as numpy arrays\n",
    "a = np.array([[1, -0.1, -0.4], [-0.6, 1, -0.4], [-0.3, -0.3, 1]])\n",
    "b = np.array([1, 4, 3])"
   ]
  },
  {
   "cell_type": "code",
   "execution_count": 3,
   "metadata": {},
   "outputs": [
    {
     "data": {
      "text/plain": [
       "array([[ 1. , -0.1, -0.4],\n",
       "       [-0.6,  1. , -0.4],\n",
       "       [-0.3, -0.3,  1. ]])"
      ]
     },
     "execution_count": 3,
     "metadata": {},
     "output_type": "execute_result"
    }
   ],
   "source": [
    "a"
   ]
  },
  {
   "cell_type": "code",
   "execution_count": 4,
   "metadata": {},
   "outputs": [
    {
     "data": {
      "text/plain": [
       "array([1, 4, 3])"
      ]
     },
     "execution_count": 4,
     "metadata": {},
     "output_type": "execute_result"
    }
   ],
   "source": [
    "b"
   ]
  },
  {
   "cell_type": "markdown",
   "metadata": {},
   "source": [
    "## Solve for the unknowns\n",
    "\n",
    "To solve for the unknowns we need to take the dot product of the inverse of a and b\n",
    "\n",
    "$$\\begin{bmatrix} \\lambda_1 \\\\ \\lambda_2 \\\\ \\lambda_3 \\end{bmatrix} = \\begin{bmatrix} 1 & -0.1 & -0.4\\\\ -0.6 & 1 & -0.4 \\\\ -0.3 & -0.3 & 1 \\end{bmatrix}^{-1} \\begin{bmatrix} 1\\\\ 4\\\\ 3 \\end{bmatrix}$$"
   ]
  },
  {
   "cell_type": "code",
   "execution_count": 5,
   "metadata": {},
   "outputs": [
    {
     "data": {
      "text/plain": [
       "array([ 5. , 10. ,  7.5])"
      ]
     },
     "execution_count": 5,
     "metadata": {},
     "output_type": "execute_result"
    }
   ],
   "source": [
    "np.dot(linalg.inv(a), b)"
   ]
  },
  {
   "cell_type": "markdown",
   "metadata": {},
   "source": [
    "An alternative way to solve for the unknowns is to use linalg.solve"
   ]
  },
  {
   "cell_type": "code",
   "execution_count": 6,
   "metadata": {},
   "outputs": [
    {
     "data": {
      "text/plain": [
       "array([ 5. , 10. ,  7.5])"
      ]
     },
     "execution_count": 6,
     "metadata": {},
     "output_type": "execute_result"
    }
   ],
   "source": [
    "arrival_rate = linalg.solve(a, b)\n",
    "arrival_rate"
   ]
  },
  {
   "cell_type": "markdown",
   "metadata": {},
   "source": [
    "## Step 2: Calculate the traffic intensity\n",
    "\n",
    "$\\rho_i = \\dfrac{\\lambda_i} {s_i \\mu_i}$\n",
    "\n",
    "Remember that you are treating each queuing system as an independent M/M/s\n",
    "\n",
    "* Facility 1 is a M/M/1\n",
    "* Facility 2 is a M/M/2\n",
    "* Facility 3 is a M/M/1"
   ]
  },
  {
   "cell_type": "code",
   "execution_count": null,
   "metadata": {},
   "outputs": [],
   "source": [
    "#your code goes here"
   ]
  },
  {
   "cell_type": "markdown",
   "metadata": {},
   "source": [
    "## Step 3: Calculate the number of people in the queue\n",
    "\n",
    "For an M/M/1\n",
    "\n",
    "$L_s = \\dfrac{\\rho}{1 - \\rho}$\n",
    "\n",
    "and for an M/M/s\n",
    "\n",
    "$p_0 = \\left[ \\sum_{n=0}^{s-1} \\frac{\\left(\\lambda/ \\mu \\right)^n}{n!} + \\frac{\\left( \\lambda / \\mu \\right)^s}{s!\\left(1-\\rho\\right)}  \\right]^{-1}$\n",
    "\n",
    "$L_q = \\dfrac{p_o(\\lambda/\\mu)^s\\rho}{s!(1-\\rho)^2}$\n"
   ]
  },
  {
   "cell_type": "markdown",
   "metadata": {},
   "source": [
    "\n",
    "$L_s = L_q + \\dfrac{\\lambda}{\\mu}$\n"
   ]
  },
  {
   "cell_type": "code",
   "execution_count": null,
   "metadata": {},
   "outputs": [],
   "source": [
    "#your code goes here"
   ]
  }
 ],
 "metadata": {
  "kernelspec": {
   "display_name": "Python 3",
   "language": "python",
   "name": "python3"
  },
  "language_info": {
   "codemirror_mode": {
    "name": "ipython",
    "version": 3
   },
   "file_extension": ".py",
   "mimetype": "text/x-python",
   "name": "python",
   "nbconvert_exporter": "python",
   "pygments_lexer": "ipython3",
   "version": "3.7.3"
  }
 },
 "nbformat": 4,
 "nbformat_minor": 4
}
