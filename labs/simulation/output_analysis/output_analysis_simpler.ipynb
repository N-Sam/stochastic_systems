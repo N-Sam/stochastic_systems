{
 "cells": [
  {
   "cell_type": "markdown",
   "metadata": {},
   "source": [
    "# Computer Simulation: Output Analysis\n",
    "\n",
    "**In the lab you will learn how to :**\n",
    "\n",
    "* how to perform multiple replications of a simulation model implemented in `simpy`.\n",
    "* how to estimate and use warm-up period of a non-terminating simulation model.\n",
    "* how to select the number of replications to run of a single scenario.\n",
    "* how to compare multiple competing scenarios\n",
    "\n",
    "-----"
   ]
  },
  {
   "cell_type": "markdown",
   "metadata": {},
   "source": [
    "# Imports\n",
    "\n",
    "Please use the provided `hds_stoch` environment for this work.  "
   ]
  },
  {
   "cell_type": "code",
   "execution_count": 1,
   "metadata": {},
   "outputs": [
    {
     "data": {
      "text/plain": [
       "'4.0.1'"
      ]
     },
     "execution_count": 1,
     "metadata": {},
     "output_type": "execute_result"
    }
   ],
   "source": [
    "#!pip install simpy~\n",
    "\n",
    "import simpy\n",
    "simpy.__version__"
   ]
  },
  {
   "cell_type": "markdown",
   "metadata": {},
   "source": [
    "# Standard imports"
   ]
  },
  {
   "cell_type": "code",
   "execution_count": 2,
   "metadata": {},
   "outputs": [],
   "source": [
    "import numpy as np\n",
    "import pandas as pd\n",
    "import itertools\n",
    "import math\n",
    "import matplotlib.pyplot as plt\n",
    "from scipy.stats import t"
   ]
  },
  {
   "cell_type": "markdown",
   "metadata": {},
   "source": [
    "# Import model classes"
   ]
  },
  {
   "cell_type": "code",
   "execution_count": 3,
   "metadata": {},
   "outputs": [],
   "source": [
    "from hds_simpy.models.UrgentCareCallCentre import (UrgentCareCallCentre, \n",
    "                                                   Auditor,\n",
    "                                                   Scenario, run_results)"
   ]
  },
  {
   "cell_type": "markdown",
   "metadata": {},
   "source": [
    "# Test single run of the model"
   ]
  },
  {
   "cell_type": "code",
   "execution_count": 4,
   "metadata": {},
   "outputs": [
    {
     "name": "stdout",
     "output_type": "stream",
     "text": [
      "end of run. simulation clock time = 1440\n",
      "\n",
      "Single run results\n",
      "-------------------\n",
      "                    estimate\n",
      "mean_queue_ops      5.340426\n",
      "mean_queue_nurse    2.765957\n",
      "mean_system_ops    17.872340\n",
      "mean_system_nurse  12.829787\n",
      "mean_nurse_wait     4.160545\n",
      "mean_wait           3.264443\n",
      "nurse_util          0.917929\n",
      "ops_util            0.962040\n"
     ]
    }
   ],
   "source": [
    "FIRST_OBS = 30\n",
    "OBS_INTERVAL = 30\n",
    "\n",
    "env = simpy.Environment()\n",
    "args = Scenario()\n",
    "\n",
    "\n",
    "#create an instance of the model\n",
    "model = UrgentCareCallCentre(env, args)\n",
    "\n",
    "#create model auditor\n",
    "auditor = Auditor(env, first_obs=FIRST_OBS, interval=OBS_INTERVAL)\n",
    "auditor.add_resource_to_audit(args.operators, 'ops')\n",
    "auditor.add_resource_to_audit(args.nurses, 'nurse')\n",
    "\n",
    "#run the model\n",
    "model.run()\n",
    "\n",
    "print(f'end of run. simulation clock time = {env.now}')\n",
    "print('\\nSingle run results\\n-------------------')\n",
    "results_summary = run_results(model, auditor)\n",
    "print(results_summary)"
   ]
  },
  {
   "cell_type": "markdown",
   "metadata": {},
   "source": [
    "---\n",
    "# Exercise 1: Performing a single run of the model.\n",
    "\n",
    "This exercise is a reminder of how to perform a single run of the model and how to organise your code in functions.  You will see the real benefit of using functions in exercise 2.  You will analyse the base scenario using the default parameters.\n",
    "\n",
    "## Using classes and functions to organise results collection and experimentation.\n",
    "\n",
    "**As a reminder**, in practice, it is a good idea to use classes functions to organise the running of your model.\n",
    "\n",
    "### `model_performance_measures()`\n",
    "The function `model_performance_measures` accepts an instance of `MinorInjuryUnit` as a parameter. It then assumes this model has been run and calculates the `mean_time_in_system` and other performance measures.  For now ignore the `warmup` parameter.  You will learn how to use it in the next section.\n",
    "\n",
    "\n",
    "### `single_model_run()`\n",
    "\n",
    "The function `single_model_run` accepts a parameter `scenario` which contains all of the parameters you wish to use for the run.  It also accepts a parameters called `results_collection_period` that refers to the length of time the model will be run.  Again you don't need to do anything with `warmup` (default=0), but note that the `results_collection_period` + `warmup` = your models **run length**.  When the model run is complete the function calls `model_performance_measures` and returns the desired performance measures. \n",
    "\n",
    "\n",
    "**Task**\n",
    "* Read and check you understand the functions and script provided.\n",
    "* Run the code below to create the functions and then run the script.  This will output the results of a single run."
   ]
  },
  {
   "cell_type": "code",
   "execution_count": 5,
   "metadata": {},
   "outputs": [],
   "source": [
    "def single_model_run(scenario, results_collection_period, warm_up=0, \n",
    "                     include_audit=False, audit_interval=60,\n",
    "                     random_no_set=1):\n",
    "    '''\n",
    "    Perform a single run of the model and return the results\n",
    "    \n",
    "    Parameters:\n",
    "    -----------\n",
    "    \n",
    "    scenario: Scenario object\n",
    "        The scenario/paramaters to run\n",
    "        \n",
    "    results_collection_period: int\n",
    "        The length of the simulation run that collects results\n",
    "        \n",
    "    include_audit: bool, optional (default=False)\n",
    "        Audit the model during its run\n",
    "        \n",
    "    audit_interval: int, optional (default=60)\n",
    "        during between audits as the model runs.\n",
    "        \n",
    "    Returns:\n",
    "    --------\n",
    "        Tuple:\n",
    "        (mean_time_in_system, mean_time_to_nurse, mean_time_to_triage,\n",
    "         four_hours)\n",
    "    '''\n",
    "    \n",
    "    FIRST_OBS = 30\n",
    "    OBS_INTERVAL = 30\n",
    "\n",
    "    #simulation environment\n",
    "    env = simpy.Environment()\n",
    "        \n",
    "    #set random number set\n",
    "    scenario.set_random_no_set(random_no_set)\n",
    "\n",
    "    #create an instance of the model\n",
    "    model = UrgentCareCallCentre(env, scenario)\n",
    "\n",
    "    #create model auditor\n",
    "    auditor = Auditor(env, first_obs=audit_interval, \n",
    "                           interval=audit_interval)\n",
    "    auditor.add_resource_to_audit(scenario.operators, 'ops')\n",
    "    auditor.add_resource_to_audit(scenario.nurses, 'nurse')\n",
    "\n",
    "    #run the model\n",
    "    model.run(results_collection_period, warm_up)\n",
    "    \n",
    "    results_summary = run_results(model, auditor)\n",
    "    \n",
    "    return results_summary.T"
   ]
  },
  {
   "cell_type": "markdown",
   "metadata": {},
   "source": [
    "### Script to run the scenarios."
   ]
  },
  {
   "cell_type": "code",
   "execution_count": 6,
   "metadata": {},
   "outputs": [
    {
     "name": "stdout",
     "output_type": "stream",
     "text": [
      "Running simulation ... \n",
      "\n",
      "\n",
      "simulation complete.\n",
      "\n",
      "\n"
     ]
    },
    {
     "data": {
      "text/html": [
       "<div>\n",
       "<style scoped>\n",
       "    .dataframe tbody tr th:only-of-type {\n",
       "        vertical-align: middle;\n",
       "    }\n",
       "\n",
       "    .dataframe tbody tr th {\n",
       "        vertical-align: top;\n",
       "    }\n",
       "\n",
       "    .dataframe thead th {\n",
       "        text-align: right;\n",
       "    }\n",
       "</style>\n",
       "<table border=\"1\" class=\"dataframe\">\n",
       "  <thead>\n",
       "    <tr style=\"text-align: right;\">\n",
       "      <th></th>\n",
       "      <th>mean_queue_ops</th>\n",
       "      <th>mean_queue_nurse</th>\n",
       "      <th>mean_system_ops</th>\n",
       "      <th>mean_system_nurse</th>\n",
       "      <th>mean_nurse_wait</th>\n",
       "      <th>mean_wait</th>\n",
       "      <th>nurse_util</th>\n",
       "      <th>ops_util</th>\n",
       "    </tr>\n",
       "  </thead>\n",
       "  <tbody>\n",
       "    <tr>\n",
       "      <th>estimate</th>\n",
       "      <td>4.91</td>\n",
       "      <td>3.22</td>\n",
       "      <td>17.43</td>\n",
       "      <td>13.17</td>\n",
       "      <td>4.16</td>\n",
       "      <td>3.26</td>\n",
       "      <td>0.92</td>\n",
       "      <td>0.96</td>\n",
       "    </tr>\n",
       "  </tbody>\n",
       "</table>\n",
       "</div>"
      ],
      "text/plain": [
       "          mean_queue_ops  mean_queue_nurse  mean_system_ops  \\\n",
       "estimate            4.91              3.22            17.43   \n",
       "\n",
       "          mean_system_nurse  mean_nurse_wait  mean_wait  nurse_util  ops_util  \n",
       "estimate              13.17             4.16       3.26        0.92      0.96  "
      ]
     },
     "execution_count": 6,
     "metadata": {},
     "output_type": "execute_result"
    }
   ],
   "source": [
    "RUN_LENGTH = 1440\n",
    "TRACE = False\n",
    "\n",
    "#default scenario\n",
    "default_args = Scenario()\n",
    "default_args.set_random_no_set(1)\n",
    "\n",
    "#loop through each scenario and store results in a dict\n",
    "print('Running simulation ... \\n\\n')\n",
    "results = {}\n",
    "results['base'] = single_model_run(default_args, RUN_LENGTH)\n",
    "print('simulation complete.\\n\\n')\n",
    "\n",
    "#convert results to dataframe and printout\n",
    "results['base'].round(2)"
   ]
  },
  {
   "cell_type": "markdown",
   "metadata": {},
   "source": [
    "# Exercise 2: Performing multiple replications of a single scenario\n",
    "\n",
    "Here is where the benefit of using functions to organise your experimentation really pays off!  To perform multiple replications we just need to call `single_model_run` multiple times in a loop.\n",
    "\n",
    "**Task**:\n",
    "\n",
    "* Create a function called `multiple_replications`.  The function should accept the following parameters:\n",
    "   * scenario: `Scenario` - Parameters/arguments to configurethe model\n",
    "   * runlength: `int` - number of minutes to run the model in simulated time\n",
    "   * n_reps: `int`, optional (default=5) - Number of independent replications to run.\n",
    "* The purpose of `multiple_replications` is to conduct `n_reps` independent replications of the MIU model.\n",
    "* The function should return a list of results.\n",
    "* After coding the function make use of the script provided to run 5 independent replications of the MIU model and output the value of each performance measure in each replication.\n",
    "\n",
    "**Questions**\n",
    "* What is the mean performance of the model with 5 replications?\n",
    "\n",
    "**Hints**\n",
    "* Try calling `single_model_run` in a for loop\n",
    "* Alternatively you could make use of a list comprehension.\n",
    "\n"
   ]
  },
  {
   "cell_type": "code",
   "execution_count": 7,
   "metadata": {},
   "outputs": [],
   "source": [
    "#your code here...\n"
   ]
  },
  {
   "cell_type": "code",
   "execution_count": 8,
   "metadata": {},
   "outputs": [],
   "source": [
    "#example solution\n",
    "def multiple_replications(scenario, results_collection_period, warm_up=0,\n",
    "                          n_reps=5):\n",
    "    '''\n",
    "    Perform multiple replications of the MIU model.\n",
    "    \n",
    "    Params:\n",
    "    ------\n",
    "    scenario: Scenario\n",
    "        Parameters/arguments to configurethe model\n",
    "    \n",
    "    runlength: int\n",
    "        number of minutes to run the model in simulated time\n",
    "        \n",
    "    n_reps: int, optional (default=5)\n",
    "        Number of independent replications to run.\n",
    "        \n",
    "    Returns:\n",
    "    --------\n",
    "    List\n",
    "    '''\n",
    "    results = [single_model_run(scenario, results_collection_period, warm_up,\n",
    "                                random_no_set=rep) \n",
    "               for rep in range(n_reps)]\n",
    "    return results\n",
    "        "
   ]
  },
  {
   "cell_type": "code",
   "execution_count": 9,
   "metadata": {},
   "outputs": [
    {
     "name": "stdout",
     "output_type": "stream",
     "text": [
      "Running simulation ... \n",
      "\n",
      "\n"
     ]
    },
    {
     "data": {
      "text/html": [
       "<div>\n",
       "<style scoped>\n",
       "    .dataframe tbody tr th:only-of-type {\n",
       "        vertical-align: middle;\n",
       "    }\n",
       "\n",
       "    .dataframe tbody tr th {\n",
       "        vertical-align: top;\n",
       "    }\n",
       "\n",
       "    .dataframe thead th {\n",
       "        text-align: right;\n",
       "    }\n",
       "</style>\n",
       "<table border=\"1\" class=\"dataframe\">\n",
       "  <thead>\n",
       "    <tr style=\"text-align: right;\">\n",
       "      <th></th>\n",
       "      <th>mean_queue_ops</th>\n",
       "      <th>mean_queue_nurse</th>\n",
       "      <th>mean_system_ops</th>\n",
       "      <th>mean_system_nurse</th>\n",
       "      <th>mean_nurse_wait</th>\n",
       "      <th>mean_wait</th>\n",
       "      <th>nurse_util</th>\n",
       "      <th>ops_util</th>\n",
       "    </tr>\n",
       "    <tr>\n",
       "      <th>rep</th>\n",
       "      <th></th>\n",
       "      <th></th>\n",
       "      <th></th>\n",
       "      <th></th>\n",
       "      <th></th>\n",
       "      <th></th>\n",
       "      <th></th>\n",
       "      <th></th>\n",
       "    </tr>\n",
       "  </thead>\n",
       "  <tbody>\n",
       "    <tr>\n",
       "      <th>1</th>\n",
       "      <td>9.565</td>\n",
       "      <td>2.957</td>\n",
       "      <td>22.304</td>\n",
       "      <td>13.652</td>\n",
       "      <td>4.060</td>\n",
       "      <td>5.127</td>\n",
       "      <td>0.949</td>\n",
       "      <td>0.967</td>\n",
       "    </tr>\n",
       "    <tr>\n",
       "      <th>2</th>\n",
       "      <td>4.913</td>\n",
       "      <td>3.217</td>\n",
       "      <td>17.435</td>\n",
       "      <td>13.174</td>\n",
       "      <td>4.161</td>\n",
       "      <td>3.264</td>\n",
       "      <td>0.918</td>\n",
       "      <td>0.962</td>\n",
       "    </tr>\n",
       "    <tr>\n",
       "      <th>3</th>\n",
       "      <td>6.957</td>\n",
       "      <td>4.696</td>\n",
       "      <td>19.391</td>\n",
       "      <td>14.739</td>\n",
       "      <td>6.484</td>\n",
       "      <td>3.925</td>\n",
       "      <td>0.918</td>\n",
       "      <td>0.945</td>\n",
       "    </tr>\n",
       "    <tr>\n",
       "      <th>4</th>\n",
       "      <td>4.783</td>\n",
       "      <td>1.130</td>\n",
       "      <td>17.043</td>\n",
       "      <td>10.522</td>\n",
       "      <td>2.652</td>\n",
       "      <td>2.771</td>\n",
       "      <td>0.891</td>\n",
       "      <td>0.934</td>\n",
       "    </tr>\n",
       "    <tr>\n",
       "      <th>5</th>\n",
       "      <td>4.304</td>\n",
       "      <td>1.652</td>\n",
       "      <td>16.522</td>\n",
       "      <td>11.391</td>\n",
       "      <td>2.332</td>\n",
       "      <td>2.250</td>\n",
       "      <td>0.894</td>\n",
       "      <td>0.936</td>\n",
       "    </tr>\n",
       "  </tbody>\n",
       "</table>\n",
       "</div>"
      ],
      "text/plain": [
       "     mean_queue_ops  mean_queue_nurse  mean_system_ops  mean_system_nurse  \\\n",
       "rep                                                                         \n",
       "1             9.565             2.957           22.304             13.652   \n",
       "2             4.913             3.217           17.435             13.174   \n",
       "3             6.957             4.696           19.391             14.739   \n",
       "4             4.783             1.130           17.043             10.522   \n",
       "5             4.304             1.652           16.522             11.391   \n",
       "\n",
       "     mean_nurse_wait  mean_wait  nurse_util  ops_util  \n",
       "rep                                                    \n",
       "1              4.060      5.127       0.949     0.967  \n",
       "2              4.161      3.264       0.918     0.962  \n",
       "3              6.484      3.925       0.918     0.945  \n",
       "4              2.652      2.771       0.891     0.934  \n",
       "5              2.332      2.250       0.894     0.936  "
      ]
     },
     "execution_count": 9,
     "metadata": {},
     "output_type": "execute_result"
    }
   ],
   "source": [
    "RUN_LENGTH = 1440\n",
    "TRACE = False\n",
    "N_REPS = 5\n",
    "\n",
    "#default scenario\n",
    "default_args = Scenario()\n",
    "\n",
    "#loop through each scenario and store results in a dict\n",
    "print('Running simulation ... \\n\\n')\n",
    "results = {}\n",
    "results['base'] = multiple_replications(default_args, RUN_LENGTH, n_reps=5)\n",
    "\n",
    "#convert results to dataframe and printout\n",
    "base_results = pd.concat(results['base'])\n",
    "base_results.index = np.arange(1, len(base_results)+1)\n",
    "base_results.index.name = 'rep'\n",
    "base_results.round(3)"
   ]
  },
  {
   "cell_type": "code",
   "execution_count": 10,
   "metadata": {},
   "outputs": [
    {
     "data": {
      "text/plain": [
       "mean_queue_ops        6.104348\n",
       "mean_queue_nurse      2.730435\n",
       "mean_system_ops      18.539130\n",
       "mean_system_nurse    12.695652\n",
       "mean_nurse_wait       3.937800\n",
       "mean_wait             3.467253\n",
       "nurse_util            0.913974\n",
       "ops_util              0.948982\n",
       "dtype: float64"
      ]
     },
     "execution_count": 10,
     "metadata": {},
     "output_type": "execute_result"
    }
   ],
   "source": [
    "#mean results\n",
    "base_results.mean()"
   ]
  },
  {
   "cell_type": "markdown",
   "metadata": {},
   "source": [
    "# Exercise 3: Estimating and including a the warm-up period in the model.\n",
    "\n",
    "Our MIU model is a non-terminating simulation.  To estimate a warm-up period of the model we will use the **time series inspection approach**.  We will run 5 replications of the model and plot the mean performance measures over time.  We the choose a warm-up that allows the model to approximately settle to a steady state.\n",
    "\n",
    "**Task:**\n",
    "* Using the functions you have created \n"
   ]
  },
  {
   "cell_type": "code",
   "execution_count": 11,
   "metadata": {},
   "outputs": [],
   "source": [
    "def warmup_metrics(model):\n",
    "    #waiting time = sum(waiting times) / no. patients\n",
    "    mean_waiting_time = np.array([patient.waiting_time \n",
    "                                  for patient in model.patients]).mean()\n",
    "\n",
    "\n",
    "    #operator utilisation = sum(call durations) / (run length X no. operators)\n",
    "    util = np.array([patient.call_duration \n",
    "                     for patient in model.patients]).sum() / \\\n",
    "                     (model.env.now * model.args.n_operators)\n",
    "    \n",
    "    #nurse waiting time \n",
    "    nurse_waiting_time = np.array([patient.waiting_time_nurse \n",
    "                                  for patient in model.patients\n",
    "                                  if patient.callback]).mean()\n",
    "   \n",
    "    \n",
    "    #nurse utilisation = sum(call durations) / (run length X no. operators)\n",
    "    nurse_util = np.array([patient.nurse_call_duration \n",
    "                          for patient in model.patients if patient.callback]).sum() / \\\n",
    "                          (model.env.now * model.args.n_nurses)\n",
    "    \n",
    "    return mean_waiting_time, util, nurse_waiting_time, nurse_util\n"
   ]
  },
  {
   "cell_type": "code",
   "execution_count": 12,
   "metadata": {},
   "outputs": [],
   "source": [
    "class WarmupAuditor():\n",
    "    '''\n",
    "    Warmup Auditor for the model.\n",
    "    \n",
    "    Stores the cumulative means for:\n",
    "    1. operator waiting time\n",
    "    2. nurse waiting time\n",
    "    3. operator utilisation\n",
    "    4. nurse utilitsation.\n",
    "    \n",
    "    '''\n",
    "    def __init__(self, env, model, interval):\n",
    "        self.env = env\n",
    "        self.model = model\n",
    "        self.interval = interval\n",
    "        self.wait_for_operator = []\n",
    "        self.wait_for_nurse = []\n",
    "        self.operator_util = []\n",
    "        self.nurse_util = []\n",
    "\n",
    "    def audit_model(self):\n",
    "        for i in itertools.count():\n",
    "            yield self.env.timeout(self.interval)\n",
    "\n",
    "            #Performance metrics\n",
    "\n",
    "            #get the performance metrics at this time.\n",
    "            mean_waiting_time, util, nurse_waiting_time, nurse_util \\\n",
    "                = warmup_metrics(self.model)\n",
    "            \n",
    "            #store the metrics\n",
    "            self.wait_for_operator.append(mean_waiting_time)\n",
    "            self.wait_for_nurse.append(nurse_waiting_time)\n",
    "            self.operator_util.append(util)\n",
    "            self.nurse_util.append(nurse_util)\n",
    "\n",
    "        return results"
   ]
  },
  {
   "cell_type": "code",
   "execution_count": 13,
   "metadata": {},
   "outputs": [],
   "source": [
    "def warm_up_single_run(scenario, results_collection_period, \n",
    "                       audit_interval=240, random_no_set=1):\n",
    "    '''\n",
    "    Perform a single run of the model as part of the warm-up\n",
    "    analysis.\n",
    "    \n",
    "    Parameters:\n",
    "    -----------\n",
    "    \n",
    "    scenario: Scenario object\n",
    "        The scenario/paramaters to run\n",
    "        \n",
    "    results_collection_period: int\n",
    "        The length of the simulation run that collects results\n",
    "               \n",
    "    audit_interval: int, optional (default=60)\n",
    "        during between audits as the model runs.\n",
    "        \n",
    "    Returns:\n",
    "    --------\n",
    "        Tuple:\n",
    "        (mean_time_in_system, mean_time_to_nurse, mean_time_to_triage,\n",
    "         four_hours)\n",
    "    '''\n",
    "    \n",
    "    #simulation environment\n",
    "    env = simpy.Environment()\n",
    "        \n",
    "    #set random number set\n",
    "    scenario.set_random_no_set(random_no_set)\n",
    "\n",
    "    #create an instance of the model\n",
    "    model = UrgentCareCallCentre(env, scenario)\n",
    "\n",
    "    #create warm-up model auditor\n",
    "    auditor = WarmupAuditor(env, model, audit_interval)\n",
    "    \n",
    "    #set up data collection for warmup variables.\n",
    "    env.process(auditor.audit_model())\n",
    "\n",
    "    #run the model\n",
    "    model.run(results_collection_period)\n",
    "        \n",
    "    return auditor"
   ]
  },
  {
   "cell_type": "code",
   "execution_count": 14,
   "metadata": {},
   "outputs": [],
   "source": [
    "from joblib import Parallel, delayed"
   ]
  },
  {
   "cell_type": "code",
   "execution_count": 37,
   "metadata": {},
   "outputs": [],
   "source": [
    "#example solution\n",
    "def warmup_analysis(scenario, results_collection_period, n_reps=5, n_jobs=-1):\n",
    "    '''\n",
    "    Perform multiple replications of the MIU model.\n",
    "    \n",
    "    Params:\n",
    "    ------\n",
    "    scenario: Scenario\n",
    "        Parameters/arguments to configurethe model\n",
    "    \n",
    "    results_collection_period: int\n",
    "        number of minutes to run the model in simulated time\n",
    "        \n",
    "    n_reps: int, optional (default=5)\n",
    "        Number of independent replications to run.\n",
    "        \n",
    "    Returns:\n",
    "    --------\n",
    "    List of WarmupAuditors\n",
    "    '''\n",
    "    results = [warm_up_single_run(scenario, results_collection_period,\n",
    "                                  random_no_set=rep) \n",
    "               for rep in range(n_reps)]\n",
    "    \n",
    "    \n",
    "    return results\n",
    "        "
   ]
  },
  {
   "cell_type": "code",
   "execution_count": 38,
   "metadata": {},
   "outputs": [
    {
     "name": "stdout",
     "output_type": "stream",
     "text": [
      "Running multiple replications...\n",
      "Complete\n",
      "CPU times: user 16.7 s, sys: 4 ms, total: 16.7 s\n",
      "Wall time: 16.7 s\n"
     ]
    }
   ],
   "source": [
    "%%time\n",
    "#script\n",
    "#note this will take 10-20 seconds to run...\n",
    "\n",
    "RUN_LENGTH = 1440 * 20\n",
    "TRACE = False\n",
    "N_REPS = 5\n",
    "\n",
    "#load scenarios using your function\n",
    "default_args = Scenario()\n",
    "\n",
    "#create simpy environment\n",
    "env = simpy.Environment()\n",
    "\n",
    "print('Running multiple replications...')\n",
    "#perform multiple replications\n",
    "results = warmup_analysis(default_args, RUN_LENGTH, n_reps=N_REPS)\n",
    "\n",
    "print('Complete')"
   ]
  },
  {
   "cell_type": "code",
   "execution_count": 39,
   "metadata": {},
   "outputs": [],
   "source": [
    "metrics = {'operator_wait':[],\n",
    "           'nurse_wait':[],\n",
    "           'operator_util':[],\n",
    "           'nurse_util':[]}\n",
    "\n",
    "#preprocess results of each replication\n",
    "for audit in results:\n",
    "    metrics['operator_wait'].append(audit.wait_for_operator)\n",
    "    metrics['nurse_wait'].append(audit.wait_for_nurse)\n",
    "    metrics['operator_util'].append(audit.operator_util)\n",
    "    metrics['nurse_util'].append(audit.nurse_util)"
   ]
  },
  {
   "cell_type": "code",
   "execution_count": 40,
   "metadata": {},
   "outputs": [
    {
     "data": {
      "text/plain": [
       "Text(0, 0.5, 'nurse_util')"
      ]
     },
     "execution_count": 40,
     "metadata": {},
     "output_type": "execute_result"
    },
    {
     "data": {
      "image/png": "[encoded data removed]",
      "text/plain": [
       "<Figure size 864x648 with 4 Axes>"
      ]
     },
     "metadata": {
      "needs_background": "light"
     },
     "output_type": "display_data"
    }
   ],
   "source": [
    "fig, ax = plt.subplots(2, 2, figsize=(12,9))\n",
    "ax[0][0].plot(np.array(metrics['operator_wait']).mean(axis=0))\n",
    "ax[0][1].plot(np.array(metrics['nurse_wait']).mean(axis=0))\n",
    "ax[1][0].plot(np.array(metrics['operator_util']).mean(axis=0))\n",
    "ax[1][1].plot(np.array(metrics['nurse_util']).mean(axis=0))\n",
    "\n",
    "ax[0][0].set_ylabel('operator_wait')\n",
    "ax[0][1].set_ylabel('nurse_wait')\n",
    "ax[1][0].set_ylabel('operator_util')\n",
    "ax[1][1].set_ylabel('nurse_util')"
   ]
  },
  {
   "cell_type": "markdown",
   "metadata": {},
   "source": [
    "# Rerunning the model with warm up time \n",
    "## (deleting the initial transient)"
   ]
  },
  {
   "cell_type": "code",
   "execution_count": 19,
   "metadata": {},
   "outputs": [],
   "source": [
    "def model_performance_measures(model, warmup=0):\n",
    "    #Performance metrics\n",
    "\n",
    "    #1. mean time in system\n",
    "    mean_time_in_system = np.array([patient.time_in_system \n",
    "                                    for patient in model.patients\n",
    "                                    if patient.arrival_time > warmup]).mean()\n",
    "\n",
    "\n",
    "    #2. mean time to first treatment\n",
    "    mean_time_to_nurse = np.array([patient.time_to_nurse \n",
    "                                   for patient in model.patients\n",
    "                                   if patient.arrival_time > warmup]).mean()\n",
    "\n",
    "    #3. mean time to triage\n",
    "    mean_time_to_triage = np.array([patient.time_to_triage \n",
    "                                   for patient in model.patients\n",
    "                                   if patient.arrival_time > warmup]).mean()\n",
    "\n",
    "\n",
    "    #4. four hour target\n",
    "    four_hours = np.array([patient.four_hour_target \n",
    "                           for patient in \n",
    "                           model.patients if patient.arrival_time > warmup]\n",
    "                          ).sum() / len(model.patients)\n",
    "        \n",
    "    #return results.\n",
    "    return (mean_time_in_system, mean_time_to_nurse, mean_time_to_triage,\n",
    "            four_hours)"
   ]
  },
  {
   "cell_type": "code",
   "execution_count": 20,
   "metadata": {},
   "outputs": [],
   "source": [
    "def results_summary(results):\n",
    "    \n",
    "    #convert results to dataframe and printout\n",
    "    results = pd.DataFrame(results)\n",
    "    results.columns = ['Time in System', 'Time to Nurse', 'Time to Triage', \n",
    "                       '4 Hr performance']\n",
    "\n",
    "    return results.mean()"
   ]
  },
  {
   "cell_type": "code",
   "execution_count": 21,
   "metadata": {},
   "outputs": [
    {
     "name": "stdout",
     "output_type": "stream",
     "text": [
      "Running multiple replications...\n"
     ]
    },
    {
     "ename": "TypeError",
     "evalue": "multiple_replications() got an unexpected keyword argument 'include_audit'",
     "output_type": "error",
     "traceback": [
      "\u001b[0;31m---------------------------------------------------------------------------\u001b[0m",
      "\u001b[0;31mTypeError\u001b[0m                                 Traceback (most recent call last)",
      "\u001b[0;32m<ipython-input-21-ed7439996993>\u001b[0m in \u001b[0;36m<module>\u001b[0;34m\u001b[0m\n\u001b[1;32m     19\u001b[0m \u001b[0;31m#perform multiple replications\u001b[0m\u001b[0;34m\u001b[0m\u001b[0;34m\u001b[0m\u001b[0;34m\u001b[0m\u001b[0m\n\u001b[1;32m     20\u001b[0m results = multiple_replications(default_args, RUN_LENGTH, n_reps=N_REPS,\n\u001b[0;32m---> 21\u001b[0;31m                                 include_audit=INCLUDE_AUDIT)\n\u001b[0m\u001b[1;32m     22\u001b[0m \u001b[0;34m\u001b[0m\u001b[0m\n\u001b[1;32m     23\u001b[0m \u001b[0mprint\u001b[0m\u001b[0;34m(\u001b[0m\u001b[0;34m'Complete'\u001b[0m\u001b[0;34m)\u001b[0m\u001b[0;34m\u001b[0m\u001b[0;34m\u001b[0m\u001b[0m\n",
      "\u001b[0;31mTypeError\u001b[0m: multiple_replications() got an unexpected keyword argument 'include_audit'"
     ]
    }
   ],
   "source": [
    "#script\n",
    "\n",
    "INCLUDE_AUDIT = False\n",
    "AUDIT_INTERVAL = 90\n",
    "WARM_UP = 200 * AUDIT_INTERVAL\n",
    "RESULTS_COLLECTION = 1440\n",
    "RUN_LENGTH = WARM_UP + RESULTS_COLLECTION\n",
    "TRACE = False\n",
    "\n",
    "N_REPS = 100\n",
    "\n",
    "#load scenarios using your function\n",
    "default_args = Scenario()\n",
    "\n",
    "#create simpy environment\n",
    "env = simpy.Environment()\n",
    "\n",
    "print('Running multiple replications...')\n",
    "#perform multiple replications\n",
    "results = multiple_replications(default_args, RUN_LENGTH, n_reps=N_REPS,\n",
    "                                include_audit=INCLUDE_AUDIT)\n",
    "\n",
    "print('Complete')\n",
    "\n",
    "results_summary(results)"
   ]
  },
  {
   "cell_type": "markdown",
   "metadata": {},
   "source": [
    "# Selecting the number of replications to run.\n",
    "\n",
    "You will use the **confidence interval method** to select the number replications to run in order to get a good estimate the models mean performance.  The narrower the confidence interval the more precise our estimate of the mean. In general, the more replications you run the narrower the confidence interval. The method requires you to set a predefined width of the confidence interval.  In this course, we will make the somewhat arbitrary decision to opt for an interval that is 5% either side of the mean.\n",
    "\n",
    "A confidence interval is calculated as:\n",
    "\n",
    "$$ CI = \\overline{X} \\pm t_{n-1, \\alpha/2} \\dfrac{S}{\\sqrt{n}}$$\n",
    "\n",
    "\n",
    "where: \n",
    "\n",
    "* $\\overline{X}$ = mean of the output data from the replications\n",
    "* $S$ = standard deviation of the output data from the replications\n",
    "* $n$ = the number of replications\n",
    "* $t_{n-1, \\alpha/2}$ = value from the *t*-distribution with $n-1$ degrees of freedomand a significance level of $\\alpha/2$\n",
    "\n",
    "## Implementation in python\n",
    "\n",
    "The function `confidence_interval_method` is provided for you.  "
   ]
  },
  {
   "cell_type": "code",
   "execution_count": null,
   "metadata": {},
   "outputs": [],
   "source": [
    "def confidence_interval_method(replications, alpha=0.05, desired_precision=0.05, \n",
    "                               min_rep=5, decimal_place=2):\n",
    "    '''\n",
    "    The confidence interval method for selecting the number of replications\n",
    "    to run in a simulation.\n",
    "    \n",
    "    Finds the smallest number of replications where the width of the confidence\n",
    "    interval is less than the desired_precision.  \n",
    "    \n",
    "    Returns both the number of replications and the full results dataframe.\n",
    "    \n",
    "    Parameters:\n",
    "    ----------\n",
    "    replications: arraylike\n",
    "        Array (e.g. np.ndarray or list) of replications of a performance metric\n",
    "        \n",
    "    alpha: float, optional (default=0.05)\n",
    "        procedure constructs a 100(1-alpha) confidence interval for the \n",
    "        cumulative mean.\n",
    "        \n",
    "    desired_precision: float, optional (default=0.05)\n",
    "        Desired mean deviation from confidence interval.\n",
    "        \n",
    "    min_rep: int, optional (default=5)\n",
    "        set to a integer > 0 and ignore all of the replications prior to it \n",
    "        when selecting the number of replications to run to achieve the desired\n",
    "        precision.  Useful when the number of replications returned does not\n",
    "        provide a stable precision below target.\n",
    "        \n",
    "    decimal_places: int, optional (default=2)\n",
    "        sets the number of decimal places of the returned dataframe containing\n",
    "        the results\n",
    "    \n",
    "    Returns:\n",
    "    --------\n",
    "        tuple: int, pd.DataFrame\n",
    "    \n",
    "    '''\n",
    "\n",
    "    n = len(replications)\n",
    "    cumulative_mean = [replications[0]]\n",
    "    running_var = [0.0]\n",
    "    for i in range(1, n):\n",
    "        cumulative_mean.append(cumulative_mean[i-1] + \\\n",
    "                       (replications[i] - cumulative_mean[i-1] ) / (i+1))\n",
    "        \n",
    "        #running biased variance\n",
    "        running_var.append(running_var[i-1] + (replications[i] \n",
    "                                               - cumulative_mean[i-1]) \\\n",
    "                            * (replications[i] - cumulative_mean[i]))\n",
    "        \n",
    "    #unbiased std dev = running_var / (n - 1)\n",
    "    with np.errstate(divide='ignore', invalid='ignore'):\n",
    "        running_std = np.sqrt(running_var / np.arange(n))\n",
    "    \n",
    "    #half width of interval\n",
    "    dof = len(replications) - 1\n",
    "    t_value = t.ppf(1 - (alpha / 2),  dof)    \n",
    "    with np.errstate(divide='ignore', invalid='ignore'):\n",
    "        std_error = running_std / np.sqrt(np.arange(1, n+1))\n",
    "        \n",
    "    half_width = t_value * std_error\n",
    "        \n",
    "    #upper and lower confidence interval\n",
    "    upper = cumulative_mean + half_width\n",
    "    lower = cumulative_mean - half_width\n",
    "    \n",
    "    #Mean deviation\n",
    "    with np.errstate(divide='ignore', invalid='ignore'):\n",
    "        deviation = (half_width / cumulative_mean) * 100\n",
    "    \n",
    "    #commbine results into a single dataframe\n",
    "    results = pd.DataFrame([replications, cumulative_mean, \n",
    "                            running_std, lower, upper, deviation]).T\n",
    "    results.columns = ['Mean', 'Cumulative Mean', 'Standard Deviation', \n",
    "                       'Lower Interval', 'Upper Interval', '% deviation']\n",
    "    results.index = np.arange(1, n+1)\n",
    "    results.index.name = 'replications'\n",
    "    \n",
    "    #get the smallest no. of reps where deviation is less than precision target\n",
    "    try:\n",
    "        n_reps = results.iloc[min_rep:].loc[results['% deviation'] \n",
    "                             <= desired_precision*100].iloc[0].name\n",
    "    except:\n",
    "        #no replications with desired precision\n",
    "        message = 'WARNING: the replications do not reach desired precision'\n",
    "        warnings.warn(message)\n",
    "        n_reps = -1 \n",
    "\n",
    "    \n",
    "    return n_reps, results.round(2)\n",
    "        "
   ]
  },
  {
   "cell_type": "markdown",
   "metadata": {},
   "source": [
    "# Confidence interval method example: `time_in_system`\n",
    "\n",
    "Let's look at an example of using it with the performance measure `time_in_system`\n",
    "\n",
    "## Step 1: preprocess the replications\n",
    "The function only works for a single performance measure at a time.  Before we use it we need to get our results into seperate\n",
    "lists or arrays.  (note how you do this will vary depending on how your model collects and processes results)."
   ]
  },
  {
   "cell_type": "code",
   "execution_count": null,
   "metadata": {},
   "outputs": [],
   "source": [
    "#let's store the results in a dict where each key represents a performance \n",
    "#metric\n",
    "replications = {}\n",
    "\n",
    "replications['time_in_system'] = [results[i][0] for i in range(len(results))]\n",
    "replications['time_to_nurse'] = [results[i][1] for i in range(len(results))]   \n",
    "replications['time_to_triage'] = [results[i][2] for i in range(len(results))]   \n",
    "replications['four_hours'] = [results[i][3] for i in range(len(results))]   "
   ]
  },
  {
   "cell_type": "markdown",
   "metadata": {},
   "source": [
    "## Step 2: pass the replications to the method\n",
    "\n",
    "The function `confidence_interval_method` returns a tuple `(int, pandas.DataFrame)`.  The first element is the minimum number of replications required to achieve the precision (desired width of the interval).  The second, element is all of the data including the confidence interval."
   ]
  },
  {
   "cell_type": "code",
   "execution_count": null,
   "metadata": {},
   "outputs": [],
   "source": [
    "#run the method on the time_in_system replications\n",
    "n_reps, conf_ints = confidence_interval_method(replications['time_in_system'])\n",
    "\n",
    "#print out the min number of replications to achieve precision\n",
    "print(f'\\nminimum number of reps for 5% precision: {n_reps}\\n')\n",
    "\n",
    "#peek at table of results\n",
    "conf_ints.head()"
   ]
  },
  {
   "cell_type": "markdown",
   "metadata": {},
   "source": [
    "## Step 3: Plot the results\n",
    "\n",
    "It is useful to look at the results visually to check if the confidence intervals converge or if the expand again later on.\n",
    "\n",
    "The function `plot_confidence_interval_method` has been provided to help.\n",
    "\n",
    "Run the code below to produce the plot.  Do you think it looks stable?\n"
   ]
  },
  {
   "cell_type": "code",
   "execution_count": null,
   "metadata": {},
   "outputs": [],
   "source": [
    "def plot_confidence_interval_method(n_reps, conf_ints, metric_name, \n",
    "                                    figsize=(12,4)):\n",
    "    '''\n",
    "    Plot the confidence intervals and cumulative mean\n",
    "    \n",
    "    Parameters:\n",
    "    ----------\n",
    "    n_reps: int\n",
    "        minimum number of reps selected\n",
    "        \n",
    "    conf_ints: pandas.DataFrame\n",
    "       results of the `confidence_interval_method` function\n",
    "       \n",
    "    metric_name: str\n",
    "        Name of the performance measure\n",
    "        \n",
    "    figsize: tuple, optional (default=(12,4))\n",
    "        The size of the plot\n",
    "        \n",
    "    Returns:\n",
    "    -------\n",
    "        matplotlib.pyplot.axis\n",
    "    '''\n",
    "    #plot cumulative mean + lower/upper intervals\n",
    "    ax = conf_ints[['Cumulative Mean', 'Lower Interval', \n",
    "                         'Upper Interval']].plot(figsize=figsize)\n",
    "    #add the \n",
    "    ax.axvline(x=n_reps, ls='--', color='red')\n",
    "    \n",
    "    ax.set_ylabel(f'cumulative mean: {metric_name}')\n",
    "    \n",
    "    return ax"
   ]
  },
  {
   "cell_type": "code",
   "execution_count": null,
   "metadata": {},
   "outputs": [],
   "source": [
    "#plot the confidence intervals\n",
    "ax = plot_confidence_interval_method(n_reps, conf_ints, \n",
    "                                     metric_name='time_in_system')"
   ]
  },
  {
   "cell_type": "markdown",
   "metadata": {},
   "source": [
    "Another good idea is to check the % deviation 10-20 replications ahead to check quantitatively that the 5% precision is maintained."
   ]
  },
  {
   "cell_type": "code",
   "execution_count": null,
   "metadata": {},
   "outputs": [],
   "source": [
    "#quick check if the % deviation remains below 5% for the next 10 reps?\n",
    "conf_ints.iloc[n_reps:n_reps+1]"
   ]
  },
  {
   "cell_type": "code",
   "execution_count": null,
   "metadata": {},
   "outputs": [],
   "source": []
  }
 ],
 "metadata": {
  "kernelspec": {
   "display_name": "Python 3",
   "language": "python",
   "name": "python3"
  },
  "language_info": {
   "codemirror_mode": {
    "name": "ipython",
    "version": 3
   },
   "file_extension": ".py",
   "mimetype": "text/x-python",
   "name": "python",
   "nbconvert_exporter": "python",
   "pygments_lexer": "ipython3",
   "version": "3.7.7"
  }
 },
 "nbformat": 4,
 "nbformat_minor": 4
}
