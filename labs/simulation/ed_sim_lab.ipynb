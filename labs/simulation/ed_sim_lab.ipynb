{
 "cells": [
  {
   "cell_type": "markdown",
   "metadata": {},
   "source": [
    "# Advanced modelling: Emergency department simulation\n",
    "\n",
    "In this practical you will learn:\n",
    "\n",
    "* How to use numpy for random sampling from statistical distributions\n",
    "* How to create a `simpy` environment and create basic process models\n",
    "* How to model resources and simulate queues\n",
    "* How to collect results from a single run of the model"
   ]
  },
  {
   "cell_type": "markdown",
   "metadata": {},
   "source": [
    "## Imports\n",
    "\n",
    "It is recommended that you use the provided environment `hds_stoch`.  Please use simpy 4.0.x.  If you are running this notebook in Google colab then `simpy` can be installed by:\n",
    "\n",
    "```python\n",
    "!pip install simpy\n",
    "```"
   ]
  },
  {
   "cell_type": "code",
   "execution_count": 1,
   "metadata": {},
   "outputs": [
    {
     "data": {
      "text/plain": [
       "'4.0.1'"
      ]
     },
     "execution_count": 1,
     "metadata": {},
     "output_type": "execute_result"
    }
   ],
   "source": [
    "import simpy\n",
    "simpy.__version__"
   ]
  },
  {
   "cell_type": "markdown",
   "metadata": {},
   "source": [
    "## Input modelling"
   ]
  },
  {
   "cell_type": "markdown",
   "metadata": {},
   "source": [
    "| Activity \t| Activity name        \t| Distribution \t| Mean (mins) \t| Standard Dev (minutes) \t|\n",
    "|----------\t|----------------------\t|--------------\t|-------------\t|------------------------\t|\n",
    "| 1        \t| IAT                  \t| Exponential  \t| 18          \t|                        \t|\n",
    "| 2        \t| Evaluate condition   \t| Normal       \t| 1.5         \t| 5                      \t|\n",
    "| 3        \t| Registration         \t| Gamma        \t| 8           \t| 3                      \t|\n",
    "| 4        \t| Minor treatment room \t| Normal       \t| 3           \t| 0                      \t|\n",
    "| 5        \t| Major treatment room \t| Normal       \t| 3           \t| 0                      \t|\n",
    "| 6        \t| See Nurse            \t| Gamma        \t| 10          \t| 3                      \t|\n",
    "| 7        \t| See Doctor           \t| Gamma        \t| 10          \t| 6                      \t|\n",
    "| 8        \t| Prescribe treatment  \t| Normal       \t| 5           \t| 2                      \t|\n",
    "| 9        \t| Perform tests        \t| Normal       \t| 35          \t| 10                     \t|\n",
    "| 10       \t| Re-evaluate patient  \t| Gamma        \t| 10          \t| 5                      \t|\n",
    "| 11       \t| Admit to hospital    \t| Fixed        \t| 0           \t| 0                      \t|\n",
    "| 12       \t| Discharge            \t| Gamma        \t| 10          \t| 5                      \t|"
   ]
  },
  {
   "cell_type": "code",
   "execution_count": 12,
   "metadata": {},
   "outputs": [
    {
     "data": {
      "text/plain": [
       "340282366.9209385"
      ]
     },
     "execution_count": 12,
     "metadata": {},
     "output_type": "execute_result"
    }
   ],
   "source": [
    "2**128 / 10**30"
   ]
  },
  {
   "cell_type": "code",
   "execution_count": null,
   "metadata": {},
   "outputs": [],
   "source": []
  }
 ],
 "metadata": {
  "kernelspec": {
   "display_name": "Python 3",
   "language": "python",
   "name": "python3"
  },
  "language_info": {
   "codemirror_mode": {
    "name": "ipython",
    "version": 3
   },
   "file_extension": ".py",
   "mimetype": "text/x-python",
   "name": "python",
   "nbconvert_exporter": "python",
   "pygments_lexer": "ipython3",
   "version": "3.7.3"
  }
 },
 "nbformat": 4,
 "nbformat_minor": 4
}
