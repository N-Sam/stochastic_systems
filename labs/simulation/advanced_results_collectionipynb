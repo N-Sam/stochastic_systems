{
 "cells": [
  {
   "cell_type": "markdown",
   "metadata": {},
   "source": [
    "# simpy model results collection - advanced methods\n",
    "\n",
    "In this notebook you will learn\n",
    "\n",
    "* How to create a monitored `simpy.Resource`\n",
    "* How to use the observer pattern to calculate running totals of metrics during a simulation run."
   ]
  },
  {
   "cell_type": "code",
   "execution_count": 3,
   "metadata": {},
   "outputs": [
    {
     "data": {
      "text/plain": [
       "'4.0.1'"
      ]
     },
     "execution_count": 3,
     "metadata": {},
     "output_type": "execute_result"
    }
   ],
   "source": [
    "import simpy\n",
    "import numpy as np\n",
    "\n",
    "simpy.__version__"
   ]
  },
  {
   "cell_type": "markdown",
   "metadata": {},
   "source": [
    "## Monitoring a resource\n",
    "\n",
    "A `simpy.Resource` is a python class.  You can inherit from this class and override the `request()` and `release()` methods.  This enables you to record the historical number of processes queuing for a resource and in progress OR calculate a online statistic such as the mean or variance in an event driven approach.\n",
    "\n",
    "The class `MonitoredResource` inherits from `simpy.Resource`.  The methods `__init__`, `request()` and `release()` are overriden in a simple way.  \n",
    "\n",
    "The mean queue length is updated each time a resource is requested using the formula\n",
    "\n",
    "$L_q^t = \\dfrac{n-1}{n}L_{q}^{t-1} + \\dfrac{1}{n}q_t$"
   ]
  },
  {
   "cell_type": "code",
   "execution_count": 5,
   "metadata": {},
   "outputs": [],
   "source": [
    "class MonitoredResource(simpy.Resource):\n",
    "    '''\n",
    "    adapted from: \n",
    "    https://simpy.readthedocs.io/en/latest/topical_guides/monitoring.html\n",
    "    '''\n",
    "    def __init__(self, *args, **kwargs):\n",
    "        #super() is the super class i.e. simpy.Resource \n",
    "        super().__init__(*args, **kwargs)\n",
    "        \n",
    "        #the number of arrivals to the resource\n",
    "        self.n = 0\n",
    "        \n",
    "        #the mean number queuing for service\n",
    "        self.mean_queue_length = 0.0\n",
    "        self.mean_queue = 0.0\n",
    "        \n",
    "        #mean service\n",
    "        self.mean_in_service = 0.0\n",
    "        \n",
    "    def request(self, *args, **kwargs):\n",
    "        \n",
    "        #new arrival\n",
    "        self.n += 1\n",
    "        \n",
    "        #update the mean queue length\n",
    "        self.mean_queue_length = ((self.n - 1) / float(self.n)) * \\\n",
    "            self.mean_queue_length + (1 / float(self.n)) * len(self.queue)\n",
    "        \n",
    "        self.mean_queue += (len(self.queue) - self.mean_queue) / self.n\n",
    "        \n",
    "        #update the mean in service\n",
    "        self.mean_in_service = ((self.n - 1) / float(self.n)) * \\\n",
    "            self.mean_in_service + (1 / float(self.n)) * self.count\n",
    "        \n",
    "        return super().request(*args, **kwargs)"
   ]
  },
  {
   "cell_type": "code",
   "execution_count": null,
   "metadata": {},
   "outputs": [],
   "source": []
  }
 ],
 "metadata": {
  "kernelspec": {
   "display_name": "Python 3",
   "language": "python",
   "name": "python3"
  },
  "language_info": {
   "codemirror_mode": {
    "name": "ipython",
    "version": 3
   },
   "file_extension": ".py",
   "mimetype": "text/x-python",
   "name": "python",
   "nbconvert_exporter": "python",
   "pygments_lexer": "ipython3",
   "version": "3.7.7"
  }
 },
 "nbformat": 4,
 "nbformat_minor": 4
}
