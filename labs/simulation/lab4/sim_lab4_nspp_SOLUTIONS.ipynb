{
 "cells": [
  {
   "cell_type": "markdown",
   "metadata": {},
   "source": [
    "# Modelling a non-stationary poisson process\n",
    "\n",
    ">A non-stationary Poisson process (NSPP) is an arrival process with an arrival rate that varies by time.\n",
    "\n",
    "One of the limitations of queuing theory is the difficulty of modelling time-dependent arrivals.  Computer \n",
    "simulation offer a number of ways of modelling non-stationary arrivals.  \n",
    "\n",
    "In this lab you will learn:\n",
    "    \n",
    "* How to implement the thinning algorithm to model a non-stationary poisson process (NSPP)\n",
    "\n",
    "> **Special thanks** to two 2020/21 students Tamir and Simon who spotted bugs in the original code!\n",
    "\n",
    "---"
   ]
  },
  {
   "cell_type": "markdown",
   "metadata": {},
   "source": [
    "# Imports"
   ]
  },
  {
   "cell_type": "code",
   "execution_count": null,
   "metadata": {},
   "outputs": [],
   "source": [
    "import pandas as pd\n",
    "import numpy as np\n",
    "import matplotlib.pyplot as plt\n",
    "import itertools\n",
    "import simpy\n",
    "\n",
    "# please use simpy version 4\n",
    "simpy.__version__"
   ]
  },
  {
   "cell_type": "markdown",
   "metadata": {},
   "source": [
    "----\n",
    "## An example NSPP\n",
    "\n",
    "The table below breaks an arrival process down into 60 minutes intervals.\n",
    "\n",
    "\n",
    "| t(min) | Mean time between arrivals (min) | Arrival Rate $\\lambda(t)$ (arrivals/min) |\n",
    "|:------:|:--------------------------------:|:--------------------------------------:|\n",
    "|    0   |                15                |                  1/15                  |\n",
    "|   60   |                12                |                  1/12                  |\n",
    "|   120  |                 7                |                   1/7                  |\n",
    "|   180  |                 5                |                   1/5                  |\n",
    "|   240  |                 8                |                   1/8                  |\n",
    "|   300  |                10                |                  1/10                  |\n",
    "|   360  |                15                |                  1/15                  |\n",
    "|   420  |                20                |                  1/20                  |\n",
    "|   480  |                20                |                  1/20                  |\n",
    "\n",
    "> **Interpretation**: In the table above the fastest arrival rate is 1/5 customers per minute or 5 minutes between customer arrivals."
   ]
  },
  {
   "cell_type": "markdown",
   "metadata": {},
   "source": [
    "## Thinning\n",
    "\n",
    "Thinning is a acceptance-rejection sampling method and is used to generate inter-arrival times from a NSPP.  \n",
    "\n",
    "> A NSPP has arrival rate $\\lambda(t)$ where $0 \\leq t \\leq T$"
   ]
  },
  {
   "cell_type": "markdown",
   "metadata": {},
   "source": [
    "**The thinning algorithm**\n",
    "\n",
    "A NSPP has arrival rate $\\lambda(t)$ where $0 \\leq t \\leq T$\n",
    "\n",
    "Here $i$ is the arrival number and $\\mathcal{T_i}$ is its arrival time.\n",
    "\n",
    "1. Let $\\lambda^* = \\max_{0 \\leq t \\leq T}\\lambda(t)$ be the maximum of the arrival rate function and set $t = 0$ and $i=1$\n",
    "\n",
    "2. Generate $e$ from the exponential distribution with rate $\\lambda^*$ and let $t = t + e$ (this is the time of the next entity will arrive)\n",
    "\n",
    "3. Generate $u$ from the $U(0,1)$ distribution.  If $u \\leq \\dfrac{\\lambda(t)}{\\lambda^*}$ then $\\mathcal{T_i} =t$ and $i = i + 1$\n",
    "\n",
    "4. Go to Step 2."
   ]
  },
  {
   "cell_type": "markdown",
   "metadata": {},
   "source": [
    "# Exercise 1: simulation **without thinning**\n",
    "\n",
    "**Task:**\n",
    "* Build a simple `simpy` model that simulates time-dependent arrivals\n",
    "* For this exercise please **IGNORE** the need for a thinning process.\n",
    "\n",
    "**Optional task:**\n",
    "* It is useful to set the sampling of arrivals using a random seed.  This will allow you to compare the number of arrivals before and after adding thinning.  **Remember that an issue with DES without thinning occurs when moving from a period $t$ with a low arrival rate to $t+1$ that has a high one.**\n",
    "\n",
    "**Hints:**\n",
    "* Build your model up gradually. \n",
    "* Start by building a model that simulates exponential arrivals using a single mean inter-arrival time then add in logic to change which mean you use depending on the simulation time.\n",
    "* The logic to decide the time period is equivalent to asking yourself \"given `env.now()` and that arrival rates are split into 60 minute chunks which row of my dataframe should I select\".\n",
    "* To simplify the task you set the run length of the simulation to no more than 540 minutes.  For an extra challenge think about how you would run the model for longer than 480 minutes and loop back round to the first period (the code to do this is surprising simple).\n",
    "\n",
    "The data are stored in a file `data/nspp_example1.csv`. "
   ]
  },
  {
   "cell_type": "code",
   "execution_count": null,
   "metadata": {},
   "outputs": [],
   "source": [
    "# your code here ..."
   ]
  },
  {
   "cell_type": "code",
   "execution_count": null,
   "metadata": {},
   "outputs": [],
   "source": [
    "# example answer\n",
    "\n",
    "# read in the data and calculate lambda\n",
    "arrivals = pd.read_csv('data/nspp_example1.csv')\n",
    "arrivals['arrival_rate'] = 1 / arrivals['mean_iat']\n",
    "arrivals"
   ]
  },
  {
   "cell_type": "code",
   "execution_count": null,
   "metadata": {},
   "outputs": [],
   "source": [
    "# This example answer shows how to build up your functionality gradually.\n",
    "\n",
    "# iteration 1: ignoring time dependence.  \n",
    "# I just use the first mean in the dataframe and build up the basic structure of \n",
    "# the code. A few lines of code and have an incorrect(!) but running model.\n",
    "\n",
    "def arrivals_generator(env, means, random_seed=None):\n",
    "    rng = np.random.default_rng(random_seed)\n",
    "    \n",
    "    for n in itertools.count():\n",
    "        interarrival_time = rng.exponential(means['mean_iat'].iloc[0])\n",
    "        yield env.timeout(interarrival_time)\n",
    "        print(f'arrival {n} at {env.now}')\n"
   ]
  },
  {
   "cell_type": "code",
   "execution_count": null,
   "metadata": {},
   "outputs": [],
   "source": [
    "RUN_LENGTH = 540\n",
    "env = simpy.Environment()\n",
    "env.process(arrivals_generator(env, arrivals, random_seed=42))\n",
    "env.run(RUN_LENGTH)"
   ]
  },
  {
   "cell_type": "code",
   "execution_count": null,
   "metadata": {},
   "outputs": [],
   "source": [
    "# iteration 2.  I've now added an index t used to select the correct mean IAT.\n",
    "\n",
    "def arrivals_generator(env, means, random_seed=None):\n",
    "    rng = np.random.default_rng(random_seed)\n",
    "    \n",
    "    for n in itertools.count():\n",
    "        \n",
    "        # this give us the index of dataframe to use\n",
    "        # I've used mod 9 so that run_lengh can be > 540\n",
    "        t = int(env.now // 60) % 9\n",
    "        interarrival_time = rng.exponential(means['mean_iat'].iloc[t])\n",
    "        yield env.timeout(interarrival_time)\n",
    "        print(f'arrival {n} at {env.now}')"
   ]
  },
  {
   "cell_type": "code",
   "execution_count": null,
   "metadata": {},
   "outputs": [],
   "source": [
    "RUN_LENGTH = 540\n",
    "env = simpy.Environment()\n",
    "env.process(arrivals_generator(env, arrivals, random_seed=42))\n",
    "env.run(RUN_LENGTH)"
   ]
  },
  {
   "cell_type": "markdown",
   "metadata": {},
   "source": [
    "## Exercise 2: Thinning the arrivals\n",
    "\n",
    "**Task:**\n",
    "* Update your exercise 1 code to include an implementation of thinning\n",
    "* What do you notice about the total number of arrivals compared to the previous example? Why has the changed occurred?\n",
    "   * If you are not controlling your sampling with random seeds you will need to run each implementation a few times.\n",
    "\n",
    "**Hints:**\n",
    "* You will need a second distribution - Uniform(0, 1) to do the thinning.  If you are controlling random sampling through seeds that means you will need a second seed.\n"
   ]
  },
  {
   "cell_type": "code",
   "execution_count": null,
   "metadata": {},
   "outputs": [],
   "source": [
    "# your code here ..."
   ]
  },
  {
   "cell_type": "code",
   "execution_count": null,
   "metadata": {},
   "outputs": [],
   "source": [
    "# Example answer ...\n",
    "\n",
    "# I've added an extra bit of code here to report the number of rejections for each arrival\n",
    "# You wouldn't include that in production code\n",
    "\n",
    "def arrivals_generator_with_thinning(env, means, audit=None, seed1=None, \n",
    "                                     seed2=None):\n",
    "    \n",
    "    arr_rng = np.random.default_rng(seed1)\n",
    "    thinning_rng = np.random.default_rng(seed2)\n",
    "    \n",
    "    # maximum arrival rate (smallest time between arrivals)\n",
    "    lambda_max = means['arrival_rate'].max()\n",
    "    \n",
    "    for n in itertools.count():\n",
    "\n",
    "        # this give us the index of dataframe to use\n",
    "        t = int(env.now // 60) % 9\n",
    "        lambda_t = means['arrival_rate'].iloc[t]\n",
    "        \n",
    "        # set to a large number so that at least 1 sample taken!\n",
    "        u = np.Inf\n",
    "        rejects = -1\n",
    "        \n",
    "        interarrival_time = 0.0\n",
    "        \n",
    "        # reject samples if u >= lambda_t / lambda_max\n",
    "        while u >= (lambda_t / lambda_max):\n",
    "            rejects += 1\n",
    "            interarrival_time += arr_rng.exponential(1/lambda_max)\n",
    "            u = thinning_rng.uniform(0, 1)\n",
    "        \n",
    "        yield env.timeout(interarrival_time)\n",
    "        \n",
    "        # if audit included then record arrival numbers\n",
    "        if audit != None: \n",
    "            audit[-1] += 1\n",
    "        else:\n",
    "            print(f'arrival {n} at {env.now:.2f}. Rejected samples = {rejects}')"
   ]
  },
  {
   "cell_type": "code",
   "execution_count": null,
   "metadata": {},
   "outputs": [],
   "source": [
    "RUN_LENGTH = 540\n",
    "\n",
    "env = simpy.Environment()\n",
    "env.process(arrivals_generator_with_thinning(env, arrivals, \n",
    "                                             seed1=42, seed2=101))\n",
    "env.run(RUN_LENGTH)"
   ]
  },
  {
   "cell_type": "markdown",
   "metadata": {},
   "source": [
    "# Optional extra: Validate the total number of arrivals in 540 minutes.\n",
    "\n",
    "Here we will repeat the same 10,000 times and then explore the distribution of the number of arrivals.  If all has gone to plan this should be a Poisson distribution with mean ~53."
   ]
  },
  {
   "cell_type": "code",
   "execution_count": null,
   "metadata": {},
   "outputs": [],
   "source": [
    "RUN_LENGTH = 540\n",
    "REPLICATIONS = 10_000\n",
    "audit = []\n",
    "\n",
    "rng = np.random.default_rng(42)\n",
    "\n",
    "for i in range(REPLICATIONS):\n",
    "    # set up audit for replication.\n",
    "    audit.append(0)\n",
    "    env = simpy.Environment()\n",
    "    # don't set the random number generator: we want different results each time\n",
    "    env.process(arrivals_generator_with_thinning(env, arrivals, audit))\n",
    "    env.run(RUN_LENGTH)"
   ]
  },
  {
   "cell_type": "code",
   "execution_count": null,
   "metadata": {},
   "outputs": [],
   "source": [
    "# distribution\n",
    "plt.hist(audit);"
   ]
  },
  {
   "cell_type": "code",
   "execution_count": null,
   "metadata": {},
   "outputs": [],
   "source": [
    "# mean\n",
    "np.array(audit).mean().round(2)"
   ]
  },
  {
   "cell_type": "code",
   "execution_count": null,
   "metadata": {},
   "outputs": [],
   "source": [
    "# expected arrivals from data.\n",
    "round(sum(arrivals['arrival_rate'] * 60), 2)"
   ]
  }
 ],
 "metadata": {
  "kernelspec": {
   "display_name": "Python 3 (ipykernel)",
   "language": "python",
   "name": "python3"
  },
  "language_info": {
   "codemirror_mode": {
    "name": "ipython",
    "version": 3
   },
   "file_extension": ".py",
   "mimetype": "text/x-python",
   "name": "python",
   "nbconvert_exporter": "python",
   "pygments_lexer": "ipython3",
   "version": "3.8.8"
  }
 },
 "nbformat": 4,
 "nbformat_minor": 4
}
