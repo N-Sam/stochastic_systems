{
 "cells": [
  {
   "cell_type": "code",
   "execution_count": null,
   "metadata": {},
   "outputs": [],
   "source": []
  },
  {
   "cell_type": "code",
   "execution_count": 1,
   "metadata": {},
   "outputs": [
    {
     "data": {
      "text/plain": [
       "'4.0.1'"
      ]
     },
     "execution_count": 1,
     "metadata": {},
     "output_type": "execute_result"
    }
   ],
   "source": [
    "import numpy as np\n",
    "import pandas as pd\n",
    "import simpy\n",
    "import matplotlib.pyplot as plt\n",
    "\n",
    "simpy.__version__"
   ]
  },
  {
   "cell_type": "code",
   "execution_count": 2,
   "metadata": {},
   "outputs": [],
   "source": [
    "from sim_utility.distributions import (Exponential, Bernoulli, Triangular, Uniform, Discrete)"
   ]
  },
  {
   "cell_type": "code",
   "execution_count": 3,
   "metadata": {},
   "outputs": [],
   "source": [
    "seeds = [199769, 778141, 120488, 523288, 447677, 586533, 309253, 332099,\n",
    "         134200, 218660, 137802, 431191, 709036, 113578, 901009, 662765,\n",
    "         877876, 952621, 514789, 118072]"
   ]
  },
  {
   "cell_type": "code",
   "execution_count": 19,
   "metadata": {},
   "outputs": [
    {
     "data": {
      "text/plain": [
       "2"
      ]
     },
     "execution_count": 19,
     "metadata": {},
     "output_type": "execute_result"
    }
   ],
   "source": [
    "#this will be from distributions\n",
    "MEAN_IAT = 18\n",
    "\n",
    "#probability that arrival is major\n",
    "P_WALK_IN_MAJOR =  0.240\n",
    "P_AMB_MAJOR = 0.875\n",
    "\n",
    "#MAJORS DISPOSAL \n",
    "\n",
    "elements = [0, 1, 2]\n",
    "probs = [0.34, 0.21, 0.45]\n",
    "\n",
    "dist = Discrete(elements, probs)\n",
    "dist.sample()"
   ]
  },
  {
   "cell_type": "code",
   "execution_count": 14,
   "metadata": {},
   "outputs": [],
   "source": [
    "class ScenarioArgs(object):\n",
    "    def __init__(self):\n",
    "        pass"
   ]
  },
  {
   "cell_type": "code",
   "execution_count": null,
   "metadata": {},
   "outputs": [],
   "source": [
    "class EmergencyDepartment(object):\n",
    "    \n",
    "    def __init__(self, env, args):\n",
    "        self.env = env\n",
    "        \n",
    "   \n",
    "\n"
   ]
  }
 ],
 "metadata": {
  "kernelspec": {
   "display_name": "Python 3",
   "language": "python",
   "name": "python3"
  },
  "language_info": {
   "codemirror_mode": {
    "name": "ipython",
    "version": 3
   },
   "file_extension": ".py",
   "mimetype": "text/x-python",
   "name": "python",
   "nbconvert_exporter": "python",
   "pygments_lexer": "ipython3",
   "version": "3.7.7"
  }
 },
 "nbformat": 4,
 "nbformat_minor": 4
}
