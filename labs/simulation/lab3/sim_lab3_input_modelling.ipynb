{
 "cells": [
  {
   "cell_type": "markdown",
   "metadata": {},
   "source": [
    "# Health data wrangling and input modelling exercises.\n",
    "\n",
    "**In this lab you will:**\n",
    "\n",
    "* Gain practical knowledge in pre-processing and analysing real world stochastic health system data\n",
    "* Learn how to fit distribution to data\n",
    "* Learn how to select a suitable distribution for your data\n",
    "\n",
    "> **STUDENT BEWARE**: This lab can be frustrating and will test your `pandas` skills! It is designed to show you the sort of data wrangling, analysis and modelling decisions/assumptions you may need to perform in real simulation study.  But do persevere with it (answers are available as well!).  The experience should demonstrate that fitting distributions to real data is difficult and not quite as textbooks make out! By the end of the lab both your `pandas` skills and simulation input modelling skills will have improved.  >_<  \n",
    "\n",
    "> **P.s** If you find yourself working on a simulation project in your job, it is worth remembering that simulation studies are very time consuming (i.e. problem structuring, data collection, data wrangling, input modelling, model coding and output analysis) and you have to be fairly pragmatic in your input modelling in order to get it done on time!"
   ]
  },
  {
   "cell_type": "markdown",
   "metadata": {},
   "source": [
    "# Imports"
   ]
  },
  {
   "cell_type": "code",
   "execution_count": null,
   "metadata": {},
   "outputs": [],
   "source": [
    "import pandas as pd\n",
    "import numpy as np\n",
    "import matplotlib.pyplot as plt\n",
    "import seaborn as sns\n",
    "sns.set()"
   ]
  },
  {
   "cell_type": "markdown",
   "metadata": {},
   "source": [
    "# Autofit imports"
   ]
  },
  {
   "cell_type": "code",
   "execution_count": null,
   "metadata": {},
   "outputs": [],
   "source": [
    "from input_modelling.fitting import auto_fit"
   ]
  },
  {
   "cell_type": "markdown",
   "metadata": {},
   "source": [
    "# Exercise 1: Time dependent arrival process at an A&E\n",
    "\n",
    "In this notebook, you will work with a hospital's Accident and Emergency (A&E) data taken from [NHS England's Synthetic A&E dataset](https://data.england.nhs.uk/dataset/a-e-synthetic-data).\n",
    "\n",
    "Each row in the dataset represents an individual patient and information about their attendance at the A&E. \n",
    "\n",
    "You have the following fields:\n",
    "\n",
    "* **Age band**: '1-17'; '18-24'; '25-44'; '45-64'; '65-84'; '84+'\n",
    "* **Sex**: 1.0 or 2.0 \n",
    "* **AE_Arrive_Date**: The data that patient arrived at the A&E e.g. 2015-07-02\n",
    "* **AE_Arrive_HourOfDay**: Six 4 hour time bands.  '01-04'; '05-08'; '09-12'; '13-16'; '17-20'; '21-24'\n",
    "* **AE_Time_Mins**: Length of stay int A&E round to the nearest 10.\n",
    "\n",
    "The aim of exercise 1 is to investigate the **time-dependent arrival rate** to the A&E.   By the end of the exercise you need to produced a table of inter-arrival times broken down by the six **AE_Arrive_HourOfDay** bands.  \n",
    "\n",
    "## Exercise 1.a: Read in the raw data\n",
    "\n",
    "**Task:**\n",
    "* The data for this exercise is located at the URL below.\n",
    "* Use `pandas` to load it into a DataFrame.\n",
    "\n",
    "**Questions**:\n",
    "* Inspect the dataframe.  Check its\n",
    "    * dimensions \n",
    "    * variable datatypes\n",
    "    * if there are any missing data within the fields."
   ]
  },
  {
   "cell_type": "code",
   "execution_count": null,
   "metadata": {},
   "outputs": [],
   "source": [
    "url = 'https://raw.githubusercontent.com/health-data-science-OR/hpdm097-datasets/master/ed_input_modelling.csv'\n",
    "#your code here..."
   ]
  },
  {
   "cell_type": "markdown",
   "metadata": {},
   "source": [
    "## Exercise 1.b. Preprocesses the data\n",
    "\n",
    "**Task:**\n",
    "* The field 'AE_Arrive_Date' should be a date.\n",
    "* Convert this field to a datetime.\n",
    "* Drop the age band 1-17 (children) as they use the paedatric A&E.\n",
    "\n",
    "**Hints:**\n",
    "* There is a built in `pandas` function to help.\n",
    "\n",
    "**Questions**:\n",
    "* What are the maximum and minimum dates int the dataset?\n",
    "* How many days worth of data are there in the dataset?"
   ]
  },
  {
   "cell_type": "code",
   "execution_count": null,
   "metadata": {},
   "outputs": [],
   "source": [
    "#your code here..."
   ]
  },
  {
   "cell_type": "markdown",
   "metadata": {},
   "source": [
    "# Exercise 1.c Analyse the data for patterns\n",
    "\n",
    "Before you produce the arrival rate you should explore the dataset for a potential trend and systemic breaks (where there is a big change in demand).\n",
    "\n",
    "**Task**:\n",
    "* Wrangle the dataset into a time series that reports the number of attendances per day.\n",
    "* Plot the time series.\n",
    "\n",
    "**Questions**\n",
    "* Is there a trend in the data?\n",
    "* Do your findings alter your plans for what data to include when modelling arrival rates to the A&E\n",
    "* If you exclude any data how much remains?\n",
    "\n",
    "**Hints:**\n",
    "* It is possible to do this with one line of `pandas`.  If you are unsure investigate pandas options for grouping data."
   ]
  },
  {
   "cell_type": "code",
   "execution_count": null,
   "metadata": {},
   "outputs": [],
   "source": [
    "#your code here ..."
   ]
  },
  {
   "cell_type": "markdown",
   "metadata": {},
   "source": [
    "## Exercise 1.d: General arrival rates by arrival time band.\n",
    "\n",
    "**Task:**\n",
    "* Ignoring any day of week or monthly effect, calculate the mean number of arrivals per time band.\n",
    "* Calculate the inter-arrival rate (IAT) for each of the 4 hour time bands.\n",
    "* Plot the mean arrival rate by time of day.\n",
    "\n",
    "**Hints:**\n",
    "* This problem can again by solved by using `pandas` grouping methods.  \n",
    "* The first thing you need to do is calculate the **total** number of arrivals by time band.\n",
    "* To calculate the average you also need to know how many **days** there are in your dataset.\n",
    "* Remember that each time band represents a 4 hour period.  IAT = Total time (in mins) / Mean No. Arrivals.\n"
   ]
  },
  {
   "cell_type": "code",
   "execution_count": null,
   "metadata": {},
   "outputs": [],
   "source": [
    "#your code here ..."
   ]
  },
  {
   "cell_type": "markdown",
   "metadata": {},
   "source": [
    "# Exercise 2: Choosing a distribution to model length of stay\n",
    "\n",
    "The next step in your A&E simulation input modelling is to select a distribution to represent the total time a patient spends in the department.  It is possible the distribution - or at least the parameters - will vary by different subgroups in the population.  For, example the over 65's may have a different distribution from the under 65s.\n",
    "\n",
    "## Exercise 2.a\n",
    "\n",
    "**Task**\n",
    "* Plot a histogram of the time spent in A&E, ignoring any subgroups of the population.\n",
    "* Use `auto_fit` to help you select a distribution.  Set the parameter `pp=True`\n",
    "\n",
    "**Questions**\n",
    "* Has `auto_fit` been useful?  If so which elements of it?\n",
    "* What do  you conclude from the p-p plots?\n",
    "\n",
    "**Hints**\n",
    "* For this exercise it is okay to use the full date range of the ED data, but make sure you exclude the under 18s."
   ]
  },
  {
   "cell_type": "code",
   "execution_count": null,
   "metadata": {},
   "outputs": [],
   "source": [
    "#your code here..."
   ]
  },
  {
   "cell_type": "markdown",
   "metadata": {},
   "source": [
    "## Exercise 2.b: LoS by age banding\n",
    "\n",
    "**Task:**\n",
    "* Investigate if different subgroups have different length of stay distributions.\n",
    "* Your analysis should check if there is a difference in the over and under 65s. \n",
    "\n",
    "**Questions**:\n",
    "* What distributions would you select for these subgroups?"
   ]
  },
  {
   "cell_type": "code",
   "execution_count": null,
   "metadata": {},
   "outputs": [],
   "source": [
    "#your code here ..."
   ]
  },
  {
   "cell_type": "markdown",
   "metadata": {},
   "source": [
    "# End."
   ]
  }
 ],
 "metadata": {
  "kernelspec": {
   "display_name": "Python 3",
   "language": "python",
   "name": "python3"
  },
  "language_info": {
   "codemirror_mode": {
    "name": "ipython",
    "version": 3
   },
   "file_extension": ".py",
   "mimetype": "text/x-python",
   "name": "python",
   "nbconvert_exporter": "python",
   "pygments_lexer": "ipython3",
   "version": "3.7.7"
  }
 },
 "nbformat": 4,
 "nbformat_minor": 4
}
