{
 "cells": [
  {
   "cell_type": "markdown",
   "metadata": {},
   "source": [
    "# Introduction to Input Modelling for Simulation\n",
    "\n",
    "In this lab you will learn\n",
    "\n",
    "* How to use auto_fit() to test the fit of distributions\n",
    "* How to interpret the Chi-Squared and KS-Test results. "
   ]
  },
  {
   "cell_type": "code",
   "execution_count": null,
   "metadata": {},
   "outputs": [],
   "source": [
    "import pandas as pd\n",
    "import numpy as np\n",
    "import matplotlib.pyplot as plt"
   ]
  },
  {
   "cell_type": "markdown",
   "metadata": {},
   "source": [
    "## Using `auto_fit`\n",
    "\n",
    "auto_fit is code written by **Dr Michael Allen**, University of Exeter Medical School. The source code can be found on pythonhealthcare.org https://pythonhealthcare.org/2018/05/03/81-distribution-fitting-to-data/\n",
    "\n",
    "The program:\n",
    "\n",
    "* Fits a number of distributions to the data and conducts both a Chi-Squared and KS-Test on the data. The data is ranked by the Chi-Squared statistic.\n",
    "* Produces histograms, p-p and q-q plots of the data versus theoretical distributions\n",
    "\n",
    "There is an implementation of this code in this repo in `input_modelling.fitting`.  Use the following code to import."
   ]
  },
  {
   "cell_type": "code",
   "execution_count": null,
   "metadata": {},
   "outputs": [],
   "source": [
    "from input_modelling.fitting import auto_fit"
   ]
  },
  {
   "cell_type": "markdown",
   "metadata": {},
   "source": [
    "Let's test `auto_fit` on some synthetic data.  We will use exponentially distributed data.  We will need to confirm this to `pd.DataFrame` as that the datatype the function `auto_fit` accepts as a parameter."
   ]
  },
  {
   "cell_type": "code",
   "execution_count": null,
   "metadata": {},
   "outputs": [],
   "source": [
    "rng = np.random.default_rng(42)\n",
    "samples = rng.exponential(scale=32, size=10_000)\n",
    "samples = pd.DataFrame(samples)\n",
    "samples.head()"
   ]
  },
  {
   "cell_type": "code",
   "execution_count": null,
   "metadata": {},
   "outputs": [],
   "source": [
    "auto_fit(samples)"
   ]
  },
  {
   "cell_type": "markdown",
   "metadata": {},
   "source": [
    "The exponential distribution is ranked the highest as it has the lowest Chi-Squared statistic.  The p-value comes from the KS-test.  We can see that it is not significant which means we can interpret as we do not reject the distribution as an option.  Note that a number of other distributions are also a good fit for this data!\n",
    "\n",
    "Let's plot the distributions as well using some extra options in `auto_fit`"
   ]
  },
  {
   "cell_type": "code",
   "execution_count": null,
   "metadata": {},
   "outputs": [],
   "source": [
    "dists_to_test = ['expon', 'gamma']\n",
    "\n",
    "auto_fit(samples, hist=True, pp=True, dist_names=dists_to_test)"
   ]
  },
  {
   "cell_type": "code",
   "execution_count": null,
   "metadata": {},
   "outputs": [],
   "source": []
  }
 ],
 "metadata": {
  "kernelspec": {
   "display_name": "Python 3",
   "language": "python",
   "name": "python3"
  },
  "language_info": {
   "codemirror_mode": {
    "name": "ipython",
    "version": 3
   },
   "file_extension": ".py",
   "mimetype": "text/x-python",
   "name": "python",
   "nbconvert_exporter": "python",
   "pygments_lexer": "ipython3",
   "version": "3.7.7"
  }
 },
 "nbformat": 4,
 "nbformat_minor": 4
}
