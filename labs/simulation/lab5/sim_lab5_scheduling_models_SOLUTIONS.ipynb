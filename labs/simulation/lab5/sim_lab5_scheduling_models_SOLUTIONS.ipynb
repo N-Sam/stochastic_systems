{
 "cells": [
  {
   "cell_type": "markdown",
   "metadata": {},
   "source": [
    "# Simulation models that include scheduling\n",
    "\n",
    "Many health systems include a **scheduling** function.  This might for example be the scheduling of patient operations or appointments.  These systems are also queuing systems, but differ slightly from the systems we have already explored.  These models will need a **diary** to keep track of when patient events are scheduled and scheduling rules.  A scheduling rule might for example be limiting a specific type of operation to morning slots or to when a particular type of resource is available.  \n",
    "\n",
    "**In this lab you will**\n",
    "\n",
    "* Learn how to set up a basic **diary** structure for bookings in a simulation model\n",
    "* See the approach in action in a simulation model that was used to support decision making in a mental health system\n",
    "\n",
    "> **Please Note**: you are not expected to be able to code a model of this complexity yourself in this module.  But it is an important part of your learning to appreciate how such a model works and what you would need to do if you are given a project like this in a future job!\n",
    "\n",
    "**Requirements**\n",
    "* Please use the virtual environment `hds_stoch`"
   ]
  },
  {
   "cell_type": "markdown",
   "metadata": {},
   "source": [
    "# Imports"
   ]
  },
  {
   "cell_type": "code",
   "execution_count": null,
   "metadata": {},
   "outputs": [],
   "source": [
    "import numpy as np\n",
    "import pandas as pd\n",
    "import simpy\n",
    "import matplotlib.pyplot as plt\n",
    "import itertools\n",
    "import seaborn as sns\n",
    "\n",
    "sns.set()\n",
    "\n",
    "simpy.__version__"
   ]
  },
  {
   "cell_type": "markdown",
   "metadata": {},
   "source": [
    "The module `sim_utility.distributions` provides some distribution classes to help with the lab."
   ]
  },
  {
   "cell_type": "code",
   "execution_count": null,
   "metadata": {},
   "outputs": [],
   "source": [
    "from sim_utility.distributions import (Bernoulli, Discrete, Poisson, \n",
    "                                       generate_seed_vector)"
   ]
  },
  {
   "cell_type": "markdown",
   "metadata": {},
   "source": [
    "The module `sim_utility.scheduling_example` provides the modelling classes for the simulation modelling example we will use in this class."
   ]
  },
  {
   "cell_type": "code",
   "execution_count": null,
   "metadata": {},
   "outputs": [],
   "source": [
    "from sim_utility.scheduling_example import (AssessmentReferralModel, \n",
    "                                            ScenarioArgs,\n",
    "                                            results_summary)"
   ]
  },
  {
   "cell_type": "markdown",
   "metadata": {},
   "source": [
    "# A scheduling example\n",
    "\n",
    "This work a simpy implementation of a model reported in a book chapter 'Systems Modelling for Improving Healthcare' by *Pitt, Monks and Allen* (2015) https://bit.ly/3j8OH6y \n",
    "\n",
    ">The model was originally built by Dr Michael Allen in a commercial simulation software called Simul8 - a very powerful simulaton package.  One of the long term problems of using a commerical package in health research is that for the NHS to use the model themselves they must pay for a license (the cost varies by vendor, but will be in the region of £5k-£20k with an annual maintence/support fee in the region of £1k).  This is particularly difficult for the NHS!   The model used here is an open python and simpy implementation of the same model.  One additional benefit is that model runtime is shorter in simpy as the diary function is sped up through numpy and we lose some of the feature bloat associated with commerical software.  \n",
    "\n",
    "## Waiting times for mental health assessment\n",
    "\n",
    "The model was used to investigate the waiting times for mental health appointments in Devon.  These were assessment type appointments.  Patients who are unwell are referred to the service by General Practitioners in primary care.  There is an initial triage of referrals before booking an appointment.  Some of these patients are signposted to more appropriate services while others are are classified as low priority or high priority (depending on severity of illness) and booked into an assessment clinic.  In an ideal world, high priority patients are seen within 5 working days while low priority patients are seen within 20 days. As we will see to do that is challenging!  \n",
    "\n",
    "The model simulates the clinics across Devon.  It includes 11 clinics - each of which has its own capacity that varies by day of week. \n",
    "\n",
    ">Note: the model simulates **indirect waiting time** for appointments.  That is the time between a referral and the the day of the appointment. It is not concerned with on the day waiting times (e.g. in a waiting room).\n",
    "\n",
    "### Scheduling rules in the model \n",
    "\n",
    "#### Rule 1: Carve out\n",
    "* When queuing systems are struggling an option is to **carve out** or hold back some capacity for higher priority patients.  This means that high priority patients have access to all appointment slots while low priority patients have access to only a fraction.\n",
    "\n",
    "#### Rule 2: Home clinics\n",
    "* At the beginning of this project the situation was as follows: if a Exeter patient was unwell they were referred to the Exeter clinic. That is a patient must attend their home clinic (they could only attend 1 clinic). This was done even if there was a clinic nearby that had an earlier appointment.  \n",
    "\n",
    "#### Rule 3: Partial pooling appointments across clinics\n",
    "* The objective of the modelling was to compare home clinic rule to a scenario where clinics worked together and pooled their appointments in a network.  For example, Exeter, Exmouth and Honiton might work together.  If a patient in Exeter was unwell they could then select the earlist appointment across these three clinics.\n",
    "\n",
    "### Using the model\n",
    "\n",
    "To run the model you need to create an instance of `AssessmentReferralModel` and pass it an instance of `ScenarioArgs`.  The latter is a container class that holds all of the model parameters.  The code below runs the model.  We will learn how some of the modelling works in this lab, but feel free to explore the code in `sim_utility.scheduling_example`."
   ]
  },
  {
   "cell_type": "code",
   "execution_count": null,
   "metadata": {},
   "outputs": [],
   "source": [
    "help(AssessmentReferralModel)"
   ]
  },
  {
   "cell_type": "code",
   "execution_count": null,
   "metadata": {},
   "outputs": [],
   "source": [
    "def single_run(args, rep=0):\n",
    "    '''\n",
    "    Perform as single run of the model and resturn results as a tuple.\n",
    "    '''\n",
    "    model = AssessmentReferralModel(args)\n",
    "    model.run()\n",
    "    \n",
    "    return model.results_all, model.results_low, model.results_high"
   ]
  },
  {
   "cell_type": "code",
   "execution_count": null,
   "metadata": {},
   "outputs": [],
   "source": [
    "%%time\n",
    "#depending on settings and CPU this model takes around 5-10 seconds to run \n",
    "\n",
    "#5 day a week model = 260 days a year\n",
    "RESULTS_COLLECTION = 260 * 1\n",
    "\n",
    "#We will learn about warm-up periods in a later lab.  We use one\n",
    "#because the model starts up empty which doesn't reflect reality\n",
    "WARM_UP = 260 * 3\n",
    "RUN_LENGTH = RESULTS_COLLECTION + WARM_UP\n",
    "\n",
    "#set up the scenario for the model to run.\n",
    "args = ScenarioArgs(RUN_LENGTH, WARM_UP, seeds=generate_seed_vector())\n",
    "\n",
    "#run model and return waiting time results split by priority\n",
    "results_all, results_low, results_high = single_run(args)\n",
    "\n",
    "#show a results summary\n",
    "results_summary(results_all, results_low, results_high)"
   ]
  },
  {
   "cell_type": "code",
   "execution_count": null,
   "metadata": {},
   "outputs": [],
   "source": [
    "#histogram of low versus high priority\n",
    "\n",
    "fig, ax = plt.subplots(1, 1)\n",
    "ax.hist(results_low, bins=np.arange(1, 100, 2), label='low priority')\n",
    "ax.hist(results_high, bins=np.arange(1, 100, 2), label='high priority')\n",
    "ax.legend();"
   ]
  },
  {
   "cell_type": "markdown",
   "metadata": {},
   "source": [
    "# Model input data\n",
    "\n",
    "The model input data can be found in `data/`."
   ]
  },
  {
   "cell_type": "markdown",
   "metadata": {},
   "source": [
    "## Referrals across the clinics\n",
    "\n",
    "On average, the service historically recieved around 16.3k patient referrals per year.  Given a 5 day working week this is ~60 patients referrals per day.  \n",
    "\n",
    "There are three columns of data\n",
    "\n",
    "* **prop** this is the proportion of 60 referrals per day that are to that particular clinic.  \n",
    "* **referred_out** this is the proportion of the clinic referrals that are referred to an alternative service.\n",
    "* **dna** this is the proportion of appointments where a patient **Did Not Attend** i.e. failed to turn up at the scheduled time.  \n",
    "\n",
    "> We will ignore DNAs here as they they cannot be controlled.  However, notice that they are very high - up to 30%. In practice, we could explore scheduling with **overbooking** where more appointments are booked for a clinic than are available.  "
   ]
  },
  {
   "cell_type": "code",
   "execution_count": null,
   "metadata": {},
   "outputs": [],
   "source": [
    "pd.read_csv('data/referrals.csv')"
   ]
  },
  {
   "cell_type": "markdown",
   "metadata": {},
   "source": [
    "## Clinic capacity\n",
    "\n",
    "The clinics operate on a weekday (Mon-Fri) schedule.  Each clinic has its own capacity that varies by day of week.  You can interpret each integer value as the total number of appointments $a_{ij}$ available in clinic $i$ on week day $j$."
   ]
  },
  {
   "cell_type": "code",
   "execution_count": null,
   "metadata": {},
   "outputs": [],
   "source": [
    "pd.read_csv('data/shifts.csv')"
   ]
  },
  {
   "cell_type": "markdown",
   "metadata": {},
   "source": [
    "## Pooling Matrix\n",
    "\n",
    "By default the model is setup to send a patient to their home clinic (e.g. an Exeter patient is referred to Exeter's clinic).  When the model runs in **pooling** mode, a pooling matrix is used to determine which clinics a patient can access.  This is a simple table of 0s and 1s where 1 means a patient from clinic 1 can be sent to clinic 2.  The pooling matrix could be set up to any scenario. This includes full pooling where a patient is can access any clinic in Devon (not practical, but can be used as a comparator).\n"
   ]
  },
  {
   "cell_type": "code",
   "execution_count": null,
   "metadata": {},
   "outputs": [],
   "source": [
    "pd.read_csv('data/partial_pooling.csv')"
   ]
  },
  {
   "cell_type": "markdown",
   "metadata": {},
   "source": [
    "# Exercise 1: creating a diary of available appointments\n",
    "\n",
    "A simple way to keep track of available appointments and bookings in a simulation model is to have a diary matrix $D$ of size $T$ x $C$.  Where $T$ is measured in time units i.e. days and $C$ is the clinics.  For a simulation model with scheduling we will need $T$ be higher than the model run length $R$ as the model will be booking appointments right up to when it terminates. A simple rule might be $T = 1.5R$.\n",
    "\n",
    "In the case of the mental health assessment referral model the the rows in $D$ will repeat every 5 days (because the clinics are open Mon-Fri and then repeat).  So you will actually need $\\dfrac{1.5R}{5} - 1$ repeats of $D$\n",
    "\n",
    "**Task:** \n",
    "* Using a run-length $R$ = 10 days, generate a diary for the referral model. \n",
    "* Generalise your code into a function so that you can work with any simple repeating schedule and $R$\n",
    "\n",
    "**Hints**\n",
    "* If you implement this in pandas you lose a bit of efficiency of NumPy, but it can make it easier to visualise the schedule.\n",
    "* Investigate the `pd.concat()` function.\n",
    "* You can think of the input data as a template that you can repeat when creating the diary.\n",
    "* Once you have read the data in call the `.info()` function off of the dataframe.  Note that by default pandas uses the int64 dtype for the numeric fields.  That's an large amount of memory for the task as capacity is in the range of 1 - 20 (although its workable in this instance).  Can you reduce the memory requirements by using a different data type?\n",
    "\n"
   ]
  },
  {
   "cell_type": "code",
   "execution_count": null,
   "metadata": {},
   "outputs": [],
   "source": [
    "#to get you started the data is read into a dataframe\n",
    "capacity_template = pd.read_csv('data/shifts.csv')\n",
    "capacity_template\n",
    "\n",
    "# your code here ..."
   ]
  },
  {
   "cell_type": "code",
   "execution_count": null,
   "metadata": {},
   "outputs": [],
   "source": [
    "#example answer\n",
    "def create_diary(run_length, capacity_template, units='day'):\n",
    "    \n",
    "    available_slots = capacity_template.copy()\n",
    "        \n",
    "    #longer than run length as patients will need to book ahead\n",
    "    for day in range(int((run_length / 5) * 1.5 ) - 1):\n",
    "        available_slots = pd.concat([available_slots, capacity_template.copy()], \n",
    "                                     ignore_index=True)\n",
    "\n",
    "    available_slots.index.rename(units, inplace=True)\n",
    "    return available_slots"
   ]
  },
  {
   "cell_type": "code",
   "execution_count": null,
   "metadata": {},
   "outputs": [],
   "source": [
    "#use dtype field to set to unsigned int8 - 0 to 255\n",
    "capacity_template = pd.read_csv('data/shifts.csv', dtype=np.uint8)\n",
    "available_slots = create_diary(run_length=10, \n",
    "                               capacity_template=capacity_template)\n",
    "print(available_slots.info())\n",
    "\n",
    "available_slots"
   ]
  },
  {
   "cell_type": "markdown",
   "metadata": {},
   "source": [
    "## Exercise 2: Create a diary of bookings\n",
    "\n",
    "**Task**:\n",
    "* Create a diary called `bookings` - a pandas dataframe - that records the number of booked appointments for a given date and clinic.  \n",
    "* Use a run length of 10 and assume that there are 11 clinics.\n",
    "* Produce a generalised function to create a booked appointments diary.\n",
    "\n",
    "**Hints**:\n",
    "* A bookings diary should be $T$ x $C$ in size where $T = 1.5R$\n",
    "* At the start of the simulation there are no bookings so all values need to be 0.\n",
    "* Is there a quick method in NumPy that can help?"
   ]
  },
  {
   "cell_type": "code",
   "execution_count": null,
   "metadata": {},
   "outputs": [],
   "source": [
    "# your code here"
   ]
  },
  {
   "cell_type": "code",
   "execution_count": null,
   "metadata": {},
   "outputs": [],
   "source": [
    "#example solution\n",
    "\n",
    "def create_bookings(run_length, n_clinics, units='day'):\n",
    "    bookings = np.zeros(shape=(int(1.5*run_length), n_clinics), dtype=np.uint8)\n",
    "    columns = [f'clinic_{i}' for i in range(1, n_clinics+1)]\n",
    "    bookings = pd.DataFrame(bookings, columns=columns)\n",
    "    bookings.index.rename('day', inplace=True)\n",
    "    return bookings"
   ]
  },
  {
   "cell_type": "code",
   "execution_count": null,
   "metadata": {},
   "outputs": [],
   "source": [
    "capacity_template = pd.read_csv('data/shifts.csv', dtype=np.uint8)\n",
    "\n",
    "#get the number of clinics\n",
    "n_clinics = len(capacity_template.columns)\n",
    "\n",
    "bookings = create_bookings(run_length=10, n_clinics=n_clinics)\n",
    "bookings"
   ]
  },
  {
   "cell_type": "markdown",
   "metadata": {},
   "source": [
    "# Finding an appointment and booking a slot\n",
    "\n",
    "Assume that a patient is referred to the clinic 2 on $t=0$ of the simulation.  There are several tasks to complete in order to book a slot\n",
    "\n",
    "1. Find the earliest available appointment slot for clinic 2.  This may be subject to a minimum delay e.g. in 1-3 working days.\n",
    "2. Decrement the number of available slots on day 0 at clinic 2 by 1.\n",
    "3. Increment the number of booked slots on day 0 at clinic 2 by 1.\n",
    "\n",
    "## Incrementing and decrementing slots\n",
    "\n",
    "Let's start with the incremement and decrementing of values as that is straightforward pandas.\n",
    "\n",
    "For this worked example we will use the files `data/example_bookings.csv` and `data/example_available_slots.csv`."
   ]
  },
  {
   "cell_type": "code",
   "execution_count": null,
   "metadata": {},
   "outputs": [],
   "source": [
    "bookings = pd.read_csv('data/example_bookings.csv', index_col='day')\n",
    "bookings.head()"
   ]
  },
  {
   "cell_type": "code",
   "execution_count": null,
   "metadata": {},
   "outputs": [],
   "source": [
    "available_slots = pd.read_csv('data/example_available_slots.csv', \n",
    "                              index_col='day')\n",
    "available_slots.head()"
   ]
  },
  {
   "cell_type": "markdown",
   "metadata": {},
   "source": [
    "To update a cell in a pandas dataframe you can use the `.iat[row_index, col_index]` accessor. In our example assume that a patient on day 0 wants a slot at clinic 2.  There is a minimum wait of 3 days before an appointment can be booked.\n"
   ]
  },
  {
   "cell_type": "code",
   "execution_count": null,
   "metadata": {},
   "outputs": [],
   "source": [
    "clinic_index = 1 #clinic 2 is at index 1\n",
    "t = 0\n",
    "min_wait = 3\n",
    "\n",
    "#decremement available slots \n",
    "available_slots.iat[t+min_wait, clinic_index] -= 1\n",
    "\n",
    "available_slots.head()"
   ]
  },
  {
   "cell_type": "markdown",
   "metadata": {},
   "source": [
    "We simply do the reverse for a confirmed booking."
   ]
  },
  {
   "cell_type": "code",
   "execution_count": null,
   "metadata": {},
   "outputs": [],
   "source": [
    "clinic_index = 1 #clinic 2 is at index 1\n",
    "t = 0\n",
    "min_wait = 3\n",
    "\n",
    "#decremement available slots \n",
    "bookings.iat[t+min_wait, clinic_index] += 1\n",
    "\n",
    "bookings.head()"
   ]
  },
  {
   "cell_type": "markdown",
   "metadata": {},
   "source": [
    "At all times `bookings + available_slots` equals the original capacity"
   ]
  },
  {
   "cell_type": "code",
   "execution_count": null,
   "metadata": {},
   "outputs": [],
   "source": [
    "(bookings + available_slots).head()"
   ]
  },
  {
   "cell_type": "markdown",
   "metadata": {},
   "source": [
    "## Exercise 3: Finding the earliest available slot at the clinic.\n",
    "\n",
    "**Task:**\n",
    "* Create a function called `find_slot`\n",
    "* The function should accept the parameters:\n",
    "    * `available_slots` a `pandas.DataFrame` containing the diary/schedule\n",
    "    * `t` an `int` representing the current time in days (corresponding to a row index in the diary)\n",
    "    * `clinic_id` - an `int` representing the index of the clinic in the diary\n",
    "    * `min_wait`- an `int` representing the minimum delay before an appointment can take place\n",
    "* The function should return the day of the appointment and the clinic_id of the booking (in a tuple)\n",
    "* Use the data `data/example_available_slots2.csv`\n",
    "* Some test data:\n",
    "    * t = 0, clinic_id = 0, min_wait = 1; result = (3, 0)\n",
    "    * t = 3, clinic_id = 0, min_wait = 2; result = (5, 0)\n",
    "    * t = 0, clinic_id = 1, min_wait = 1; result = (6, 1)\n",
    "    * t = 4, clinic_id = 2, min_wait = 2; result = (7, 2) \n",
    "    \n",
    "    \n",
    "**Hints**\n",
    "* You can code this either in pandas or numpy (the latter is more efficient!).  To drop to numpy call `to_numpy()` off of `available_slots`\n",
    "* Remember you want slots in the future not the past!\n",
    "* For a clinic you want the indexes of slots that have greater than zero slots.  Select the earliest of these."
   ]
  },
  {
   "cell_type": "code",
   "execution_count": null,
   "metadata": {},
   "outputs": [],
   "source": [
    "#read it the data \n",
    "available_slots = pd.read_csv('data/example_available_slots2.csv', \n",
    "                              index_col='day')\n",
    "available_slots.head()\n",
    "\n",
    "#your code here ..."
   ]
  },
  {
   "cell_type": "code",
   "execution_count": null,
   "metadata": {},
   "outputs": [],
   "source": [
    "#example answer\n",
    "def find_slot(available_slots, t, clinic_id, min_wait):\n",
    "    '''\n",
    "    Finds a slot in a diary of available slot\n",
    "\n",
    "    Params:\n",
    "    ------\n",
    "    t: int,\n",
    "        time t in days\n",
    "\n",
    "    clinic_id: int\n",
    "        clinic id is the index  of the clinic column in diary\n",
    "\n",
    "    min_wait: int\n",
    "        minimum number days a patient must wait before attending a booking\n",
    "        \n",
    "    Returns:\n",
    "    ------\n",
    "    (int, int)\n",
    "    (booked_t, booked_clinic_id)\n",
    "    '''\n",
    "    #to reduce runtime drop to numpy\n",
    "    available_slots_np = available_slots.to_numpy()\n",
    "\n",
    "    #get the clinic slots t+min_wait forward for the pooled clinics\n",
    "    clinic_slots = available_slots_np[t+min_wait:, clinic_id]\n",
    "\n",
    "    #(booked_t, booked_clinic_id)\n",
    "    return np.argmax(clinic_slots > 0) + min_wait + t, clinic_id"
   ]
  },
  {
   "cell_type": "code",
   "execution_count": null,
   "metadata": {},
   "outputs": [],
   "source": [
    "#change the params to see the results change.\n",
    "t = 0\n",
    "clinic_id = 0\n",
    "min_wait = 1\n",
    "\n",
    "available_slots = pd.read_csv('data/example_available_slots2.csv', \n",
    "                              index_col='day')\n",
    "\n",
    "find_slot(available_slots, t, clinic_id, min_wait)"
   ]
  },
  {
   "cell_type": "markdown",
   "metadata": {},
   "source": [
    "# Pooled Booking\n",
    "\n",
    "In the model booking logic is implemented in a set of Booking classes that encapsulate the varying logic of `book_slot(t, clinic_id)` and `find_slot(t, clinic_id)` (depending on the priority of a patient and if pooling of clinics is active)\n",
    "\n",
    "For example, to work with pooled booking we would use `LowPriorityPooledBooker`.  We will work with a contrived dataset 'data/example_available_slots3.csv'"
   ]
  },
  {
   "cell_type": "code",
   "execution_count": null,
   "metadata": {},
   "outputs": [],
   "source": [
    "from sim_utility.scheduling_example import LowPriorityPooledBooker"
   ]
  },
  {
   "cell_type": "code",
   "execution_count": null,
   "metadata": {},
   "outputs": [],
   "source": [
    "#create an instance of the booker and pass in the simulation args\n",
    "args = ScenarioArgs(run_length=5, \n",
    "                    slots_file='data/example_available_slots3.csv')\n",
    "\n",
    "#parameters is just the scenario args\n",
    "booker = LowPriorityPooledBooker(args)"
   ]
  },
  {
   "cell_type": "markdown",
   "metadata": {},
   "source": [
    "If we take a look at the pooling matrix for **clinic 1** we can see that patients can also attend clinics 2 and 3."
   ]
  },
  {
   "cell_type": "code",
   "execution_count": null,
   "metadata": {},
   "outputs": [],
   "source": [
    "pd.read_csv('data/partial_pooling.csv', index_col=0)['clinic_1']"
   ]
  },
  {
   "cell_type": "markdown",
   "metadata": {},
   "source": [
    "If a patient with home clinic 1 (index 0) is referred at $t=0$ this is what the availabilty of slots looks like at the pooled clinics."
   ]
  },
  {
   "cell_type": "code",
   "execution_count": null,
   "metadata": {},
   "outputs": [],
   "source": [
    "args.available_slots[['clinic_1','clinic_2', 'clinic_3']].head()"
   ]
  },
  {
   "cell_type": "markdown",
   "metadata": {},
   "source": [
    "## Exercise 4: Use `LowPriorityPooledBooker`\n",
    "\n",
    "Note: Low priority patients must wait a minimum of 3 days before taking a slot.\n",
    "\n",
    "**Task**:\n",
    "* Call the `booker.find_slot()` method and try the following refrerral parameters:\n",
    "    * t = 0; clinic_id = 0\n",
    "    * t = 0; clinic_id = 0\n",
    "    * t = 1; clinic_id = 0\n",
    "    \n",
    "* Are you able to explain the results?\n",
    "\n",
    "**Hints:**\n",
    "* Remember that `find_slot()` does not actually book a slot.  It returns a tuple of `(best_t, best_clinic_id)`"
   ]
  },
  {
   "cell_type": "code",
   "execution_count": null,
   "metadata": {},
   "outputs": [],
   "source": [
    "# your code here..."
   ]
  },
  {
   "cell_type": "code",
   "execution_count": null,
   "metadata": {},
   "outputs": [],
   "source": [
    "#example answer\n",
    "t = 0\n",
    "home_clinic_id = 0\n",
    "booker.find_slot(t, home_clinic_id)"
   ]
  },
  {
   "cell_type": "markdown",
   "metadata": {},
   "source": [
    "t = 0\n",
    "home_clinic_id = 2\n",
    "booker.find_slot(t, home_clinic_id)"
   ]
  },
  {
   "cell_type": "code",
   "execution_count": null,
   "metadata": {},
   "outputs": [],
   "source": [
    "t = 1\n",
    "home_clinic_id = 0\n",
    "booker.find_slot(t, home_clinic_id)"
   ]
  },
  {
   "cell_type": "markdown",
   "metadata": {},
   "source": [
    "# Exercise 5.  The simulation model.\n",
    "\n",
    "## Exercise 5.1: Implementing a Patient Referrals class\n",
    "\n",
    "We can consider each arrival to the system as a `PatientReferral`.  Some of these referrals are rejected if a more appropraite service is available.  The remaining referrals will use the current scheduling rules to find a slot and book it.\n",
    "\n",
    "The code listing below provides skeleton and pseudo code for `PatientReferral`. The main method for finding and booking a slot is `execute()`.\n",
    "\n",
    "**Task:**\n",
    "* Complete the `PatientReferral.execute()` method below.  \n",
    "* Your code should do the following\n",
    "    1. find the best slot and clinic using `self.booker`\n",
    "    2. book the best slot at the chosen clinic using `self.booker`\n",
    "    3. use simpy's timeout functionality to schedule the completion of the process\n",
    "    4. save the patients waiting time.\n",
    "    \n",
    "**Hints:**\n",
    "* There is no need for the code to be complex.  There are just a few operations to complete.\n",
    "* Remember this is a simpy process. So you should be using `yield` and `env.timeout(delay_value)`"
   ]
  },
  {
   "cell_type": "code",
   "execution_count": null,
   "metadata": {},
   "outputs": [],
   "source": [
    "class PatientReferral(object):\n",
    "    '''\n",
    "    Patient referral process\n",
    "    \n",
    "    Find an appropraite asessment slot for the patient.\n",
    "    Schedule an assessment for that day.\n",
    "    \n",
    "    '''\n",
    "    def __init__(self, env, args, referral_t, home_clinic, booker):\n",
    "        '''\n",
    "        Constructor\n",
    "        \n",
    "        Params:\n",
    "        -------\n",
    "        env: simpy.Environment\n",
    "        \n",
    "        args: ScenarioArgs\n",
    "            - container class for model inputs and other useful\n",
    "              objects\n",
    "              \n",
    "        referral_t: float:\n",
    "            Time of referral\n",
    "            \n",
    "        home_clinic: int\n",
    "            Clinic id in the same region as the patient\n",
    "        \n",
    "        booker: object\n",
    "            Object that has an interface including\n",
    "            book_slot(t, clinic_id) and find_slot(t, clinic_id).\n",
    "            Used for finding and booking slots.\n",
    "        '''\n",
    "        \n",
    "        self.env = env\n",
    "        self.args = args\n",
    "        self.referral_t = referral_t\n",
    "        self.home_clinic = home_clinic\n",
    "        \n",
    "        self.booked_clinic = home_clinic\n",
    "        self.booker = booker\n",
    "                \n",
    "        #performance metrics \n",
    "        self.waiting_time = None\n",
    "    \n",
    "    @property\n",
    "    def priority(self):\n",
    "        '''\n",
    "        Return the priority of the patient booking\n",
    "        '''\n",
    "        return self.booker.priority\n",
    "    \n",
    "    def execute(self):\n",
    "        '''\n",
    "        Patient is referred to clinic\n",
    "        \n",
    "        1. find earliest slot within rules\n",
    "        2. book slot at clinic\n",
    "        3. schedule process to complete at that time\n",
    "        '''\n",
    "        \n",
    "        #get best slot for clinic\n",
    "        #YOUR CODE HERE ...\n",
    "        \n",
    "        #book slot at clinic = best_T\n",
    "        #YOUR CODE HERE ....\n",
    "            \n",
    "        #wait for appointment\n",
    "        #YOUR CODE HERE ...\n",
    "        \n",
    "        # measure waiting time on day of appointment\n",
    "        #(could also record this before appointment, but leaving until \n",
    "        #afterwards allows modifications where patients can be moved)\n",
    "        #YOUR CODE HERE ..."
   ]
  },
  {
   "cell_type": "code",
   "execution_count": null,
   "metadata": {},
   "outputs": [],
   "source": [
    "#example solution\n",
    "class PatientReferral(object):\n",
    "    '''\n",
    "    Patient referral process\n",
    "    \n",
    "    Find an appropraite asessment slot for the patient.\n",
    "    Schedule an assessment for that day.\n",
    "    \n",
    "    '''\n",
    "    def __init__(self, env, args, referral_t, home_clinic, booker):\n",
    "        '''\n",
    "        Constructor\n",
    "        \n",
    "        Params:\n",
    "        -------\n",
    "        env: simpy.Environment\n",
    "        \n",
    "        args: ScenarioArgs\n",
    "            - container class for model inputs and other useful\n",
    "              objects\n",
    "              \n",
    "        referral_t: float:\n",
    "            Time of referral\n",
    "            \n",
    "        home_clinic: int\n",
    "            Clinic id in the same region as the patient\n",
    "        \n",
    "        booker: object\n",
    "            Object that has an interface including\n",
    "            book_slot(t, clinic_id) and find_slot(t, clinic_id).\n",
    "            Used for finding and booking slots.\n",
    "        '''\n",
    "        self.env = env\n",
    "        self.args = args\n",
    "        self.referral_t = referral_t\n",
    "        self.home_clinic = home_clinic\n",
    "        self.booked_clinic = home_clinic\n",
    "        self.booker = booker\n",
    "                \n",
    "        #performance metrics \n",
    "        self.waiting_time = None\n",
    "    \n",
    "    @property\n",
    "    def priority(self):\n",
    "        '''\n",
    "        Return the priority of the patient booking\n",
    "        '''\n",
    "        return self.booker.priority\n",
    "    \n",
    "    def execute(self):\n",
    "        '''\n",
    "        Patient is referred to clinic\n",
    "        \n",
    "        1. find earliest slot within rules\n",
    "        2. book slot at clinic\n",
    "        3. schedule process to complete at that time\n",
    "        '''\n",
    "        #get best slot for clinic\n",
    "        best_t, self.booked_clinic = \\\n",
    "            self.booker.find_slot(self.referral_t, self.home_clinic)\n",
    "        \n",
    "        #book slot at clinic = best_T\n",
    "        self.booker.book_slot(best_t, self.booked_clinic)\n",
    "            \n",
    "        #wait for appointment\n",
    "        yield self.env.timeout(best_t - self.referral_t)\n",
    "        \n",
    "        # measure waiting time on day of appointment\n",
    "        #(could also record this before appointment, but leaving until \n",
    "        #afterwards allows modifications where patients can be moved)\n",
    "        self.waiting_time = best_t - self.referral_t\n",
    "        "
   ]
  },
  {
   "cell_type": "markdown",
   "metadata": {},
   "source": [
    "## A look at the logic of `AssessmentReferralModel`\n",
    "\n",
    "The code listing below contains the logic of `AssessmentReferralModel`.   Like all `simpy` models it contains a main generator loop to create processes.\n",
    "\n",
    "Rather than simulating the time between arrivals the code takes a time slicing approach (fixed intervals of a day).  On each day a Poisson distribution (with mean ~60) is used to sample the **number** of arrivals during that day.  We can do this because we are not concerned with the time of arrival within the day.  Each arrival follows the same simulation process:\n",
    "\n",
    "1. Sample home clinic \n",
    "2. Triage - is the patient referred out of system?\n",
    "3. If the patients needs an appointments sample a priority\n",
    "4. Use the priority to select the appropriate booking class \n",
    "5. Create a PatientReferral instance and execute the process.\n",
    "\n",
    "This means there are two main loops.  Here's the first:\n",
    "\n",
    "```python\n",
    "for t in itertools.count():\n",
    "    #day logic ...\n",
    "```\n",
    "\n",
    "this is an infinite loop (it loops until the simpy environment terminates) that increments a counter `t` that represents the day number.\n",
    "\n",
    "The second loop is:\n",
    "\n",
    "```python\n",
    "    #sample the number of referrals today\n",
    "    n_referrals = self.args.arrival_dist.sample()\n",
    "\n",
    "    #loop through all referrals recieved that day\n",
    "    for i in range(n_referrals):\n",
    "        #referral logic ...\n",
    "```\n",
    "\n",
    "this samples from the daily arrival distribution (by default a Poisson) and assigns the result to `n_referrals`.  We use this to guide the second loop that executes the logic in points 1-5 above.\n",
    "\n",
    "**1. sampling the home clinic**\n",
    "```python\n",
    "        #sample clinic based on empirical proportions\n",
    "        clinic_id = self.args.clinic_dist.sample()\n",
    "        \n",
    "        #arg.clinics is a list of Clinic objects\n",
    "        clinic = self.args.clinics[clinic_id]\n",
    "```\n",
    "\n",
    "**2. triaging the patient to see if they are referred to another service**\n",
    "\n",
    "This uses `clinic` which contains the probability of referral for the individual clinic.\n",
    "\n",
    "```python\n",
    "        #triage patient and refer out of system if appropraite\n",
    "        referred_out = clinic.ref_out_dist.sample()\n",
    "```\n",
    "\n",
    "**3. If the patients needs an appointments sample a priority**\n",
    "\n",
    "```python\n",
    "        #if patient is accepted to clinic\n",
    "        if referred_out == 0: \n",
    "\n",
    "            #is patient high priority?\n",
    "            high_priority = self.args.priority_dist.sample()\n",
    "```\n",
    "\n",
    "\n",
    "**4. Use the priority to select the appropriate booking class**\n",
    "\n",
    "The `args` instance has an bool attribute called `pooling`.  This is used to control the behaviour of the model (False = no pooling; True = use the pooling matrix)\n",
    "\n",
    "```python\n",
    "            if high_priority == 1:\n",
    "                #different policy if pooling or not\n",
    "                if self.args.pooling:\n",
    "                    booker = HighPriorityPooledBooker(self.args)\n",
    "                else:\n",
    "                    booker = HighPriorityBooker(self.args)\n",
    "            else:\n",
    "                #different policy if pooling or not\n",
    "                if self.args.pooling:\n",
    "                    booker = LowPriorityPooledBooker(self.args)\n",
    "                else:\n",
    "                    booker = LowPriorityBooker(self.args)\n",
    "```\n",
    "\n",
    "**5. Create a PatientReferral instance and execute the process.**\n",
    "```python\n",
    "            #create instance of PatientReferral\n",
    "            patient = PatientReferral(self.env, self.args, t, \n",
    "                                      clinic_id, booker)\n",
    "\n",
    "            #start a referral assessment process for patient.\n",
    "            self.env.process(patient.execute())\n",
    "```\n",
    "\n",
    "The full code listing is below."
   ]
  },
  {
   "cell_type": "code",
   "execution_count": null,
   "metadata": {},
   "outputs": [],
   "source": [
    "from sim_utility.scheduling_example import (HighPriorityBooker, \n",
    "                                            LowPriorityBooker,\n",
    "                                            LowPriorityPooledBooker,\n",
    "                                            HighPriorityPooledBooker)"
   ]
  },
  {
   "cell_type": "code",
   "execution_count": null,
   "metadata": {},
   "outputs": [],
   "source": [
    "class AssessmentReferralModel(object):\n",
    "    '''\n",
    "    Implements the Mental Wellbeing and Access 'Assessment Referral'\n",
    "    model in Pitt, Monks and Allen (2015). https://bit.ly/3j8OH6y\n",
    "    \n",
    "    Patients arrive at random and in proportion to the regional team.\n",
    "    \n",
    "    Patients may be seen by any team identified by a pooling matrix.  \n",
    "    This includes limiting a patient to only be seen by their local team.  \n",
    "    \n",
    "    The model reports average waiting time and can be used to compare \n",
    "    full, partial and no pooling of appointments.\n",
    "    \n",
    "    '''\n",
    "    def __init__(self, args):\n",
    "        '''\n",
    "        Constructor\n",
    "        \n",
    "        Params:\n",
    "        ------\n",
    "        \n",
    "        args: ScenarioArgs\n",
    "            Arguments for the simulation model\n",
    "    \n",
    "        '''\n",
    "        self.env = simpy.Environment()\n",
    "        self.args = args\n",
    "        \n",
    "        #list of patients referral processes \n",
    "        self.referrals = []\n",
    "        \n",
    "        #simpy processes\n",
    "        self.env.process(self.generate_arrivals())\n",
    "        \n",
    "    def run(self):\n",
    "        '''\n",
    "        Conduct a single run of the simulation model.\n",
    "        '''\n",
    "        self.env.run(self.args.run_length)\n",
    "        self.process_run_results()\n",
    "    \n",
    "    def generate_arrivals(self):\n",
    "        '''\n",
    "        Time slicing simulation.  The model steps forward by a single\n",
    "        day and simulates the number of arrivals from a Poisson\n",
    "        distribution.  The following process is then applied.\n",
    "        \n",
    "        1. Sample the region of the referral from a Poisson distribution\n",
    "        2. Triage - is an appointment made for the patient or are they referred\n",
    "        to another service?\n",
    "        3. A referral process is initiated for the patient.\n",
    "        \n",
    "        '''\n",
    "        #loop a day at a time.\n",
    "        for t in itertools.count():\n",
    "            \n",
    "            #total number of referrals today\n",
    "            n_referrals = self.args.arrival_dist.sample()\n",
    "            \n",
    "            #loop through all referrals recieved that day\n",
    "            for i in range(n_referrals):\n",
    "                \n",
    "                #sample clinic based on empirical proportions\n",
    "                clinic_id = self.args.clinic_dist.sample()\n",
    "                clinic = self.args.clinics[clinic_id]\n",
    "                \n",
    "                #triage patient and refer out of system if appropraite\n",
    "                referred_out = clinic.ref_out_dist.sample()\n",
    "                \n",
    "                #if patient is accepted to clinic\n",
    "                if referred_out == 0: \n",
    "                \n",
    "                    #is patient high priority?\n",
    "                    high_priority = self.args.priority_dist.sample()\n",
    "                \n",
    "                    if high_priority == 1:\n",
    "                        #different policy if pooling or not\n",
    "                        if self.args.pooling:\n",
    "                            booker = HighPriorityPooledBooker(self.args)\n",
    "                        else:\n",
    "                            booker = HighPriorityBooker(self.args)\n",
    "                    else:\n",
    "                        #different policy if pooling or not\n",
    "                        if self.args.pooling:\n",
    "                            booker = LowPriorityPooledBooker(self.args)\n",
    "                        else:\n",
    "                            booker = LowPriorityBooker(self.args)\n",
    "                \n",
    "                    #create instance of PatientReferral\n",
    "                    patient = PatientReferral(self.env, self.args, t, \n",
    "                                              clinic_id, booker)\n",
    "                    \n",
    "                    #start a referral assessment process for patient.\n",
    "                    self.env.process(patient.execute())\n",
    "                                        \n",
    "                    #only collect results after warm-up complete\n",
    "                    if self.env.now > self.args.warm_up_period:\n",
    "                        #store patient for calculating waiting time stats at end\n",
    "                        self.referrals.append(patient)\n",
    "            \n",
    "            #timestep by one day\n",
    "            yield self.env.timeout(1)\n",
    "            \n",
    "    def process_run_results(self):\n",
    "        '''\n",
    "        Produce summary results split by priority...\n",
    "        '''\n",
    "        \n",
    "        results_all = [p.waiting_time for p in self.referrals \n",
    "               if not p.waiting_time is None]\n",
    "\n",
    "        results_low = [p.waiting_time for p in self.referrals \n",
    "                       if not (p.waiting_time is None) and p.priority == 1]\n",
    "\n",
    "        results_high = [p.waiting_time for p in self.referrals \n",
    "                       if (not p.waiting_time is None) and p.priority == 2]\n",
    "        \n",
    "        self.results_all = results_all\n",
    "        self.results_low = results_low\n",
    "        self.results_high = results_high"
   ]
  },
  {
   "cell_type": "markdown",
   "metadata": {},
   "source": [
    "## Exercise 5.2 Pulling it all together and running scenarios\n",
    "\n",
    "Let's do three single runs of the model.  Each run will be a scenario.   \n",
    "\n",
    "1. A base run.  In the first scenario we will use the default settings.  \n",
    "2. Partial pooling with carve out. In the second run we will set `ScenarioArgs.pooling = True`.  \n",
    "3. Patient pooling with no carve out.  In the third run we will set `ScenarioArgs.prop_carve_out=0.0` AND `ScenarioArgs.pooling = True`. \n",
    "\n",
    "**Task:**\n",
    "* Modify the code listing below so that it runs three scenarios.\n",
    "* After you have run the two scenarios show the two result summaries.\n",
    "* After running the model what do you think of the options?\n",
    "\n",
    "**Hints**:\n",
    "* Make sure the code below executes correctly first.  If it fails then there is likely an issue in your custom `PatientReferral` class.\n",
    "* Take a look at the constructor method of ScenarioArgs.  This accepts a parameter called `pooling` (default=False).  Set this to `True` for the second and third scenarios. It also accepts a parameter `prop_carve_out`.  Set this to 0.0 in the third scenario."
   ]
  },
  {
   "cell_type": "code",
   "execution_count": null,
   "metadata": {},
   "outputs": [],
   "source": [
    "%%time\n",
    "#depending on settings and CPU this model takes around 5-10 seconds to run \n",
    "\n",
    "#5 day a week model = 260 days a year\n",
    "RESULTS_COLLECTION = 260 * 1\n",
    "\n",
    "#We will learn about warm-up periods in a later lab.  We use one\n",
    "#because the model starts up empty which doesn't reflect reality\n",
    "WARM_UP = 260 * 3\n",
    "RUN_LENGTH = RESULTS_COLLECTION + WARM_UP\n",
    "\n",
    "#set up the scenario for the model to run.\n",
    "args = ScenarioArgs(RUN_LENGTH, WARM_UP, seeds=generate_seed_vector())\n",
    "\n",
    "#run model and return waiting time results split by priority\n",
    "results_all, results_low, results_high = single_run(args)\n",
    "\n",
    "#show a results summary\n",
    "results_summary(results_all, results_low, results_high)"
   ]
  },
  {
   "cell_type": "code",
   "execution_count": null,
   "metadata": {},
   "outputs": [],
   "source": [
    "%%time\n",
    "#example solution...\n",
    "\n",
    "#depending on settings and CPU this model takes around 15-20 seconds to run \n",
    "\n",
    "#5 day a week model = 260 days a year\n",
    "RESULTS_COLLECTION = 260 * 1\n",
    "\n",
    "#We will learn about warm-up periods in a later lab.  We use one\n",
    "#because the model starts up empty which doesn't reflect reality\n",
    "WARM_UP = 260 * 3\n",
    "RUN_LENGTH = RESULTS_COLLECTION + WARM_UP\n",
    "\n",
    "#set up the scenario for the model to run.\n",
    "scenarios = {}\n",
    "scenarios['as-is'] = ScenarioArgs(RUN_LENGTH, WARM_UP, \n",
    "                                 seeds=generate_seed_vector())\n",
    "scenarios['pooled'] = ScenarioArgs(RUN_LENGTH, WARM_UP, pooling=True,\n",
    "                                   seeds=generate_seed_vector())\n",
    "scenarios['no_carve_out'] = ScenarioArgs(RUN_LENGTH, WARM_UP, pooling=True, \n",
    "                                         prop_carve_out=0.0, \n",
    "                                         seeds=generate_seed_vector())\n",
    "\n",
    "for name, args in scenarios.items():\n",
    "    print(f'Running Scenario: {name}', end=' => ')\n",
    "    #run model and return waiting time results split by priority\n",
    "    results_all, results_low, results_high = single_run(args)\n",
    "    print(f'done.\\n{name} results:')\n",
    "    #show a results summary\n",
    "    print(results_summary(results_all, results_low, results_high))\n",
    "    print('\\n')"
   ]
  },
  {
   "cell_type": "markdown",
   "metadata": {},
   "source": [
    "# End of Lab."
   ]
  },
  {
   "cell_type": "code",
   "execution_count": null,
   "metadata": {},
   "outputs": [],
   "source": []
  }
 ],
 "metadata": {
  "kernelspec": {
   "display_name": "Python 3",
   "language": "python",
   "name": "python3"
  },
  "language_info": {
   "codemirror_mode": {
    "name": "ipython",
    "version": 3
   },
   "file_extension": ".py",
   "mimetype": "text/x-python",
   "name": "python",
   "nbconvert_exporter": "python",
   "pygments_lexer": "ipython3",
   "version": "3.7.7"
  }
 },
 "nbformat": 4,
 "nbformat_minor": 4
}
