{
 "cells": [
  {
   "cell_type": "code",
   "execution_count": null,
   "metadata": {},
   "outputs": [],
   "source": [
    "# Cleaning code"
   ]
  },
  {
   "cell_type": "code",
   "execution_count": null,
   "metadata": {},
   "outputs": [],
   "source": []
  },
  {
   "cell_type": "code",
   "execution_count": null,
   "metadata": {},
   "outputs": [],
   "source": []
  },
  {
   "cell_type": "code",
   "execution_count": null,
   "metadata": {},
   "outputs": [],
   "source": [
    "#if asu_admit > hosp_arrival then use asu_admit else use hosp_arrival + 4 hours.\n",
    "acute_strokes['asu_admit_dt'] \\\n",
    "    = np.where(acute_strokes['asu_admit_date'] > acute_strokes['hosp_arrival_dt'], \n",
    "               acute_strokes['asu_admit_date'],\n",
    "               acute_strokes['hosp_arrival_dt'] + np.timedelta64(4, 'h'))"
   ]
  },
  {
   "cell_type": "code",
   "execution_count": null,
   "metadata": {},
   "outputs": [],
   "source": [
    "#look asu_admit date and asu_admit_dt in the row with id 2027\n",
    "#this is why we need to make a small correction.\n",
    "acute_strokes.head()"
   ]
  },
  {
   "cell_type": "code",
   "execution_count": null,
   "metadata": {},
   "outputs": [],
   "source": [
    "#update so that 4 hours + doesn't cross to the next day\n",
    "acute_strokes['asu_admit_dt'] = \\\n",
    "    np.where((acute_strokes['asu_admit_date'] == acute_strokes['hosp_arrival_date']) & (\n",
    "             acute_strokes['asu_admit_dt'].dt.day != acute_strokes['hosp_arrival_dt'].dt.day), \n",
    "             #then = 23:59 on day of arrival\n",
    "             acute_strokes['hosp_arrival_date'] + np.timedelta64(1439, 'm'),\n",
    "             #otherwise do nothing\n",
    "             acute_strokes['asu_admit_dt'])"
   ]
  },
  {
   "cell_type": "code",
   "execution_count": null,
   "metadata": {},
   "outputs": [],
   "source": [
    "#drop all patients that had a stay in a 2nd/3rd/4th ward before discharge\n",
    "asu_discharges = acute_strokes.loc[acute_strokes['ward2_admit_date'].isna()]"
   ]
  },
  {
   "cell_type": "code",
   "execution_count": null,
   "metadata": {},
   "outputs": [],
   "source": [
    "#TO CSV\n",
    "# asu_discharges[['hosp_arrival_dt', \n",
    "#                 'patient_type', \n",
    "#                 'asu_admit_dt', \n",
    "#                 'hosp_discharge_dt',\n",
    "#                 'esd']].to_csv('../../../../input_modelling_data/asu_discharges.csv', index=False)"
   ]
  }
 ],
 "metadata": {
  "kernelspec": {
   "display_name": "Python 3",
   "language": "python",
   "name": "python3"
  },
  "language_info": {
   "codemirror_mode": {
    "name": "ipython",
    "version": 3
   },
   "file_extension": ".py",
   "mimetype": "text/x-python",
   "name": "python",
   "nbconvert_exporter": "python",
   "pygments_lexer": "ipython3",
   "version": "3.7.7"
  }
 },
 "nbformat": 4,
 "nbformat_minor": 4
}
