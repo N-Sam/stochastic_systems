{
 "cells": [
  {
   "cell_type": "markdown",
   "metadata": {},
   "source": [
    "# Simulation input modelling\n",
    "\n",
    "**In this lab you will:**\n",
    "\n",
    "* Gain practical knowledge in pre-processing and analysing real world stochastic health system data\n",
    "* Learn how to fit distribution to data\n",
    "* Learn how to select a suitable distribution for your data\n"
   ]
  },
  {
   "cell_type": "code",
   "execution_count": 114,
   "metadata": {},
   "outputs": [],
   "source": [
    "import pandas as pd\n",
    "import numpy as np\n",
    "import matplotlib.pyplot as plt\n",
    "import seaborn as sns\n",
    "sns.set()"
   ]
  },
  {
   "cell_type": "markdown",
   "metadata": {},
   "source": [
    "## **Exercise 1**: stroke ward admissions and early supported discharge\n",
    "\n",
    "The dataset we will work with represents admissions and discharges at a hospital acute stroke ward.  \n",
    "\n",
    "The dataset contains the following fields\n",
    "\n",
    "* **patient_type**: stroke, tia (minor stroke), complex-neurological (e.g. brain injury) and other (i.e. non-neurological patients)\n",
    "* **acute_admission**: date dd/mm/yyyy of arrival\n",
    "* **asu_discharge**: date dd/mm/yyyy of discharge\n",
    "* **esd**: Early supported discharge binary 0/1. 1 == patient underwent ESD\n",
    "\n",
    "**In this exercise you will need to:**\n",
    "* Preprocess and wrangle the data set\n",
    "* Perform some exploratory analysis\n",
    "* Fit one or more distributions to decide how to model the arrival process\n",
    "* Fit one or more distributions to decide how to model length stay on the ward.\n",
    "\n",
    "### Reading in the data"
   ]
  },
  {
   "cell_type": "code",
   "execution_count": 276,
   "metadata": {},
   "outputs": [],
   "source": [
    "acute_strokes = pd.read_csv('../../../../input_modelling_data/input_model_asu.csv')"
   ]
  },
  {
   "cell_type": "code",
   "execution_count": 277,
   "metadata": {},
   "outputs": [
    {
     "data": {
      "text/plain": [
       "(2279, 5)"
      ]
     },
     "execution_count": 277,
     "metadata": {},
     "output_type": "execute_result"
    }
   ],
   "source": [
    "acute_strokes.shape"
   ]
  },
  {
   "cell_type": "code",
   "execution_count": 278,
   "metadata": {},
   "outputs": [
    {
     "data": {
      "text/html": [
       "<div>\n",
       "<style scoped>\n",
       "    .dataframe tbody tr th:only-of-type {\n",
       "        vertical-align: middle;\n",
       "    }\n",
       "\n",
       "    .dataframe tbody tr th {\n",
       "        vertical-align: top;\n",
       "    }\n",
       "\n",
       "    .dataframe thead th {\n",
       "        text-align: right;\n",
       "    }\n",
       "</style>\n",
       "<table border=\"1\" class=\"dataframe\">\n",
       "  <thead>\n",
       "    <tr style=\"text-align: right;\">\n",
       "      <th></th>\n",
       "      <th>Unnamed: 0</th>\n",
       "      <th>patient_type</th>\n",
       "      <th>asu_admit</th>\n",
       "      <th>asu_discharge</th>\n",
       "      <th>esd</th>\n",
       "    </tr>\n",
       "  </thead>\n",
       "  <tbody>\n",
       "    <tr>\n",
       "      <th>0</th>\n",
       "      <td>0</td>\n",
       "      <td>Stroke</td>\n",
       "      <td>01/01/2010</td>\n",
       "      <td>24/01/2010</td>\n",
       "      <td>0</td>\n",
       "    </tr>\n",
       "    <tr>\n",
       "      <th>1</th>\n",
       "      <td>1</td>\n",
       "      <td>Stroke</td>\n",
       "      <td>02/01/2010</td>\n",
       "      <td>13/01/2010</td>\n",
       "      <td>0</td>\n",
       "    </tr>\n",
       "    <tr>\n",
       "      <th>2</th>\n",
       "      <td>2</td>\n",
       "      <td>Stroke</td>\n",
       "      <td>02/01/2010</td>\n",
       "      <td>08/01/2010</td>\n",
       "      <td>0</td>\n",
       "    </tr>\n",
       "    <tr>\n",
       "      <th>3</th>\n",
       "      <td>3</td>\n",
       "      <td>Complex-neurological</td>\n",
       "      <td>02/01/2010</td>\n",
       "      <td>03/01/2010</td>\n",
       "      <td>0</td>\n",
       "    </tr>\n",
       "    <tr>\n",
       "      <th>4</th>\n",
       "      <td>4</td>\n",
       "      <td>Other</td>\n",
       "      <td>04/01/2010</td>\n",
       "      <td>04/01/2010</td>\n",
       "      <td>0</td>\n",
       "    </tr>\n",
       "  </tbody>\n",
       "</table>\n",
       "</div>"
      ],
      "text/plain": [
       "   Unnamed: 0          patient_type   asu_admit asu_discharge  esd\n",
       "0           0                Stroke  01/01/2010    24/01/2010    0\n",
       "1           1                Stroke  02/01/2010    13/01/2010    0\n",
       "2           2                Stroke  02/01/2010    08/01/2010    0\n",
       "3           3  Complex-neurological  02/01/2010    03/01/2010    0\n",
       "4           4                 Other  04/01/2010    04/01/2010    0"
      ]
     },
     "execution_count": 278,
     "metadata": {},
     "output_type": "execute_result"
    }
   ],
   "source": [
    "acute_strokes.head()"
   ]
  },
  {
   "cell_type": "code",
   "execution_count": 279,
   "metadata": {},
   "outputs": [
    {
     "name": "stdout",
     "output_type": "stream",
     "text": [
      "<class 'pandas.core.frame.DataFrame'>\n",
      "RangeIndex: 2279 entries, 0 to 2278\n",
      "Data columns (total 5 columns):\n",
      " #   Column         Non-Null Count  Dtype \n",
      "---  ------         --------------  ----- \n",
      " 0   Unnamed: 0     2279 non-null   int64 \n",
      " 1   patient_type   2279 non-null   object\n",
      " 2   asu_admit      2279 non-null   object\n",
      " 3   asu_discharge  2279 non-null   object\n",
      " 4   esd            2279 non-null   int64 \n",
      "dtypes: int64(2), object(3)\n",
      "memory usage: 89.1+ KB\n"
     ]
    }
   ],
   "source": [
    "#any missing data?\n",
    "acute_strokes.info()"
   ]
  },
  {
   "cell_type": "markdown",
   "metadata": {},
   "source": [
    "### Exercise 1.1: reformat the date fields\n",
    "\n",
    "The date fields as-is are not suitable for analysis in python. Before we can do any analysis we need to pre-process the dates.\n",
    "\n",
    "**Task**:\n",
    "\n",
    "* Convert `acute_admit` and `asu_discharge` into valid date fields: format = YYYY-MM-DD\n",
    "\n",
    "**Hints**\n",
    "\n",
    "* Take a look at the `pd.to_datetime()` function\n",
    "* The dates are in UK format.  You will need to look at what options `pandas` provides to handle it."
   ]
  },
  {
   "cell_type": "code",
   "execution_count": 280,
   "metadata": {},
   "outputs": [],
   "source": [
    "# your code here ..."
   ]
  },
  {
   "cell_type": "code",
   "execution_count": 281,
   "metadata": {},
   "outputs": [],
   "source": [
    "#example answer\n",
    "acute_strokes['asu_admit'] = pd.to_datetime(acute_strokes['asu_admit'], \n",
    "                                                dayfirst=True)\n",
    "acute_strokes['asu_discharge'] = pd.to_datetime(acute_strokes['asu_discharge'],\n",
    "                                                dayfirst=True)"
   ]
  },
  {
   "cell_type": "code",
   "execution_count": 282,
   "metadata": {},
   "outputs": [
    {
     "data": {
      "text/html": [
       "<div>\n",
       "<style scoped>\n",
       "    .dataframe tbody tr th:only-of-type {\n",
       "        vertical-align: middle;\n",
       "    }\n",
       "\n",
       "    .dataframe tbody tr th {\n",
       "        vertical-align: top;\n",
       "    }\n",
       "\n",
       "    .dataframe thead th {\n",
       "        text-align: right;\n",
       "    }\n",
       "</style>\n",
       "<table border=\"1\" class=\"dataframe\">\n",
       "  <thead>\n",
       "    <tr style=\"text-align: right;\">\n",
       "      <th></th>\n",
       "      <th>Unnamed: 0</th>\n",
       "      <th>patient_type</th>\n",
       "      <th>asu_admit</th>\n",
       "      <th>asu_discharge</th>\n",
       "      <th>esd</th>\n",
       "    </tr>\n",
       "  </thead>\n",
       "  <tbody>\n",
       "    <tr>\n",
       "      <th>0</th>\n",
       "      <td>0</td>\n",
       "      <td>Stroke</td>\n",
       "      <td>2010-01-01</td>\n",
       "      <td>2010-01-24</td>\n",
       "      <td>0</td>\n",
       "    </tr>\n",
       "    <tr>\n",
       "      <th>1</th>\n",
       "      <td>1</td>\n",
       "      <td>Stroke</td>\n",
       "      <td>2010-01-02</td>\n",
       "      <td>2010-01-13</td>\n",
       "      <td>0</td>\n",
       "    </tr>\n",
       "    <tr>\n",
       "      <th>2</th>\n",
       "      <td>2</td>\n",
       "      <td>Stroke</td>\n",
       "      <td>2010-01-02</td>\n",
       "      <td>2010-01-08</td>\n",
       "      <td>0</td>\n",
       "    </tr>\n",
       "    <tr>\n",
       "      <th>3</th>\n",
       "      <td>3</td>\n",
       "      <td>Complex-neurological</td>\n",
       "      <td>2010-01-02</td>\n",
       "      <td>2010-01-03</td>\n",
       "      <td>0</td>\n",
       "    </tr>\n",
       "    <tr>\n",
       "      <th>4</th>\n",
       "      <td>4</td>\n",
       "      <td>Other</td>\n",
       "      <td>2010-01-04</td>\n",
       "      <td>2010-01-04</td>\n",
       "      <td>0</td>\n",
       "    </tr>\n",
       "  </tbody>\n",
       "</table>\n",
       "</div>"
      ],
      "text/plain": [
       "   Unnamed: 0          patient_type  asu_admit asu_discharge  esd\n",
       "0           0                Stroke 2010-01-01    2010-01-24    0\n",
       "1           1                Stroke 2010-01-02    2010-01-13    0\n",
       "2           2                Stroke 2010-01-02    2010-01-08    0\n",
       "3           3  Complex-neurological 2010-01-02    2010-01-03    0\n",
       "4           4                 Other 2010-01-04    2010-01-04    0"
      ]
     },
     "execution_count": 282,
     "metadata": {},
     "output_type": "execute_result"
    }
   ],
   "source": [
    "acute_strokes.head()"
   ]
  },
  {
   "cell_type": "code",
   "execution_count": 283,
   "metadata": {},
   "outputs": [
    {
     "name": "stdout",
     "output_type": "stream",
     "text": [
      "<class 'pandas.core.frame.DataFrame'>\n",
      "RangeIndex: 2279 entries, 0 to 2278\n",
      "Data columns (total 5 columns):\n",
      " #   Column         Non-Null Count  Dtype         \n",
      "---  ------         --------------  -----         \n",
      " 0   Unnamed: 0     2279 non-null   int64         \n",
      " 1   patient_type   2279 non-null   object        \n",
      " 2   asu_admit      2279 non-null   datetime64[ns]\n",
      " 3   asu_discharge  2279 non-null   datetime64[ns]\n",
      " 4   esd            2279 non-null   int64         \n",
      "dtypes: datetime64[ns](2), int64(2), object(1)\n",
      "memory usage: 89.1+ KB\n"
     ]
    }
   ],
   "source": [
    "acute_strokes.info()"
   ]
  },
  {
   "cell_type": "markdown",
   "metadata": {},
   "source": [
    "### **Exercise 1.2** Sort the admissions by date\n",
    "\n",
    "**Task**:\n",
    "* Put the data into ascending order sorted by`asu_admit` \n",
    "\n",
    "**Hints**:\n",
    "* Take a look at `pd.DataFrame.sort_values(by)`\n",
    "* Make sure you take a look at what `sort_values` does and what it returns"
   ]
  },
  {
   "cell_type": "code",
   "execution_count": 284,
   "metadata": {},
   "outputs": [],
   "source": [
    "#your code here ..."
   ]
  },
  {
   "cell_type": "code",
   "execution_count": 285,
   "metadata": {},
   "outputs": [
    {
     "data": {
      "text/html": [
       "<div>\n",
       "<style scoped>\n",
       "    .dataframe tbody tr th:only-of-type {\n",
       "        vertical-align: middle;\n",
       "    }\n",
       "\n",
       "    .dataframe tbody tr th {\n",
       "        vertical-align: top;\n",
       "    }\n",
       "\n",
       "    .dataframe thead th {\n",
       "        text-align: right;\n",
       "    }\n",
       "</style>\n",
       "<table border=\"1\" class=\"dataframe\">\n",
       "  <thead>\n",
       "    <tr style=\"text-align: right;\">\n",
       "      <th></th>\n",
       "      <th>Unnamed: 0</th>\n",
       "      <th>patient_type</th>\n",
       "      <th>asu_admit</th>\n",
       "      <th>asu_discharge</th>\n",
       "      <th>esd</th>\n",
       "    </tr>\n",
       "  </thead>\n",
       "  <tbody>\n",
       "    <tr>\n",
       "      <th>0</th>\n",
       "      <td>0</td>\n",
       "      <td>Stroke</td>\n",
       "      <td>2010-01-01</td>\n",
       "      <td>2010-01-24</td>\n",
       "      <td>0</td>\n",
       "    </tr>\n",
       "    <tr>\n",
       "      <th>1</th>\n",
       "      <td>1</td>\n",
       "      <td>Stroke</td>\n",
       "      <td>2010-01-02</td>\n",
       "      <td>2010-01-13</td>\n",
       "      <td>0</td>\n",
       "    </tr>\n",
       "    <tr>\n",
       "      <th>2</th>\n",
       "      <td>2</td>\n",
       "      <td>Stroke</td>\n",
       "      <td>2010-01-02</td>\n",
       "      <td>2010-01-08</td>\n",
       "      <td>0</td>\n",
       "    </tr>\n",
       "    <tr>\n",
       "      <th>3</th>\n",
       "      <td>3</td>\n",
       "      <td>Complex-neurological</td>\n",
       "      <td>2010-01-02</td>\n",
       "      <td>2010-01-03</td>\n",
       "      <td>0</td>\n",
       "    </tr>\n",
       "    <tr>\n",
       "      <th>4</th>\n",
       "      <td>4</td>\n",
       "      <td>Other</td>\n",
       "      <td>2010-01-04</td>\n",
       "      <td>2010-01-04</td>\n",
       "      <td>0</td>\n",
       "    </tr>\n",
       "  </tbody>\n",
       "</table>\n",
       "</div>"
      ],
      "text/plain": [
       "   Unnamed: 0          patient_type  asu_admit asu_discharge  esd\n",
       "0           0                Stroke 2010-01-01    2010-01-24    0\n",
       "1           1                Stroke 2010-01-02    2010-01-13    0\n",
       "2           2                Stroke 2010-01-02    2010-01-08    0\n",
       "3           3  Complex-neurological 2010-01-02    2010-01-03    0\n",
       "4           4                 Other 2010-01-04    2010-01-04    0"
      ]
     },
     "execution_count": 285,
     "metadata": {},
     "output_type": "execute_result"
    }
   ],
   "source": [
    "#example answer\n",
    "acute_strokes = acute_strokes.sort_values(by='asu_admit')\n",
    "acute_strokes.head()"
   ]
  },
  {
   "cell_type": "markdown",
   "metadata": {},
   "source": [
    "### **Exercise 1.3** Recoding the `patient_type` field\n",
    "\n",
    "It is not strictly necessary, but its often useful to get recode fields of type **str** to an **int**\n",
    "\n",
    "Let's take a look at the unique codings we have for patient_type:"
   ]
  },
  {
   "cell_type": "code",
   "execution_count": 286,
   "metadata": {},
   "outputs": [
    {
     "data": {
      "text/plain": [
       "array(['Stroke', 'Complex-neurological', 'Other', 'TIA'], dtype=object)"
      ]
     },
     "execution_count": 286,
     "metadata": {},
     "output_type": "execute_result"
    }
   ],
   "source": [
    "acute_strokes.patient_type.unique()"
   ]
  },
  {
   "cell_type": "markdown",
   "metadata": {},
   "source": [
    "So we have four types of basic classification.  Let's recode them as follows:\n",
    "* Stroke: 0\n",
    "* Complex-neurological: 1\n",
    "* Other: 2\n",
    "* TIA: 3"
   ]
  },
  {
   "cell_type": "markdown",
   "metadata": {},
   "source": [
    "**Task:**\n",
    "\n",
    "* Either recode or create a new field that encodes the type of patient as above. The output of your preprocessing will be a numeric field.\n",
    "* Confirm your recoding has worked (you can always reload the data an preprocess again if needed!)\n",
    "\n",
    "**Hints:**\n",
    "\n",
    "* There are multiple ways to complete this exercise.  One option is to make use of `pd.DataFrame.replace()` method.  For that you will need to create a dict that maps a str to an int e.g.\n",
    "\n",
    "```python\n",
    "example_mapping = {'foo':0,\n",
    "                   'bar':1,\n",
    "                   'spam':2}\n",
    "\n",
    "example_df.replace(example_mapping)\n",
    "```"
   ]
  },
  {
   "cell_type": "code",
   "execution_count": 287,
   "metadata": {},
   "outputs": [],
   "source": [
    "# your code here ..."
   ]
  },
  {
   "cell_type": "code",
   "execution_count": 288,
   "metadata": {},
   "outputs": [],
   "source": [
    "#example answer ..\n",
    "#we will store the recoding in a \n",
    "recoded_patient_type = {'Stroke':0, \n",
    "                        'Complex-neurological':1, \n",
    "                        'TIA':2, \n",
    "                        'Other':3}"
   ]
  },
  {
   "cell_type": "code",
   "execution_count": 289,
   "metadata": {},
   "outputs": [],
   "source": [
    "acute_strokes = acute_strokes.replace(recoded_patient_type)"
   ]
  },
  {
   "cell_type": "code",
   "execution_count": 290,
   "metadata": {},
   "outputs": [
    {
     "data": {
      "text/html": [
       "<div>\n",
       "<style scoped>\n",
       "    .dataframe tbody tr th:only-of-type {\n",
       "        vertical-align: middle;\n",
       "    }\n",
       "\n",
       "    .dataframe tbody tr th {\n",
       "        vertical-align: top;\n",
       "    }\n",
       "\n",
       "    .dataframe thead th {\n",
       "        text-align: right;\n",
       "    }\n",
       "</style>\n",
       "<table border=\"1\" class=\"dataframe\">\n",
       "  <thead>\n",
       "    <tr style=\"text-align: right;\">\n",
       "      <th></th>\n",
       "      <th>Unnamed: 0</th>\n",
       "      <th>patient_type</th>\n",
       "      <th>asu_admit</th>\n",
       "      <th>asu_discharge</th>\n",
       "      <th>esd</th>\n",
       "    </tr>\n",
       "  </thead>\n",
       "  <tbody>\n",
       "    <tr>\n",
       "      <th>0</th>\n",
       "      <td>0</td>\n",
       "      <td>0</td>\n",
       "      <td>2010-01-01</td>\n",
       "      <td>2010-01-24</td>\n",
       "      <td>0</td>\n",
       "    </tr>\n",
       "    <tr>\n",
       "      <th>1</th>\n",
       "      <td>1</td>\n",
       "      <td>0</td>\n",
       "      <td>2010-01-02</td>\n",
       "      <td>2010-01-13</td>\n",
       "      <td>0</td>\n",
       "    </tr>\n",
       "    <tr>\n",
       "      <th>2</th>\n",
       "      <td>2</td>\n",
       "      <td>0</td>\n",
       "      <td>2010-01-02</td>\n",
       "      <td>2010-01-08</td>\n",
       "      <td>0</td>\n",
       "    </tr>\n",
       "    <tr>\n",
       "      <th>3</th>\n",
       "      <td>3</td>\n",
       "      <td>1</td>\n",
       "      <td>2010-01-02</td>\n",
       "      <td>2010-01-03</td>\n",
       "      <td>0</td>\n",
       "    </tr>\n",
       "    <tr>\n",
       "      <th>4</th>\n",
       "      <td>4</td>\n",
       "      <td>3</td>\n",
       "      <td>2010-01-04</td>\n",
       "      <td>2010-01-04</td>\n",
       "      <td>0</td>\n",
       "    </tr>\n",
       "  </tbody>\n",
       "</table>\n",
       "</div>"
      ],
      "text/plain": [
       "   Unnamed: 0  patient_type  asu_admit asu_discharge  esd\n",
       "0           0             0 2010-01-01    2010-01-24    0\n",
       "1           1             0 2010-01-02    2010-01-13    0\n",
       "2           2             0 2010-01-02    2010-01-08    0\n",
       "3           3             1 2010-01-02    2010-01-03    0\n",
       "4           4             3 2010-01-04    2010-01-04    0"
      ]
     },
     "execution_count": 290,
     "metadata": {},
     "output_type": "execute_result"
    }
   ],
   "source": [
    "acute_strokes.head()"
   ]
  },
  {
   "cell_type": "markdown",
   "metadata": {},
   "source": [
    "### **Exercise 1.4** Explore the interarrival distributions\n",
    "\n",
    "A first task in input modelling is often to explore the interarrival distributions.  This is often a major source of variability in stochastic health systems.\n",
    "\n",
    "**Task:**\n",
    "\n",
    "* Using your **pre-sorted** data calculate the days between arrivals.  We will ignore patient types for the moment.\n",
    "* Plot a histogram of interarrival times\n",
    "* Calculate the mean and stdev of the interarrival times\n",
    "* What might be a reasonable distribution?\n",
    "\n",
    "**Hints**:\n",
    "\n",
    "* Checkout the `pd.DataFrame.diff()` method\n",
    "* If a field is a valid datetime then you can access days, months, years as follows:\n",
    "\n",
    "```python\n",
    "\n",
    "#for days\n",
    "example_df['my_date_field'].dt.days\n",
    "\n",
    "#months\n",
    "example_df['my_date_field'].dt.months\n",
    "\n",
    "#years\n",
    "example_df['my_date_field'].dt.years\n",
    "\n",
    "```"
   ]
  },
  {
   "cell_type": "code",
   "execution_count": 291,
   "metadata": {},
   "outputs": [],
   "source": [
    "#your code here ..."
   ]
  },
  {
   "cell_type": "code",
   "execution_count": 292,
   "metadata": {},
   "outputs": [
    {
     "data": {
      "text/plain": [
       "0    NaN\n",
       "1    1.0\n",
       "2    0.0\n",
       "3    0.0\n",
       "4    2.0\n",
       "Name: asu_admit, dtype: float64"
      ]
     },
     "execution_count": 292,
     "metadata": {},
     "output_type": "execute_result"
    }
   ],
   "source": [
    "#example answer ...\n",
    "inter_arrivals = acute_strokes['asu_admit'].diff().dt.days\n",
    "inter_arrivals.head()"
   ]
  },
  {
   "cell_type": "code",
   "execution_count": 293,
   "metadata": {},
   "outputs": [
    {
     "data": {
      "text/plain": [
       "<matplotlib.axes._subplots.AxesSubplot at 0x7f96d33d8ef0>"
      ]
     },
     "execution_count": 293,
     "metadata": {},
     "output_type": "execute_result"
    },
    {
     "data": {
      "image/png": "[encoded data removed]",
      "text/plain": [
       "<Figure size 432x288 with 1 Axes>"
      ]
     },
     "metadata": {},
     "output_type": "display_data"
    }
   ],
   "source": [
    "inter_arrivals.hist(bins=10)"
   ]
  },
  {
   "cell_type": "code",
   "execution_count": 294,
   "metadata": {},
   "outputs": [
    {
     "data": {
      "text/plain": [
       "0.6167690956979807"
      ]
     },
     "execution_count": 294,
     "metadata": {},
     "output_type": "execute_result"
    }
   ],
   "source": [
    "inter_arrivals.mean()"
   ]
  },
  {
   "cell_type": "code",
   "execution_count": 295,
   "metadata": {},
   "outputs": [
    {
     "data": {
      "text/plain": [
       "0.7655400499591828"
      ]
     },
     "execution_count": 295,
     "metadata": {},
     "output_type": "execute_result"
    }
   ],
   "source": [
    "inter_arrivals.std()"
   ]
  },
  {
   "cell_type": "markdown",
   "metadata": {},
   "source": [
    "### **Exercise 1.5** Subgroup interarrival distributions.\n",
    "\n",
    "We know that there are at least four categories of patients that use the system.  Let's explore if the distributions vary by group.\n",
    "\n",
    "**Task:**\n",
    "* For each sub group (stroke, complex, tia and other)\n",
    "    * summarise the subgroup sample size\n",
    "    * calculate the subgroups interarrival days (i.e. the days between consecutive stroke arrivals)\n",
    "    * plot the distribution as a histogram\n",
    "    * calculate the mean and standard dev\n",
    "    \n",
    "* Without doing a formal statistical test, what distributions do you think would be useful?\n",
    "\n",
    "**Hints:**\n",
    "\n",
    "* You can plot each of histograms seperately.  But if you wanted to plot histograms in a grid remember `Matplotlib` has `fig, ax = plot.subplots(nrows, ncols)` where `ax` is a numpy matrix and each element represents the corresponding axis of a chart in the grid."
   ]
  },
  {
   "cell_type": "code",
   "execution_count": 296,
   "metadata": {},
   "outputs": [],
   "source": [
    "# your code here ..."
   ]
  },
  {
   "cell_type": "code",
   "execution_count": 301,
   "metadata": {},
   "outputs": [
    {
     "name": "stdout",
     "output_type": "stream",
     "text": [
      "0: n:1253, m:1.12, s:1.18\n",
      "1: n:410, m:3.41, s:3.92\n",
      "2: n:157, m:8.64, s:10.70\n",
      "3: n:459, m:3.04, s:4.34\n"
     ]
    }
   ],
   "source": [
    "#exmple answer ...\n",
    "iat_by_group = {}\n",
    "\n",
    "for patient_type in range(4):\n",
    "    #calculate individual iat\n",
    "    data = acute_strokes.loc[acute_strokes['patient_type'] \\\n",
    "            == patient_type]['asu_admit'].diff().dt.days\n",
    "\n",
    "    #print mean\n",
    "    print(f'{patient_type}: n:{data.shape[0]}, m:{data.dropna().mean():.2f}, s:{data.dropna().std():.2f}')\n",
    "    \n",
    "    #store by group\n",
    "    iat_by_group[f'{patient_type}'] = data\n"
   ]
  },
  {
   "cell_type": "code",
   "execution_count": 302,
   "metadata": {},
   "outputs": [
    {
     "data": {
      "image/png": "[encoded data removed]",
      "text/plain": [
       "<Figure size 864x360 with 4 Axes>"
      ]
     },
     "metadata": {},
     "output_type": "display_data"
    }
   ],
   "source": [
    "#plot histograms on grid\n",
    "fig, ax = plt.subplots(nrows=2, ncols=2, figsize=(12, 5), sharex=True)\n",
    "\n",
    "key = 0\n",
    "for row in range(2):\n",
    "    for col in range(2):\n",
    "        #plot histogram dropping initial NAN to avoid matplotlib warning/moaning\n",
    "        ax[row][col].hist(iat[f'{key}'].dropna())\n",
    "        key += 1"
   ]
  },
  {
   "cell_type": "code",
   "execution_count": 306,
   "metadata": {},
   "outputs": [
    {
     "data": {
      "text/plain": [
       "[1.1222044728434504, 3.41320293398533, 8.64102564102564, 3.0436681222707422]"
      ]
     },
     "execution_count": 306,
     "metadata": {},
     "output_type": "execute_result"
    }
   ],
   "source": [
    "#if yuo wanted to store subgroup means\n",
    "means = [items.dropna().to_numpy().mean() for group, items in iat.items()]\n",
    "means"
   ]
  },
  {
   "cell_type": "code",
   "execution_count": 307,
   "metadata": {},
   "outputs": [
    {
     "data": {
      "text/plain": [
       "[1.1830481004722977, 3.9107302403269304, 10.663830984020368, 4.335072423896152]"
      ]
     },
     "execution_count": 307,
     "metadata": {},
     "output_type": "execute_result"
    }
   ],
   "source": [
    "#and subgroup std\n",
    "stds = [items.dropna().to_numpy().std() for group, items in iat.items()]\n",
    "stds"
   ]
  },
  {
   "cell_type": "markdown",
   "metadata": {},
   "source": [
    "### **Exercise 1.6** Are stroke patients that undergo ESD different from those that don't?\n",
    "\n",
    "Let's explore if Early Supported Discharge patients have a different arrival process to non-ESD patients\n",
    "\n",
    "**Task:**\n",
    "\n",
    "* Using the field 'esd' split the **stroke** patients into two groups:  ESD stroke patients and non-ESD patients.\n",
    "* Plot the distributions\n",
    "* Calculate the mean and standard deviation of each subgroup.\n",
    "* You should find that the mean and stdev are roughly the same for each group.  \n",
    "    * What distribution does this suggest is a good choice and what is special about this distribution that means you don't need to model it as two seperate arrival processes?\n",
    "    * What percentage of stroke arrivals go on to have ESD?  How might you model that?"
   ]
  },
  {
   "cell_type": "code",
   "execution_count": 329,
   "metadata": {},
   "outputs": [
    {
     "data": {
      "text/plain": [
       "(278,)"
      ]
     },
     "execution_count": 329,
     "metadata": {},
     "output_type": "execute_result"
    }
   ],
   "source": [
    "inter_arrivals_esd = acute_strokes.loc[(acute_strokes['esd'] == 1) & (acute_strokes['patient_type'] == 0)]['asu_admit'].diff().dt.days\n",
    "inter_arrivals_esd.shape"
   ]
  },
  {
   "cell_type": "code",
   "execution_count": 330,
   "metadata": {},
   "outputs": [
    {
     "data": {
      "text/plain": [
       "(975,)"
      ]
     },
     "execution_count": 330,
     "metadata": {},
     "output_type": "execute_result"
    }
   ],
   "source": [
    "inter_arrivals_no_esd = acute_strokes.loc[(acute_strokes['esd'] == 0) & (acute_strokes['patient_type'] == 0)]['asu_admit'].diff().dt.days\n",
    "inter_arrivals_no_esd.shape"
   ]
  },
  {
   "cell_type": "code",
   "execution_count": 333,
   "metadata": {},
   "outputs": [
    {
     "data": {
      "text/plain": [
       "1253"
      ]
     },
     "execution_count": 333,
     "metadata": {},
     "output_type": "execute_result"
    }
   ],
   "source": [
    "#check we are not missing any strokes. should = 1253\n",
    "inter_arrivals_esd.shape[0] + inter_arrivals_no_esd.shape[0]"
   ]
  },
  {
   "cell_type": "code",
   "execution_count": 350,
   "metadata": {},
   "outputs": [
    {
     "data": {
      "text/plain": [
       "0.22186751795690343"
      ]
     },
     "execution_count": 350,
     "metadata": {},
     "output_type": "execute_result"
    }
   ],
   "source": [
    "inter_arrivals_esd.shape[0] / (inter_arrivals_esd.shape[0] + inter_arrivals_no_esd.shape[0])"
   ]
  },
  {
   "cell_type": "code",
   "execution_count": 346,
   "metadata": {},
   "outputs": [
    {
     "data": {
      "image/png": "[encoded data removed]",
      "text/plain": [
       "<Figure size 864x360 with 2 Axes>"
      ]
     },
     "metadata": {},
     "output_type": "display_data"
    }
   ],
   "source": [
    "#plot histograms on grid\n",
    "fig, ax = plt.subplots(nrows=2, ncols=1, figsize=(12, 5), sharey=True, sharex=True)\n",
    "\n",
    "ax[0].hist(inter_arrivals_no_esd.dropna(), density=True);\n",
    "ax[1].hist(inter_arrivals_esd.dropna(), density=True);"
   ]
  },
  {
   "cell_type": "code",
   "execution_count": 347,
   "metadata": {},
   "outputs": [
    {
     "data": {
      "text/plain": [
       "count    277.000000\n",
       "mean       3.916968\n",
       "std        4.012250\n",
       "min        0.000000\n",
       "25%        1.000000\n",
       "50%        3.000000\n",
       "75%        5.000000\n",
       "max       21.000000\n",
       "Name: asu_admit, dtype: float64"
      ]
     },
     "execution_count": 347,
     "metadata": {},
     "output_type": "execute_result"
    }
   ],
   "source": [
    "inter_arrivals_esd.describe()"
   ]
  },
  {
   "cell_type": "code",
   "execution_count": 348,
   "metadata": {},
   "outputs": [
    {
     "data": {
      "text/plain": [
       "count    974.000000\n",
       "mean       1.442505\n",
       "std        1.532881\n",
       "min        0.000000\n",
       "25%        0.000000\n",
       "50%        1.000000\n",
       "75%        2.000000\n",
       "max       10.000000\n",
       "Name: asu_admit, dtype: float64"
      ]
     },
     "execution_count": 348,
     "metadata": {},
     "output_type": "execute_result"
    }
   ],
   "source": [
    "inter_arrivals_no_esd.describe()"
   ]
  },
  {
   "cell_type": "markdown",
   "metadata": {},
   "source": [
    "### **Exercise 1.7**: length of stay in the acute ward\n",
    "\n",
    "To estimate distributions of length of stay we need to calculate the difference in days between admission and discharge.\n",
    "\n",
    "**Task:**\n",
    "\n",
    "* Create a new field called `los` that is equal the patients length of stay in the ward in days.\n",
    "* Explore the distribution of LoS by patient_type subgroup.\n",
    "\n",
    "**Hints:**\n",
    "\n",
    "* Remember to look at ESD versus non-ESD stroke patients"
   ]
  },
  {
   "cell_type": "code",
   "execution_count": 352,
   "metadata": {},
   "outputs": [
    {
     "data": {
      "text/html": [
       "<div>\n",
       "<style scoped>\n",
       "    .dataframe tbody tr th:only-of-type {\n",
       "        vertical-align: middle;\n",
       "    }\n",
       "\n",
       "    .dataframe tbody tr th {\n",
       "        vertical-align: top;\n",
       "    }\n",
       "\n",
       "    .dataframe thead th {\n",
       "        text-align: right;\n",
       "    }\n",
       "</style>\n",
       "<table border=\"1\" class=\"dataframe\">\n",
       "  <thead>\n",
       "    <tr style=\"text-align: right;\">\n",
       "      <th></th>\n",
       "      <th>Unnamed: 0</th>\n",
       "      <th>patient_type</th>\n",
       "      <th>asu_admit</th>\n",
       "      <th>asu_discharge</th>\n",
       "      <th>esd</th>\n",
       "    </tr>\n",
       "  </thead>\n",
       "  <tbody>\n",
       "    <tr>\n",
       "      <th>0</th>\n",
       "      <td>0</td>\n",
       "      <td>0</td>\n",
       "      <td>2010-01-01</td>\n",
       "      <td>2010-01-24</td>\n",
       "      <td>0</td>\n",
       "    </tr>\n",
       "    <tr>\n",
       "      <th>1</th>\n",
       "      <td>1</td>\n",
       "      <td>0</td>\n",
       "      <td>2010-01-02</td>\n",
       "      <td>2010-01-13</td>\n",
       "      <td>0</td>\n",
       "    </tr>\n",
       "    <tr>\n",
       "      <th>2</th>\n",
       "      <td>2</td>\n",
       "      <td>0</td>\n",
       "      <td>2010-01-02</td>\n",
       "      <td>2010-01-08</td>\n",
       "      <td>0</td>\n",
       "    </tr>\n",
       "    <tr>\n",
       "      <th>3</th>\n",
       "      <td>3</td>\n",
       "      <td>1</td>\n",
       "      <td>2010-01-02</td>\n",
       "      <td>2010-01-03</td>\n",
       "      <td>0</td>\n",
       "    </tr>\n",
       "    <tr>\n",
       "      <th>4</th>\n",
       "      <td>4</td>\n",
       "      <td>3</td>\n",
       "      <td>2010-01-04</td>\n",
       "      <td>2010-01-04</td>\n",
       "      <td>0</td>\n",
       "    </tr>\n",
       "  </tbody>\n",
       "</table>\n",
       "</div>"
      ],
      "text/plain": [
       "   Unnamed: 0  patient_type  asu_admit asu_discharge  esd\n",
       "0           0             0 2010-01-01    2010-01-24    0\n",
       "1           1             0 2010-01-02    2010-01-13    0\n",
       "2           2             0 2010-01-02    2010-01-08    0\n",
       "3           3             1 2010-01-02    2010-01-03    0\n",
       "4           4             3 2010-01-04    2010-01-04    0"
      ]
     },
     "execution_count": 352,
     "metadata": {},
     "output_type": "execute_result"
    }
   ],
   "source": [
    "acute_strokes.head()"
   ]
  },
  {
   "cell_type": "code",
   "execution_count": 357,
   "metadata": {},
   "outputs": [],
   "source": [
    "acute_strokes['los'] = (acute_strokes.asu_discharge - acute_strokes.asu_admit).dt.days"
   ]
  },
  {
   "cell_type": "code",
   "execution_count": 368,
   "metadata": {},
   "outputs": [
    {
     "data": {
      "text/html": [
       "<div>\n",
       "<style scoped>\n",
       "    .dataframe tbody tr th:only-of-type {\n",
       "        vertical-align: middle;\n",
       "    }\n",
       "\n",
       "    .dataframe tbody tr th {\n",
       "        vertical-align: top;\n",
       "    }\n",
       "\n",
       "    .dataframe thead th {\n",
       "        text-align: right;\n",
       "    }\n",
       "</style>\n",
       "<table border=\"1\" class=\"dataframe\">\n",
       "  <thead>\n",
       "    <tr style=\"text-align: right;\">\n",
       "      <th></th>\n",
       "      <th>Unnamed: 0</th>\n",
       "      <th>patient_type</th>\n",
       "      <th>asu_admit</th>\n",
       "      <th>asu_discharge</th>\n",
       "      <th>esd</th>\n",
       "      <th>los</th>\n",
       "    </tr>\n",
       "  </thead>\n",
       "  <tbody>\n",
       "    <tr>\n",
       "      <th>4</th>\n",
       "      <td>4</td>\n",
       "      <td>3</td>\n",
       "      <td>2010-01-04</td>\n",
       "      <td>2010-01-04</td>\n",
       "      <td>0</td>\n",
       "      <td>0</td>\n",
       "    </tr>\n",
       "    <tr>\n",
       "      <th>53</th>\n",
       "      <td>53</td>\n",
       "      <td>3</td>\n",
       "      <td>2010-02-08</td>\n",
       "      <td>2010-02-08</td>\n",
       "      <td>0</td>\n",
       "      <td>0</td>\n",
       "    </tr>\n",
       "    <tr>\n",
       "      <th>75</th>\n",
       "      <td>75</td>\n",
       "      <td>3</td>\n",
       "      <td>2010-02-19</td>\n",
       "      <td>2010-02-19</td>\n",
       "      <td>0</td>\n",
       "      <td>0</td>\n",
       "    </tr>\n",
       "    <tr>\n",
       "      <th>80</th>\n",
       "      <td>80</td>\n",
       "      <td>1</td>\n",
       "      <td>2010-02-22</td>\n",
       "      <td>2010-02-22</td>\n",
       "      <td>0</td>\n",
       "      <td>0</td>\n",
       "    </tr>\n",
       "    <tr>\n",
       "      <th>89</th>\n",
       "      <td>89</td>\n",
       "      <td>1</td>\n",
       "      <td>2010-02-27</td>\n",
       "      <td>2010-02-27</td>\n",
       "      <td>0</td>\n",
       "      <td>0</td>\n",
       "    </tr>\n",
       "    <tr>\n",
       "      <th>...</th>\n",
       "      <td>...</td>\n",
       "      <td>...</td>\n",
       "      <td>...</td>\n",
       "      <td>...</td>\n",
       "      <td>...</td>\n",
       "      <td>...</td>\n",
       "    </tr>\n",
       "    <tr>\n",
       "      <th>2232</th>\n",
       "      <td>2232</td>\n",
       "      <td>1</td>\n",
       "      <td>2013-09-24</td>\n",
       "      <td>2013-09-24</td>\n",
       "      <td>0</td>\n",
       "      <td>0</td>\n",
       "    </tr>\n",
       "    <tr>\n",
       "      <th>2244</th>\n",
       "      <td>2244</td>\n",
       "      <td>2</td>\n",
       "      <td>2013-10-03</td>\n",
       "      <td>2013-10-03</td>\n",
       "      <td>0</td>\n",
       "      <td>0</td>\n",
       "    </tr>\n",
       "    <tr>\n",
       "      <th>2246</th>\n",
       "      <td>2246</td>\n",
       "      <td>2</td>\n",
       "      <td>2013-10-04</td>\n",
       "      <td>2013-10-04</td>\n",
       "      <td>0</td>\n",
       "      <td>0</td>\n",
       "    </tr>\n",
       "    <tr>\n",
       "      <th>2255</th>\n",
       "      <td>2255</td>\n",
       "      <td>2</td>\n",
       "      <td>2013-10-10</td>\n",
       "      <td>2013-10-10</td>\n",
       "      <td>0</td>\n",
       "      <td>0</td>\n",
       "    </tr>\n",
       "    <tr>\n",
       "      <th>2264</th>\n",
       "      <td>2264</td>\n",
       "      <td>3</td>\n",
       "      <td>2013-10-19</td>\n",
       "      <td>2013-10-19</td>\n",
       "      <td>0</td>\n",
       "      <td>0</td>\n",
       "    </tr>\n",
       "  </tbody>\n",
       "</table>\n",
       "<p>198 rows × 6 columns</p>\n",
       "</div>"
      ],
      "text/plain": [
       "      Unnamed: 0  patient_type  asu_admit asu_discharge  esd  los\n",
       "4              4             3 2010-01-04    2010-01-04    0    0\n",
       "53            53             3 2010-02-08    2010-02-08    0    0\n",
       "75            75             3 2010-02-19    2010-02-19    0    0\n",
       "80            80             1 2010-02-22    2010-02-22    0    0\n",
       "89            89             1 2010-02-27    2010-02-27    0    0\n",
       "...          ...           ...        ...           ...  ...  ...\n",
       "2232        2232             1 2013-09-24    2013-09-24    0    0\n",
       "2244        2244             2 2013-10-03    2013-10-03    0    0\n",
       "2246        2246             2 2013-10-04    2013-10-04    0    0\n",
       "2255        2255             2 2013-10-10    2013-10-10    0    0\n",
       "2264        2264             3 2013-10-19    2013-10-19    0    0\n",
       "\n",
       "[198 rows x 6 columns]"
      ]
     },
     "execution_count": 368,
     "metadata": {},
     "output_type": "execute_result"
    }
   ],
   "source": [
    "acute_strokes.loc[acute_strokes['los'] == 0]"
   ]
  },
  {
   "cell_type": "code",
   "execution_count": 362,
   "metadata": {},
   "outputs": [
    {
     "name": "stdout",
     "output_type": "stream",
     "text": [
      "0: n:1253, m:6.76, s:8.03\n",
      "1: n:410, m:3.93, s:5.06\n",
      "2: n:157, m:1.69, s:2.34\n",
      "3: n:459, m:3.67, s:5.27\n"
     ]
    }
   ],
   "source": [
    "#exmple answer ...\n",
    "los_by_group = {}\n",
    "\n",
    "for patient_type in range(4):\n",
    "    #calculate individual los\n",
    "    data = acute_strokes.loc[acute_strokes['patient_type'] \\\n",
    "            == patient_type]['los']\n",
    "\n",
    "    #print mean\n",
    "    print(f'{patient_type}: n:{data.shape[0]}, m:{data.dropna().mean():.2f}, s:{data.dropna().std():.2f}')\n",
    "    \n",
    "    #store by group\n",
    "    los_by_group[f'{patient_type}'] = data\n"
   ]
  },
  {
   "cell_type": "code",
   "execution_count": 363,
   "metadata": {},
   "outputs": [
    {
     "data": {
      "image/png": "[encoded data removed]",
      "text/plain": [
       "<Figure size 864x360 with 4 Axes>"
      ]
     },
     "metadata": {},
     "output_type": "display_data"
    }
   ],
   "source": [
    "#plot histograms on grid\n",
    "fig, ax = plt.subplots(nrows=2, ncols=2, figsize=(12, 5), sharex=True)\n",
    "\n",
    "key = 0\n",
    "for row in range(2):\n",
    "    for col in range(2):\n",
    "        #plot histogram dropping initial NAN to avoid matplotlib warning/moaning\n",
    "        ax[row][col].hist(los_by_group[f'{key}'].dropna())\n",
    "        key += 1"
   ]
  },
  {
   "cell_type": "code",
   "execution_count": null,
   "metadata": {},
   "outputs": [],
   "source": []
  }
 ],
 "metadata": {
  "kernelspec": {
   "display_name": "Python 3",
   "language": "python",
   "name": "python3"
  },
  "language_info": {
   "codemirror_mode": {
    "name": "ipython",
    "version": 3
   },
   "file_extension": ".py",
   "mimetype": "text/x-python",
   "name": "python",
   "nbconvert_exporter": "python",
   "pygments_lexer": "ipython3",
   "version": "3.7.3"
  }
 },
 "nbformat": 4,
 "nbformat_minor": 4
}
