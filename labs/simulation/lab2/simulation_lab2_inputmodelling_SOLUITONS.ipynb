{
 "cells": [
  {
   "cell_type": "markdown",
   "metadata": {},
   "source": [
    "# Health data preprocessing and input modelling exercises.\n",
    "\n",
    "**In this lab you will:**\n",
    "\n",
    "* Gain practical knowledge in pre-processing and analysing real world stochastic health system data\n",
    "* Learn how to fit distribution to data\n",
    "* Learn how to select a suitable distribution for your data\n",
    "\n",
    "> **STUDENT BEWARE**: This lab can be very frustrating! It is designed to show you the sort of data wrangling, analysis and modelling decisions/assumptions you may need to perform in real simulation study.  But do persevere with it (answers are available as well!).  The experience should demonstrate that fitting distributions to real data is difficult and not quite as textbooks make out! By the end of the lab both your `pandas` skills and simulation input modelling skills will have improved.  >_<\n"
   ]
  },
  {
   "cell_type": "code",
   "execution_count": 1,
   "metadata": {},
   "outputs": [],
   "source": [
    "import pandas as pd\n",
    "import numpy as np\n",
    "import matplotlib.pyplot as plt\n",
    "import seaborn as sns\n",
    "\n",
    "#auto_fit function from pythonhealthcare.org\n",
    "from input_modelling.fitting import auto_fit\n",
    "\n",
    "sns.set()"
   ]
  },
  {
   "cell_type": "markdown",
   "metadata": {},
   "source": [
    "## **Exercise 1**: stroke ward admissions and early supported discharge\n",
    "\n",
    "The dataset we will work with represents admissions and discharges at a hospital acute stroke ward.  \n",
    "\n",
    "The dataset contains the following fields\n",
    "\n",
    "* **patient_type**: stroke, tia (minor stroke), complex-neurological (e.g. brain injury) and other (i.e. non-neurological patients) (str)\n",
    "* **hosp_arrival_date**: date dd-mmm-yy of arrival to hospital (str)\n",
    "* **hosp_arrival_time**: time HH:MM of arrival (str)\n",
    "* **asu_admit_date**: date dd-mmm-yy of admission to the acute stroke unit (str)\n",
    "* **asu_discharge_date**: date dd-mmm-yy of discharge from the acute stroke unit (str)\n",
    "* **wardN_admit_date**: date dd-mmm-yy of admission to the ward N where N is between 2 and 4 (str)\n",
    "* **wardN_discharge_date**: date dd-mmm-yy of discharge from the ward N where N is between 2 and 4 (str)\n",
    "* **hosp_discharge_date**: date dd-mmm-yy of discharge from hospital (str)\n",
    "* **hosp_discharge_time**: time HH:MM of discharge from hospital (str)\n",
    "* **esd**: Early supported discharge binary 0/1. 1 == patient underwent ESD\n",
    "\n",
    "**In this exercise you will need to:**\n",
    "* Make some assumptions about how to model LoS.\n",
    "* Preprocess and wrangle the data set\n",
    "* Perform some exploratory analysis\n",
    "* Fit one or more distributions to decide how to model the arrival process\n",
    "* Fit one or more distributions to decide how to model length stay on the ward.\n",
    "\n",
    "### Reading in the data"
   ]
  },
  {
   "cell_type": "code",
   "execution_count": 2,
   "metadata": {},
   "outputs": [],
   "source": [
    "acute_strokes = pd.read_csv('../../../../input_modelling_data/input_data_asu.csv')"
   ]
  },
  {
   "cell_type": "code",
   "execution_count": 3,
   "metadata": {},
   "outputs": [
    {
     "data": {
      "text/plain": [
       "(2293, 14)"
      ]
     },
     "execution_count": 3,
     "metadata": {},
     "output_type": "execute_result"
    }
   ],
   "source": [
    "acute_strokes.shape"
   ]
  },
  {
   "cell_type": "code",
   "execution_count": 4,
   "metadata": {},
   "outputs": [
    {
     "data": {
      "text/html": [
       "<div>\n",
       "<style scoped>\n",
       "    .dataframe tbody tr th:only-of-type {\n",
       "        vertical-align: middle;\n",
       "    }\n",
       "\n",
       "    .dataframe tbody tr th {\n",
       "        vertical-align: top;\n",
       "    }\n",
       "\n",
       "    .dataframe thead th {\n",
       "        text-align: right;\n",
       "    }\n",
       "</style>\n",
       "<table border=\"1\" class=\"dataframe\">\n",
       "  <thead>\n",
       "    <tr style=\"text-align: right;\">\n",
       "      <th></th>\n",
       "      <th>patient_type</th>\n",
       "      <th>hosp_arrival_date</th>\n",
       "      <th>hosp_arrival_time</th>\n",
       "      <th>asu_admit_date</th>\n",
       "      <th>asu_discharge_date</th>\n",
       "      <th>ward2_admit_date</th>\n",
       "      <th>ward2_discharge_date</th>\n",
       "      <th>ward3_admit_date</th>\n",
       "      <th>ward3_discharge_date</th>\n",
       "      <th>ward4_admit_date</th>\n",
       "      <th>ward4_discharge_date</th>\n",
       "      <th>hosp_discharge_date</th>\n",
       "      <th>hosp_discharge_time</th>\n",
       "      <th>esd</th>\n",
       "    </tr>\n",
       "  </thead>\n",
       "  <tbody>\n",
       "    <tr>\n",
       "      <th>0</th>\n",
       "      <td>Other</td>\n",
       "      <td>20-Jul-12</td>\n",
       "      <td>21:00</td>\n",
       "      <td>21-Jul-12</td>\n",
       "      <td>26-Jul-12</td>\n",
       "      <td>NaN</td>\n",
       "      <td>NaN</td>\n",
       "      <td>NaN</td>\n",
       "      <td>NaN</td>\n",
       "      <td>NaN</td>\n",
       "      <td>NaN</td>\n",
       "      <td>26-Jul-12</td>\n",
       "      <td>17:15</td>\n",
       "      <td>0</td>\n",
       "    </tr>\n",
       "    <tr>\n",
       "      <th>1</th>\n",
       "      <td>Complex-neurological</td>\n",
       "      <td>17-Mar-13</td>\n",
       "      <td>21:20</td>\n",
       "      <td>19-Mar-13</td>\n",
       "      <td>20-Mar-13</td>\n",
       "      <td>NaN</td>\n",
       "      <td>NaN</td>\n",
       "      <td>NaN</td>\n",
       "      <td>NaN</td>\n",
       "      <td>NaN</td>\n",
       "      <td>NaN</td>\n",
       "      <td>26-Mar-13</td>\n",
       "      <td>10:58</td>\n",
       "      <td>0</td>\n",
       "    </tr>\n",
       "    <tr>\n",
       "      <th>2</th>\n",
       "      <td>Complex-neurological</td>\n",
       "      <td>19-Apr-11</td>\n",
       "      <td>15:45</td>\n",
       "      <td>19-Apr-11</td>\n",
       "      <td>21-Apr-11</td>\n",
       "      <td>NaN</td>\n",
       "      <td>NaN</td>\n",
       "      <td>NaN</td>\n",
       "      <td>NaN</td>\n",
       "      <td>NaN</td>\n",
       "      <td>NaN</td>\n",
       "      <td>21-Apr-11</td>\n",
       "      <td>18:08</td>\n",
       "      <td>0</td>\n",
       "    </tr>\n",
       "    <tr>\n",
       "      <th>3</th>\n",
       "      <td>Complex-neurological</td>\n",
       "      <td>13-Feb-13</td>\n",
       "      <td>18:35</td>\n",
       "      <td>14-Feb-13</td>\n",
       "      <td>14-Feb-13</td>\n",
       "      <td>NaN</td>\n",
       "      <td>NaN</td>\n",
       "      <td>NaN</td>\n",
       "      <td>NaN</td>\n",
       "      <td>NaN</td>\n",
       "      <td>NaN</td>\n",
       "      <td>14-Feb-13</td>\n",
       "      <td>15:44</td>\n",
       "      <td>0</td>\n",
       "    </tr>\n",
       "    <tr>\n",
       "      <th>4</th>\n",
       "      <td>Stroke</td>\n",
       "      <td>10-Jul-12</td>\n",
       "      <td>15:00</td>\n",
       "      <td>10-Jul-12</td>\n",
       "      <td>13-Jul-12</td>\n",
       "      <td>NaN</td>\n",
       "      <td>NaN</td>\n",
       "      <td>NaN</td>\n",
       "      <td>NaN</td>\n",
       "      <td>NaN</td>\n",
       "      <td>NaN</td>\n",
       "      <td>13-Jul-12</td>\n",
       "      <td>11:30</td>\n",
       "      <td>0</td>\n",
       "    </tr>\n",
       "  </tbody>\n",
       "</table>\n",
       "</div>"
      ],
      "text/plain": [
       "           patient_type hosp_arrival_date hosp_arrival_time asu_admit_date  \\\n",
       "0                 Other         20-Jul-12             21:00      21-Jul-12   \n",
       "1  Complex-neurological         17-Mar-13             21:20      19-Mar-13   \n",
       "2  Complex-neurological         19-Apr-11             15:45      19-Apr-11   \n",
       "3  Complex-neurological         13-Feb-13             18:35      14-Feb-13   \n",
       "4                Stroke         10-Jul-12             15:00      10-Jul-12   \n",
       "\n",
       "  asu_discharge_date ward2_admit_date ward2_discharge_date ward3_admit_date  \\\n",
       "0          26-Jul-12              NaN                  NaN              NaN   \n",
       "1          20-Mar-13              NaN                  NaN              NaN   \n",
       "2          21-Apr-11              NaN                  NaN              NaN   \n",
       "3          14-Feb-13              NaN                  NaN              NaN   \n",
       "4          13-Jul-12              NaN                  NaN              NaN   \n",
       "\n",
       "  ward3_discharge_date ward4_admit_date ward4_discharge_date  \\\n",
       "0                  NaN              NaN                  NaN   \n",
       "1                  NaN              NaN                  NaN   \n",
       "2                  NaN              NaN                  NaN   \n",
       "3                  NaN              NaN                  NaN   \n",
       "4                  NaN              NaN                  NaN   \n",
       "\n",
       "  hosp_discharge_date hosp_discharge_time  esd  \n",
       "0           26-Jul-12               17:15    0  \n",
       "1           26-Mar-13               10:58    0  \n",
       "2           21-Apr-11               18:08    0  \n",
       "3           14-Feb-13               15:44    0  \n",
       "4           13-Jul-12               11:30    0  "
      ]
     },
     "execution_count": 4,
     "metadata": {},
     "output_type": "execute_result"
    }
   ],
   "source": [
    "#take a look at the head of the dataset\n",
    "acute_strokes.head()"
   ]
  },
  {
   "cell_type": "code",
   "execution_count": 5,
   "metadata": {},
   "outputs": [
    {
     "name": "stdout",
     "output_type": "stream",
     "text": [
      "<class 'pandas.core.frame.DataFrame'>\n",
      "RangeIndex: 2293 entries, 0 to 2292\n",
      "Data columns (total 14 columns):\n",
      " #   Column                Non-Null Count  Dtype \n",
      "---  ------                --------------  ----- \n",
      " 0   patient_type          2293 non-null   object\n",
      " 1   hosp_arrival_date     2293 non-null   object\n",
      " 2   hosp_arrival_time     2292 non-null   object\n",
      " 3   asu_admit_date        2293 non-null   object\n",
      " 4   asu_discharge_date    2293 non-null   object\n",
      " 5   ward2_admit_date      46 non-null     object\n",
      " 6   ward2_discharge_date  45 non-null     object\n",
      " 7   ward3_admit_date      4 non-null      object\n",
      " 8   ward3_discharge_date  4 non-null      object\n",
      " 9   ward4_admit_date      2 non-null      object\n",
      " 10  ward4_discharge_date  2 non-null      object\n",
      " 11  hosp_discharge_date   2293 non-null   object\n",
      " 12  hosp_discharge_time   2293 non-null   object\n",
      " 13  esd                   2293 non-null   int64 \n",
      "dtypes: int64(1), object(13)\n",
      "memory usage: 250.9+ KB\n"
     ]
    }
   ],
   "source": [
    "#any missing data?\n",
    "acute_strokes.info()"
   ]
  },
  {
   "cell_type": "markdown",
   "metadata": {},
   "source": [
    "# PART 1: PRE-PROCESSING THE DATA\n",
    "\n",
    "## **Exercise 1.1**: reformat the date fields\n",
    "\n",
    "The date fields as-is are not suitable for analysis in python. Before we can do any analysis we need to pre-process the dates.\n",
    "\n",
    "**Task**:\n",
    "\n",
    "* Convert `acute_admit` and `asu_discharge` into valid date fields: format = YYYY-MM-DD\n",
    "\n",
    "**Hints**\n",
    "\n",
    "* Take a look at the `pd.to_datetime()` function\n",
    "* The dates are in UK format.  You will need to look at what options `pandas` provides to handle it."
   ]
  },
  {
   "cell_type": "code",
   "execution_count": 6,
   "metadata": {},
   "outputs": [],
   "source": [
    "# your code here ..."
   ]
  },
  {
   "cell_type": "code",
   "execution_count": 7,
   "metadata": {},
   "outputs": [],
   "source": [
    "#example answer\n",
    "\n",
    "date_fields = ['hosp_arrival_date', \n",
    "               'asu_admit_date',\n",
    "               'asu_discharge_date',\n",
    "               'hosp_discharge_date']\n",
    "\n",
    "for field in date_fields:\n",
    "    acute_strokes[field] = pd.to_datetime(acute_strokes[field], dayfirst=True)\n"
   ]
  },
  {
   "cell_type": "code",
   "execution_count": 8,
   "metadata": {},
   "outputs": [
    {
     "data": {
      "text/html": [
       "<div>\n",
       "<style scoped>\n",
       "    .dataframe tbody tr th:only-of-type {\n",
       "        vertical-align: middle;\n",
       "    }\n",
       "\n",
       "    .dataframe tbody tr th {\n",
       "        vertical-align: top;\n",
       "    }\n",
       "\n",
       "    .dataframe thead th {\n",
       "        text-align: right;\n",
       "    }\n",
       "</style>\n",
       "<table border=\"1\" class=\"dataframe\">\n",
       "  <thead>\n",
       "    <tr style=\"text-align: right;\">\n",
       "      <th></th>\n",
       "      <th>patient_type</th>\n",
       "      <th>hosp_arrival_date</th>\n",
       "      <th>hosp_arrival_time</th>\n",
       "      <th>asu_admit_date</th>\n",
       "      <th>asu_discharge_date</th>\n",
       "      <th>ward2_admit_date</th>\n",
       "      <th>ward2_discharge_date</th>\n",
       "      <th>ward3_admit_date</th>\n",
       "      <th>ward3_discharge_date</th>\n",
       "      <th>ward4_admit_date</th>\n",
       "      <th>ward4_discharge_date</th>\n",
       "      <th>hosp_discharge_date</th>\n",
       "      <th>hosp_discharge_time</th>\n",
       "      <th>esd</th>\n",
       "    </tr>\n",
       "  </thead>\n",
       "  <tbody>\n",
       "    <tr>\n",
       "      <th>0</th>\n",
       "      <td>Other</td>\n",
       "      <td>2012-07-20</td>\n",
       "      <td>21:00</td>\n",
       "      <td>2012-07-21</td>\n",
       "      <td>2012-07-26</td>\n",
       "      <td>NaN</td>\n",
       "      <td>NaN</td>\n",
       "      <td>NaN</td>\n",
       "      <td>NaN</td>\n",
       "      <td>NaN</td>\n",
       "      <td>NaN</td>\n",
       "      <td>2012-07-26</td>\n",
       "      <td>17:15</td>\n",
       "      <td>0</td>\n",
       "    </tr>\n",
       "    <tr>\n",
       "      <th>1</th>\n",
       "      <td>Complex-neurological</td>\n",
       "      <td>2013-03-17</td>\n",
       "      <td>21:20</td>\n",
       "      <td>2013-03-19</td>\n",
       "      <td>2013-03-20</td>\n",
       "      <td>NaN</td>\n",
       "      <td>NaN</td>\n",
       "      <td>NaN</td>\n",
       "      <td>NaN</td>\n",
       "      <td>NaN</td>\n",
       "      <td>NaN</td>\n",
       "      <td>2013-03-26</td>\n",
       "      <td>10:58</td>\n",
       "      <td>0</td>\n",
       "    </tr>\n",
       "    <tr>\n",
       "      <th>2</th>\n",
       "      <td>Complex-neurological</td>\n",
       "      <td>2011-04-19</td>\n",
       "      <td>15:45</td>\n",
       "      <td>2011-04-19</td>\n",
       "      <td>2011-04-21</td>\n",
       "      <td>NaN</td>\n",
       "      <td>NaN</td>\n",
       "      <td>NaN</td>\n",
       "      <td>NaN</td>\n",
       "      <td>NaN</td>\n",
       "      <td>NaN</td>\n",
       "      <td>2011-04-21</td>\n",
       "      <td>18:08</td>\n",
       "      <td>0</td>\n",
       "    </tr>\n",
       "    <tr>\n",
       "      <th>3</th>\n",
       "      <td>Complex-neurological</td>\n",
       "      <td>2013-02-13</td>\n",
       "      <td>18:35</td>\n",
       "      <td>2013-02-14</td>\n",
       "      <td>2013-02-14</td>\n",
       "      <td>NaN</td>\n",
       "      <td>NaN</td>\n",
       "      <td>NaN</td>\n",
       "      <td>NaN</td>\n",
       "      <td>NaN</td>\n",
       "      <td>NaN</td>\n",
       "      <td>2013-02-14</td>\n",
       "      <td>15:44</td>\n",
       "      <td>0</td>\n",
       "    </tr>\n",
       "    <tr>\n",
       "      <th>4</th>\n",
       "      <td>Stroke</td>\n",
       "      <td>2012-07-10</td>\n",
       "      <td>15:00</td>\n",
       "      <td>2012-07-10</td>\n",
       "      <td>2012-07-13</td>\n",
       "      <td>NaN</td>\n",
       "      <td>NaN</td>\n",
       "      <td>NaN</td>\n",
       "      <td>NaN</td>\n",
       "      <td>NaN</td>\n",
       "      <td>NaN</td>\n",
       "      <td>2012-07-13</td>\n",
       "      <td>11:30</td>\n",
       "      <td>0</td>\n",
       "    </tr>\n",
       "  </tbody>\n",
       "</table>\n",
       "</div>"
      ],
      "text/plain": [
       "           patient_type hosp_arrival_date hosp_arrival_time asu_admit_date  \\\n",
       "0                 Other        2012-07-20             21:00     2012-07-21   \n",
       "1  Complex-neurological        2013-03-17             21:20     2013-03-19   \n",
       "2  Complex-neurological        2011-04-19             15:45     2011-04-19   \n",
       "3  Complex-neurological        2013-02-13             18:35     2013-02-14   \n",
       "4                Stroke        2012-07-10             15:00     2012-07-10   \n",
       "\n",
       "  asu_discharge_date ward2_admit_date ward2_discharge_date ward3_admit_date  \\\n",
       "0         2012-07-26              NaN                  NaN              NaN   \n",
       "1         2013-03-20              NaN                  NaN              NaN   \n",
       "2         2011-04-21              NaN                  NaN              NaN   \n",
       "3         2013-02-14              NaN                  NaN              NaN   \n",
       "4         2012-07-13              NaN                  NaN              NaN   \n",
       "\n",
       "  ward3_discharge_date ward4_admit_date ward4_discharge_date  \\\n",
       "0                  NaN              NaN                  NaN   \n",
       "1                  NaN              NaN                  NaN   \n",
       "2                  NaN              NaN                  NaN   \n",
       "3                  NaN              NaN                  NaN   \n",
       "4                  NaN              NaN                  NaN   \n",
       "\n",
       "  hosp_discharge_date hosp_discharge_time  esd  \n",
       "0          2012-07-26               17:15    0  \n",
       "1          2013-03-26               10:58    0  \n",
       "2          2011-04-21               18:08    0  \n",
       "3          2013-02-14               15:44    0  \n",
       "4          2012-07-13               11:30    0  "
      ]
     },
     "execution_count": 8,
     "metadata": {},
     "output_type": "execute_result"
    }
   ],
   "source": [
    "acute_strokes.head()"
   ]
  },
  {
   "cell_type": "code",
   "execution_count": 9,
   "metadata": {},
   "outputs": [
    {
     "data": {
      "text/html": [
       "<div>\n",
       "<style scoped>\n",
       "    .dataframe tbody tr th:only-of-type {\n",
       "        vertical-align: middle;\n",
       "    }\n",
       "\n",
       "    .dataframe tbody tr th {\n",
       "        vertical-align: top;\n",
       "    }\n",
       "\n",
       "    .dataframe thead th {\n",
       "        text-align: right;\n",
       "    }\n",
       "</style>\n",
       "<table border=\"1\" class=\"dataframe\">\n",
       "  <thead>\n",
       "    <tr style=\"text-align: right;\">\n",
       "      <th></th>\n",
       "      <th>patient_type</th>\n",
       "      <th>hosp_arrival_date</th>\n",
       "      <th>hosp_arrival_time</th>\n",
       "      <th>asu_admit_date</th>\n",
       "      <th>asu_discharge_date</th>\n",
       "      <th>ward2_admit_date</th>\n",
       "      <th>ward2_discharge_date</th>\n",
       "      <th>ward3_admit_date</th>\n",
       "      <th>ward3_discharge_date</th>\n",
       "      <th>ward4_admit_date</th>\n",
       "      <th>ward4_discharge_date</th>\n",
       "      <th>hosp_discharge_date</th>\n",
       "      <th>hosp_discharge_time</th>\n",
       "      <th>esd</th>\n",
       "      <th>hosp_arrival_dt</th>\n",
       "    </tr>\n",
       "  </thead>\n",
       "  <tbody>\n",
       "    <tr>\n",
       "      <th>0</th>\n",
       "      <td>Other</td>\n",
       "      <td>2012-07-20</td>\n",
       "      <td>21:00</td>\n",
       "      <td>2012-07-21</td>\n",
       "      <td>2012-07-26</td>\n",
       "      <td>NaN</td>\n",
       "      <td>NaN</td>\n",
       "      <td>NaN</td>\n",
       "      <td>NaN</td>\n",
       "      <td>NaN</td>\n",
       "      <td>NaN</td>\n",
       "      <td>2012-07-26</td>\n",
       "      <td>17:15</td>\n",
       "      <td>0</td>\n",
       "      <td>2012-07-20 21:00:00</td>\n",
       "    </tr>\n",
       "    <tr>\n",
       "      <th>1</th>\n",
       "      <td>Complex-neurological</td>\n",
       "      <td>2013-03-17</td>\n",
       "      <td>21:20</td>\n",
       "      <td>2013-03-19</td>\n",
       "      <td>2013-03-20</td>\n",
       "      <td>NaN</td>\n",
       "      <td>NaN</td>\n",
       "      <td>NaN</td>\n",
       "      <td>NaN</td>\n",
       "      <td>NaN</td>\n",
       "      <td>NaN</td>\n",
       "      <td>2013-03-26</td>\n",
       "      <td>10:58</td>\n",
       "      <td>0</td>\n",
       "      <td>2013-03-17 21:20:00</td>\n",
       "    </tr>\n",
       "    <tr>\n",
       "      <th>2</th>\n",
       "      <td>Complex-neurological</td>\n",
       "      <td>2011-04-19</td>\n",
       "      <td>15:45</td>\n",
       "      <td>2011-04-19</td>\n",
       "      <td>2011-04-21</td>\n",
       "      <td>NaN</td>\n",
       "      <td>NaN</td>\n",
       "      <td>NaN</td>\n",
       "      <td>NaN</td>\n",
       "      <td>NaN</td>\n",
       "      <td>NaN</td>\n",
       "      <td>2011-04-21</td>\n",
       "      <td>18:08</td>\n",
       "      <td>0</td>\n",
       "      <td>2011-04-19 15:45:00</td>\n",
       "    </tr>\n",
       "    <tr>\n",
       "      <th>3</th>\n",
       "      <td>Complex-neurological</td>\n",
       "      <td>2013-02-13</td>\n",
       "      <td>18:35</td>\n",
       "      <td>2013-02-14</td>\n",
       "      <td>2013-02-14</td>\n",
       "      <td>NaN</td>\n",
       "      <td>NaN</td>\n",
       "      <td>NaN</td>\n",
       "      <td>NaN</td>\n",
       "      <td>NaN</td>\n",
       "      <td>NaN</td>\n",
       "      <td>2013-02-14</td>\n",
       "      <td>15:44</td>\n",
       "      <td>0</td>\n",
       "      <td>2013-02-13 18:35:00</td>\n",
       "    </tr>\n",
       "    <tr>\n",
       "      <th>4</th>\n",
       "      <td>Stroke</td>\n",
       "      <td>2012-07-10</td>\n",
       "      <td>15:00</td>\n",
       "      <td>2012-07-10</td>\n",
       "      <td>2012-07-13</td>\n",
       "      <td>NaN</td>\n",
       "      <td>NaN</td>\n",
       "      <td>NaN</td>\n",
       "      <td>NaN</td>\n",
       "      <td>NaN</td>\n",
       "      <td>NaN</td>\n",
       "      <td>2012-07-13</td>\n",
       "      <td>11:30</td>\n",
       "      <td>0</td>\n",
       "      <td>2012-07-10 15:00:00</td>\n",
       "    </tr>\n",
       "  </tbody>\n",
       "</table>\n",
       "</div>"
      ],
      "text/plain": [
       "           patient_type hosp_arrival_date hosp_arrival_time asu_admit_date  \\\n",
       "0                 Other        2012-07-20             21:00     2012-07-21   \n",
       "1  Complex-neurological        2013-03-17             21:20     2013-03-19   \n",
       "2  Complex-neurological        2011-04-19             15:45     2011-04-19   \n",
       "3  Complex-neurological        2013-02-13             18:35     2013-02-14   \n",
       "4                Stroke        2012-07-10             15:00     2012-07-10   \n",
       "\n",
       "  asu_discharge_date ward2_admit_date ward2_discharge_date ward3_admit_date  \\\n",
       "0         2012-07-26              NaN                  NaN              NaN   \n",
       "1         2013-03-20              NaN                  NaN              NaN   \n",
       "2         2011-04-21              NaN                  NaN              NaN   \n",
       "3         2013-02-14              NaN                  NaN              NaN   \n",
       "4         2012-07-13              NaN                  NaN              NaN   \n",
       "\n",
       "  ward3_discharge_date ward4_admit_date ward4_discharge_date  \\\n",
       "0                  NaN              NaN                  NaN   \n",
       "1                  NaN              NaN                  NaN   \n",
       "2                  NaN              NaN                  NaN   \n",
       "3                  NaN              NaN                  NaN   \n",
       "4                  NaN              NaN                  NaN   \n",
       "\n",
       "  hosp_discharge_date hosp_discharge_time  esd     hosp_arrival_dt  \n",
       "0          2012-07-26               17:15    0 2012-07-20 21:00:00  \n",
       "1          2013-03-26               10:58    0 2013-03-17 21:20:00  \n",
       "2          2011-04-21               18:08    0 2011-04-19 15:45:00  \n",
       "3          2013-02-14               15:44    0 2013-02-13 18:35:00  \n",
       "4          2012-07-13               11:30    0 2012-07-10 15:00:00  "
      ]
     },
     "execution_count": 9,
     "metadata": {},
     "output_type": "execute_result"
    }
   ],
   "source": [
    "acute_strokes['hosp_arrival_dt'] = pd.to_datetime(acute_strokes['hosp_arrival_date'].astype('str') + ' ' + acute_strokes['hosp_arrival_time'])\n",
    "acute_strokes.head()"
   ]
  },
  {
   "cell_type": "code",
   "execution_count": 10,
   "metadata": {},
   "outputs": [
    {
     "data": {
      "text/html": [
       "<div>\n",
       "<style scoped>\n",
       "    .dataframe tbody tr th:only-of-type {\n",
       "        vertical-align: middle;\n",
       "    }\n",
       "\n",
       "    .dataframe tbody tr th {\n",
       "        vertical-align: top;\n",
       "    }\n",
       "\n",
       "    .dataframe thead th {\n",
       "        text-align: right;\n",
       "    }\n",
       "</style>\n",
       "<table border=\"1\" class=\"dataframe\">\n",
       "  <thead>\n",
       "    <tr style=\"text-align: right;\">\n",
       "      <th></th>\n",
       "      <th>patient_type</th>\n",
       "      <th>hosp_arrival_date</th>\n",
       "      <th>hosp_arrival_time</th>\n",
       "      <th>asu_admit_date</th>\n",
       "      <th>asu_discharge_date</th>\n",
       "      <th>ward2_admit_date</th>\n",
       "      <th>ward2_discharge_date</th>\n",
       "      <th>ward3_admit_date</th>\n",
       "      <th>ward3_discharge_date</th>\n",
       "      <th>ward4_admit_date</th>\n",
       "      <th>ward4_discharge_date</th>\n",
       "      <th>hosp_discharge_date</th>\n",
       "      <th>hosp_discharge_time</th>\n",
       "      <th>esd</th>\n",
       "      <th>hosp_arrival_dt</th>\n",
       "      <th>hosp_discharge_dt</th>\n",
       "    </tr>\n",
       "  </thead>\n",
       "  <tbody>\n",
       "    <tr>\n",
       "      <th>0</th>\n",
       "      <td>Other</td>\n",
       "      <td>2012-07-20</td>\n",
       "      <td>21:00</td>\n",
       "      <td>2012-07-21</td>\n",
       "      <td>2012-07-26</td>\n",
       "      <td>NaN</td>\n",
       "      <td>NaN</td>\n",
       "      <td>NaN</td>\n",
       "      <td>NaN</td>\n",
       "      <td>NaN</td>\n",
       "      <td>NaN</td>\n",
       "      <td>2012-07-26</td>\n",
       "      <td>17:15</td>\n",
       "      <td>0</td>\n",
       "      <td>2012-07-20 21:00:00</td>\n",
       "      <td>2012-07-26 17:15:00</td>\n",
       "    </tr>\n",
       "    <tr>\n",
       "      <th>1</th>\n",
       "      <td>Complex-neurological</td>\n",
       "      <td>2013-03-17</td>\n",
       "      <td>21:20</td>\n",
       "      <td>2013-03-19</td>\n",
       "      <td>2013-03-20</td>\n",
       "      <td>NaN</td>\n",
       "      <td>NaN</td>\n",
       "      <td>NaN</td>\n",
       "      <td>NaN</td>\n",
       "      <td>NaN</td>\n",
       "      <td>NaN</td>\n",
       "      <td>2013-03-26</td>\n",
       "      <td>10:58</td>\n",
       "      <td>0</td>\n",
       "      <td>2013-03-17 21:20:00</td>\n",
       "      <td>2013-03-26 10:58:00</td>\n",
       "    </tr>\n",
       "    <tr>\n",
       "      <th>2</th>\n",
       "      <td>Complex-neurological</td>\n",
       "      <td>2011-04-19</td>\n",
       "      <td>15:45</td>\n",
       "      <td>2011-04-19</td>\n",
       "      <td>2011-04-21</td>\n",
       "      <td>NaN</td>\n",
       "      <td>NaN</td>\n",
       "      <td>NaN</td>\n",
       "      <td>NaN</td>\n",
       "      <td>NaN</td>\n",
       "      <td>NaN</td>\n",
       "      <td>2011-04-21</td>\n",
       "      <td>18:08</td>\n",
       "      <td>0</td>\n",
       "      <td>2011-04-19 15:45:00</td>\n",
       "      <td>2011-04-21 18:08:00</td>\n",
       "    </tr>\n",
       "    <tr>\n",
       "      <th>3</th>\n",
       "      <td>Complex-neurological</td>\n",
       "      <td>2013-02-13</td>\n",
       "      <td>18:35</td>\n",
       "      <td>2013-02-14</td>\n",
       "      <td>2013-02-14</td>\n",
       "      <td>NaN</td>\n",
       "      <td>NaN</td>\n",
       "      <td>NaN</td>\n",
       "      <td>NaN</td>\n",
       "      <td>NaN</td>\n",
       "      <td>NaN</td>\n",
       "      <td>2013-02-14</td>\n",
       "      <td>15:44</td>\n",
       "      <td>0</td>\n",
       "      <td>2013-02-13 18:35:00</td>\n",
       "      <td>2013-02-14 15:44:00</td>\n",
       "    </tr>\n",
       "    <tr>\n",
       "      <th>4</th>\n",
       "      <td>Stroke</td>\n",
       "      <td>2012-07-10</td>\n",
       "      <td>15:00</td>\n",
       "      <td>2012-07-10</td>\n",
       "      <td>2012-07-13</td>\n",
       "      <td>NaN</td>\n",
       "      <td>NaN</td>\n",
       "      <td>NaN</td>\n",
       "      <td>NaN</td>\n",
       "      <td>NaN</td>\n",
       "      <td>NaN</td>\n",
       "      <td>2012-07-13</td>\n",
       "      <td>11:30</td>\n",
       "      <td>0</td>\n",
       "      <td>2012-07-10 15:00:00</td>\n",
       "      <td>2012-07-13 11:30:00</td>\n",
       "    </tr>\n",
       "  </tbody>\n",
       "</table>\n",
       "</div>"
      ],
      "text/plain": [
       "           patient_type hosp_arrival_date hosp_arrival_time asu_admit_date  \\\n",
       "0                 Other        2012-07-20             21:00     2012-07-21   \n",
       "1  Complex-neurological        2013-03-17             21:20     2013-03-19   \n",
       "2  Complex-neurological        2011-04-19             15:45     2011-04-19   \n",
       "3  Complex-neurological        2013-02-13             18:35     2013-02-14   \n",
       "4                Stroke        2012-07-10             15:00     2012-07-10   \n",
       "\n",
       "  asu_discharge_date ward2_admit_date ward2_discharge_date ward3_admit_date  \\\n",
       "0         2012-07-26              NaN                  NaN              NaN   \n",
       "1         2013-03-20              NaN                  NaN              NaN   \n",
       "2         2011-04-21              NaN                  NaN              NaN   \n",
       "3         2013-02-14              NaN                  NaN              NaN   \n",
       "4         2012-07-13              NaN                  NaN              NaN   \n",
       "\n",
       "  ward3_discharge_date ward4_admit_date ward4_discharge_date  \\\n",
       "0                  NaN              NaN                  NaN   \n",
       "1                  NaN              NaN                  NaN   \n",
       "2                  NaN              NaN                  NaN   \n",
       "3                  NaN              NaN                  NaN   \n",
       "4                  NaN              NaN                  NaN   \n",
       "\n",
       "  hosp_discharge_date hosp_discharge_time  esd     hosp_arrival_dt  \\\n",
       "0          2012-07-26               17:15    0 2012-07-20 21:00:00   \n",
       "1          2013-03-26               10:58    0 2013-03-17 21:20:00   \n",
       "2          2011-04-21               18:08    0 2011-04-19 15:45:00   \n",
       "3          2013-02-14               15:44    0 2013-02-13 18:35:00   \n",
       "4          2012-07-13               11:30    0 2012-07-10 15:00:00   \n",
       "\n",
       "    hosp_discharge_dt  \n",
       "0 2012-07-26 17:15:00  \n",
       "1 2013-03-26 10:58:00  \n",
       "2 2011-04-21 18:08:00  \n",
       "3 2013-02-14 15:44:00  \n",
       "4 2012-07-13 11:30:00  "
      ]
     },
     "execution_count": 10,
     "metadata": {},
     "output_type": "execute_result"
    }
   ],
   "source": [
    "acute_strokes['hosp_discharge_dt'] = pd.to_datetime(acute_strokes['hosp_discharge_date'].astype('str') + ' ' + acute_strokes['hosp_discharge_time'])\n",
    "acute_strokes.head()"
   ]
  },
  {
   "cell_type": "code",
   "execution_count": 146,
   "metadata": {},
   "outputs": [
    {
     "name": "stdout",
     "output_type": "stream",
     "text": [
      "<class 'pandas.core.frame.DataFrame'>\n",
      "Int64Index: 2293 entries, 1825 to 1852\n",
      "Data columns (total 17 columns):\n",
      " #   Column                Non-Null Count  Dtype         \n",
      "---  ------                --------------  -----         \n",
      " 0   patient_type          2293 non-null   int64         \n",
      " 1   hosp_arrival_date     2293 non-null   datetime64[ns]\n",
      " 2   hosp_arrival_time     2292 non-null   object        \n",
      " 3   asu_admit_date        2293 non-null   datetime64[ns]\n",
      " 4   asu_discharge_date    2293 non-null   datetime64[ns]\n",
      " 5   ward2_admit_date      46 non-null     object        \n",
      " 6   ward2_discharge_date  45 non-null     object        \n",
      " 7   ward3_admit_date      4 non-null      object        \n",
      " 8   ward3_discharge_date  4 non-null      object        \n",
      " 9   ward4_admit_date      2 non-null      object        \n",
      " 10  ward4_discharge_date  2 non-null      object        \n",
      " 11  hosp_discharge_date   2293 non-null   datetime64[ns]\n",
      " 12  hosp_discharge_time   2293 non-null   object        \n",
      " 13  esd                   2293 non-null   int64         \n",
      " 14  hosp_arrival_dt       2292 non-null   datetime64[ns]\n",
      " 15  hosp_discharge_dt     2293 non-null   datetime64[ns]\n",
      " 16  asu_admit_dt          2292 non-null   datetime64[ns]\n",
      "dtypes: datetime64[ns](7), int64(2), object(8)\n",
      "memory usage: 322.5+ KB\n"
     ]
    }
   ],
   "source": [
    "acute_strokes.info()"
   ]
  },
  {
   "cell_type": "markdown",
   "metadata": {},
   "source": [
    "## **Exercise 1.2** Sort the admissions by date\n",
    "\n",
    "**Task**:\n",
    "* Put the data into ascending order sorted by`asu_admit` \n",
    "\n",
    "**Hints**:\n",
    "* Take a look at `pd.DataFrame.sort_values(by)`\n",
    "* Make sure you take a look at what `sort_values` does and what it returns"
   ]
  },
  {
   "cell_type": "code",
   "execution_count": 13,
   "metadata": {},
   "outputs": [],
   "source": [
    "#your code here ..."
   ]
  },
  {
   "cell_type": "code",
   "execution_count": 14,
   "metadata": {},
   "outputs": [
    {
     "data": {
      "text/html": [
       "<div>\n",
       "<style scoped>\n",
       "    .dataframe tbody tr th:only-of-type {\n",
       "        vertical-align: middle;\n",
       "    }\n",
       "\n",
       "    .dataframe tbody tr th {\n",
       "        vertical-align: top;\n",
       "    }\n",
       "\n",
       "    .dataframe thead th {\n",
       "        text-align: right;\n",
       "    }\n",
       "</style>\n",
       "<table border=\"1\" class=\"dataframe\">\n",
       "  <thead>\n",
       "    <tr style=\"text-align: right;\">\n",
       "      <th></th>\n",
       "      <th>patient_type</th>\n",
       "      <th>hosp_arrival_date</th>\n",
       "      <th>hosp_arrival_time</th>\n",
       "      <th>asu_admit_date</th>\n",
       "      <th>asu_discharge_date</th>\n",
       "      <th>ward2_admit_date</th>\n",
       "      <th>ward2_discharge_date</th>\n",
       "      <th>ward3_admit_date</th>\n",
       "      <th>ward3_discharge_date</th>\n",
       "      <th>ward4_admit_date</th>\n",
       "      <th>ward4_discharge_date</th>\n",
       "      <th>hosp_discharge_date</th>\n",
       "      <th>hosp_discharge_time</th>\n",
       "      <th>esd</th>\n",
       "      <th>hosp_arrival_dt</th>\n",
       "      <th>hosp_discharge_dt</th>\n",
       "    </tr>\n",
       "  </thead>\n",
       "  <tbody>\n",
       "    <tr>\n",
       "      <th>1825</th>\n",
       "      <td>Stroke</td>\n",
       "      <td>2010-01-01</td>\n",
       "      <td>00:00</td>\n",
       "      <td>2010-01-02</td>\n",
       "      <td>2010-01-13</td>\n",
       "      <td>NaN</td>\n",
       "      <td>NaN</td>\n",
       "      <td>NaN</td>\n",
       "      <td>NaN</td>\n",
       "      <td>NaN</td>\n",
       "      <td>NaN</td>\n",
       "      <td>2010-01-13</td>\n",
       "      <td>14:25</td>\n",
       "      <td>0</td>\n",
       "      <td>2010-01-01 00:00:00</td>\n",
       "      <td>2010-01-13 14:25:00</td>\n",
       "    </tr>\n",
       "    <tr>\n",
       "      <th>654</th>\n",
       "      <td>Stroke</td>\n",
       "      <td>2010-01-01</td>\n",
       "      <td>12:20</td>\n",
       "      <td>2010-01-01</td>\n",
       "      <td>2010-01-24</td>\n",
       "      <td>NaN</td>\n",
       "      <td>NaN</td>\n",
       "      <td>NaN</td>\n",
       "      <td>NaN</td>\n",
       "      <td>NaN</td>\n",
       "      <td>NaN</td>\n",
       "      <td>2010-01-25</td>\n",
       "      <td>15:50</td>\n",
       "      <td>0</td>\n",
       "      <td>2010-01-01 12:20:00</td>\n",
       "      <td>2010-01-25 15:50:00</td>\n",
       "    </tr>\n",
       "    <tr>\n",
       "      <th>1964</th>\n",
       "      <td>Stroke</td>\n",
       "      <td>2010-01-02</td>\n",
       "      <td>16:10</td>\n",
       "      <td>2010-01-02</td>\n",
       "      <td>2010-01-08</td>\n",
       "      <td>NaN</td>\n",
       "      <td>NaN</td>\n",
       "      <td>NaN</td>\n",
       "      <td>NaN</td>\n",
       "      <td>NaN</td>\n",
       "      <td>NaN</td>\n",
       "      <td>2010-01-08</td>\n",
       "      <td>15:00</td>\n",
       "      <td>0</td>\n",
       "      <td>2010-01-02 16:10:00</td>\n",
       "      <td>2010-01-08 15:00:00</td>\n",
       "    </tr>\n",
       "    <tr>\n",
       "      <th>2027</th>\n",
       "      <td>Complex-neurological</td>\n",
       "      <td>2010-01-02</td>\n",
       "      <td>21:40</td>\n",
       "      <td>2010-01-02</td>\n",
       "      <td>2010-01-03</td>\n",
       "      <td>NaN</td>\n",
       "      <td>NaN</td>\n",
       "      <td>NaN</td>\n",
       "      <td>NaN</td>\n",
       "      <td>NaN</td>\n",
       "      <td>NaN</td>\n",
       "      <td>2010-01-03</td>\n",
       "      <td>19:30</td>\n",
       "      <td>0</td>\n",
       "      <td>2010-01-02 21:40:00</td>\n",
       "      <td>2010-01-03 19:30:00</td>\n",
       "    </tr>\n",
       "    <tr>\n",
       "      <th>359</th>\n",
       "      <td>Other</td>\n",
       "      <td>2010-01-03</td>\n",
       "      <td>04:30</td>\n",
       "      <td>2010-01-04</td>\n",
       "      <td>2010-01-04</td>\n",
       "      <td>NaN</td>\n",
       "      <td>NaN</td>\n",
       "      <td>NaN</td>\n",
       "      <td>NaN</td>\n",
       "      <td>NaN</td>\n",
       "      <td>NaN</td>\n",
       "      <td>2010-01-22</td>\n",
       "      <td>05:00</td>\n",
       "      <td>0</td>\n",
       "      <td>2010-01-03 04:30:00</td>\n",
       "      <td>2010-01-22 05:00:00</td>\n",
       "    </tr>\n",
       "  </tbody>\n",
       "</table>\n",
       "</div>"
      ],
      "text/plain": [
       "              patient_type hosp_arrival_date hosp_arrival_time asu_admit_date  \\\n",
       "1825                Stroke        2010-01-01             00:00     2010-01-02   \n",
       "654                 Stroke        2010-01-01             12:20     2010-01-01   \n",
       "1964                Stroke        2010-01-02             16:10     2010-01-02   \n",
       "2027  Complex-neurological        2010-01-02             21:40     2010-01-02   \n",
       "359                  Other        2010-01-03             04:30     2010-01-04   \n",
       "\n",
       "     asu_discharge_date ward2_admit_date ward2_discharge_date  \\\n",
       "1825         2010-01-13              NaN                  NaN   \n",
       "654          2010-01-24              NaN                  NaN   \n",
       "1964         2010-01-08              NaN                  NaN   \n",
       "2027         2010-01-03              NaN                  NaN   \n",
       "359          2010-01-04              NaN                  NaN   \n",
       "\n",
       "     ward3_admit_date ward3_discharge_date ward4_admit_date  \\\n",
       "1825              NaN                  NaN              NaN   \n",
       "654               NaN                  NaN              NaN   \n",
       "1964              NaN                  NaN              NaN   \n",
       "2027              NaN                  NaN              NaN   \n",
       "359               NaN                  NaN              NaN   \n",
       "\n",
       "     ward4_discharge_date hosp_discharge_date hosp_discharge_time  esd  \\\n",
       "1825                  NaN          2010-01-13               14:25    0   \n",
       "654                   NaN          2010-01-25               15:50    0   \n",
       "1964                  NaN          2010-01-08               15:00    0   \n",
       "2027                  NaN          2010-01-03               19:30    0   \n",
       "359                   NaN          2010-01-22               05:00    0   \n",
       "\n",
       "         hosp_arrival_dt   hosp_discharge_dt  \n",
       "1825 2010-01-01 00:00:00 2010-01-13 14:25:00  \n",
       "654  2010-01-01 12:20:00 2010-01-25 15:50:00  \n",
       "1964 2010-01-02 16:10:00 2010-01-08 15:00:00  \n",
       "2027 2010-01-02 21:40:00 2010-01-03 19:30:00  \n",
       "359  2010-01-03 04:30:00 2010-01-22 05:00:00  "
      ]
     },
     "execution_count": 14,
     "metadata": {},
     "output_type": "execute_result"
    }
   ],
   "source": [
    "#example answer\n",
    "acute_strokes = acute_strokes.sort_values(by='hosp_arrival_dt')\n",
    "acute_strokes.head()"
   ]
  },
  {
   "cell_type": "markdown",
   "metadata": {},
   "source": [
    "## **Exercise 1.3** Recoding the `patient_type` field\n",
    "\n",
    "It is not strictly necessary, but its often useful to get recode fields of type **str** to an **int**\n",
    "\n",
    "Let's take a look at the unique codings we have for patient_type:"
   ]
  },
  {
   "cell_type": "code",
   "execution_count": 15,
   "metadata": {},
   "outputs": [
    {
     "data": {
      "text/plain": [
       "array(['Stroke', 'Complex-neurological', 'Other', 'TIA'], dtype=object)"
      ]
     },
     "execution_count": 15,
     "metadata": {},
     "output_type": "execute_result"
    }
   ],
   "source": [
    "acute_strokes.patient_type.unique()"
   ]
  },
  {
   "cell_type": "markdown",
   "metadata": {},
   "source": [
    "So we have four types of basic classification.  Let's recode them as follows:\n",
    "* Stroke: 0\n",
    "* Complex-neurological: 1\n",
    "* Other: 2\n",
    "* TIA: 3"
   ]
  },
  {
   "cell_type": "markdown",
   "metadata": {},
   "source": [
    "**Task:**\n",
    "\n",
    "* Either recode or create a new field that encodes the type of patient as above. The output of your preprocessing will be a numeric field.\n",
    "* Confirm your recoding has worked (you can always reload the data an preprocess again if needed!)\n",
    "\n",
    "**Hints:**\n",
    "\n",
    "* There are multiple ways to complete this exercise.  One option is to make use of `pd.DataFrame.replace()` method.  For that you will need to create a dict that maps a str to an int e.g.\n",
    "\n",
    "```python\n",
    "example_mapping = {'foo':0,\n",
    "                   'bar':1,\n",
    "                   'spam':2}\n",
    "\n",
    "example_df.replace(example_mapping)\n",
    "```"
   ]
  },
  {
   "cell_type": "code",
   "execution_count": 16,
   "metadata": {},
   "outputs": [],
   "source": [
    "# your code here ..."
   ]
  },
  {
   "cell_type": "code",
   "execution_count": 17,
   "metadata": {},
   "outputs": [],
   "source": [
    "#example answer ..\n",
    "#we will store the recoding in a \n",
    "recoded_patient_type = {'Stroke':0, \n",
    "                        'Complex-neurological':1, \n",
    "                        'TIA':2, \n",
    "                        'Other':3}"
   ]
  },
  {
   "cell_type": "code",
   "execution_count": 18,
   "metadata": {},
   "outputs": [],
   "source": [
    "acute_strokes = acute_strokes.replace(recoded_patient_type)"
   ]
  },
  {
   "cell_type": "code",
   "execution_count": 19,
   "metadata": {},
   "outputs": [
    {
     "data": {
      "text/html": [
       "<div>\n",
       "<style scoped>\n",
       "    .dataframe tbody tr th:only-of-type {\n",
       "        vertical-align: middle;\n",
       "    }\n",
       "\n",
       "    .dataframe tbody tr th {\n",
       "        vertical-align: top;\n",
       "    }\n",
       "\n",
       "    .dataframe thead th {\n",
       "        text-align: right;\n",
       "    }\n",
       "</style>\n",
       "<table border=\"1\" class=\"dataframe\">\n",
       "  <thead>\n",
       "    <tr style=\"text-align: right;\">\n",
       "      <th></th>\n",
       "      <th>patient_type</th>\n",
       "      <th>hosp_arrival_date</th>\n",
       "      <th>hosp_arrival_time</th>\n",
       "      <th>asu_admit_date</th>\n",
       "      <th>asu_discharge_date</th>\n",
       "      <th>ward2_admit_date</th>\n",
       "      <th>ward2_discharge_date</th>\n",
       "      <th>ward3_admit_date</th>\n",
       "      <th>ward3_discharge_date</th>\n",
       "      <th>ward4_admit_date</th>\n",
       "      <th>ward4_discharge_date</th>\n",
       "      <th>hosp_discharge_date</th>\n",
       "      <th>hosp_discharge_time</th>\n",
       "      <th>esd</th>\n",
       "      <th>hosp_arrival_dt</th>\n",
       "      <th>hosp_discharge_dt</th>\n",
       "    </tr>\n",
       "  </thead>\n",
       "  <tbody>\n",
       "    <tr>\n",
       "      <th>1825</th>\n",
       "      <td>0</td>\n",
       "      <td>2010-01-01</td>\n",
       "      <td>00:00</td>\n",
       "      <td>2010-01-02</td>\n",
       "      <td>2010-01-13</td>\n",
       "      <td>NaN</td>\n",
       "      <td>NaN</td>\n",
       "      <td>NaN</td>\n",
       "      <td>NaN</td>\n",
       "      <td>NaN</td>\n",
       "      <td>NaN</td>\n",
       "      <td>2010-01-13</td>\n",
       "      <td>14:25</td>\n",
       "      <td>0</td>\n",
       "      <td>2010-01-01 00:00:00</td>\n",
       "      <td>2010-01-13 14:25:00</td>\n",
       "    </tr>\n",
       "    <tr>\n",
       "      <th>654</th>\n",
       "      <td>0</td>\n",
       "      <td>2010-01-01</td>\n",
       "      <td>12:20</td>\n",
       "      <td>2010-01-01</td>\n",
       "      <td>2010-01-24</td>\n",
       "      <td>NaN</td>\n",
       "      <td>NaN</td>\n",
       "      <td>NaN</td>\n",
       "      <td>NaN</td>\n",
       "      <td>NaN</td>\n",
       "      <td>NaN</td>\n",
       "      <td>2010-01-25</td>\n",
       "      <td>15:50</td>\n",
       "      <td>0</td>\n",
       "      <td>2010-01-01 12:20:00</td>\n",
       "      <td>2010-01-25 15:50:00</td>\n",
       "    </tr>\n",
       "    <tr>\n",
       "      <th>1964</th>\n",
       "      <td>0</td>\n",
       "      <td>2010-01-02</td>\n",
       "      <td>16:10</td>\n",
       "      <td>2010-01-02</td>\n",
       "      <td>2010-01-08</td>\n",
       "      <td>NaN</td>\n",
       "      <td>NaN</td>\n",
       "      <td>NaN</td>\n",
       "      <td>NaN</td>\n",
       "      <td>NaN</td>\n",
       "      <td>NaN</td>\n",
       "      <td>2010-01-08</td>\n",
       "      <td>15:00</td>\n",
       "      <td>0</td>\n",
       "      <td>2010-01-02 16:10:00</td>\n",
       "      <td>2010-01-08 15:00:00</td>\n",
       "    </tr>\n",
       "    <tr>\n",
       "      <th>2027</th>\n",
       "      <td>1</td>\n",
       "      <td>2010-01-02</td>\n",
       "      <td>21:40</td>\n",
       "      <td>2010-01-02</td>\n",
       "      <td>2010-01-03</td>\n",
       "      <td>NaN</td>\n",
       "      <td>NaN</td>\n",
       "      <td>NaN</td>\n",
       "      <td>NaN</td>\n",
       "      <td>NaN</td>\n",
       "      <td>NaN</td>\n",
       "      <td>2010-01-03</td>\n",
       "      <td>19:30</td>\n",
       "      <td>0</td>\n",
       "      <td>2010-01-02 21:40:00</td>\n",
       "      <td>2010-01-03 19:30:00</td>\n",
       "    </tr>\n",
       "    <tr>\n",
       "      <th>359</th>\n",
       "      <td>3</td>\n",
       "      <td>2010-01-03</td>\n",
       "      <td>04:30</td>\n",
       "      <td>2010-01-04</td>\n",
       "      <td>2010-01-04</td>\n",
       "      <td>NaN</td>\n",
       "      <td>NaN</td>\n",
       "      <td>NaN</td>\n",
       "      <td>NaN</td>\n",
       "      <td>NaN</td>\n",
       "      <td>NaN</td>\n",
       "      <td>2010-01-22</td>\n",
       "      <td>05:00</td>\n",
       "      <td>0</td>\n",
       "      <td>2010-01-03 04:30:00</td>\n",
       "      <td>2010-01-22 05:00:00</td>\n",
       "    </tr>\n",
       "  </tbody>\n",
       "</table>\n",
       "</div>"
      ],
      "text/plain": [
       "      patient_type hosp_arrival_date hosp_arrival_time asu_admit_date  \\\n",
       "1825             0        2010-01-01             00:00     2010-01-02   \n",
       "654              0        2010-01-01             12:20     2010-01-01   \n",
       "1964             0        2010-01-02             16:10     2010-01-02   \n",
       "2027             1        2010-01-02             21:40     2010-01-02   \n",
       "359              3        2010-01-03             04:30     2010-01-04   \n",
       "\n",
       "     asu_discharge_date ward2_admit_date ward2_discharge_date  \\\n",
       "1825         2010-01-13              NaN                  NaN   \n",
       "654          2010-01-24              NaN                  NaN   \n",
       "1964         2010-01-08              NaN                  NaN   \n",
       "2027         2010-01-03              NaN                  NaN   \n",
       "359          2010-01-04              NaN                  NaN   \n",
       "\n",
       "     ward3_admit_date ward3_discharge_date ward4_admit_date  \\\n",
       "1825              NaN                  NaN              NaN   \n",
       "654               NaN                  NaN              NaN   \n",
       "1964              NaN                  NaN              NaN   \n",
       "2027              NaN                  NaN              NaN   \n",
       "359               NaN                  NaN              NaN   \n",
       "\n",
       "     ward4_discharge_date hosp_discharge_date hosp_discharge_time  esd  \\\n",
       "1825                  NaN          2010-01-13               14:25    0   \n",
       "654                   NaN          2010-01-25               15:50    0   \n",
       "1964                  NaN          2010-01-08               15:00    0   \n",
       "2027                  NaN          2010-01-03               19:30    0   \n",
       "359                   NaN          2010-01-22               05:00    0   \n",
       "\n",
       "         hosp_arrival_dt   hosp_discharge_dt  \n",
       "1825 2010-01-01 00:00:00 2010-01-13 14:25:00  \n",
       "654  2010-01-01 12:20:00 2010-01-25 15:50:00  \n",
       "1964 2010-01-02 16:10:00 2010-01-08 15:00:00  \n",
       "2027 2010-01-02 21:40:00 2010-01-03 19:30:00  \n",
       "359  2010-01-03 04:30:00 2010-01-22 05:00:00  "
      ]
     },
     "execution_count": 19,
     "metadata": {},
     "output_type": "execute_result"
    }
   ],
   "source": [
    "acute_strokes.head()"
   ]
  },
  {
   "cell_type": "markdown",
   "metadata": {},
   "source": [
    "## Exercise 1.4: Drop the redundant fields \n",
    "\n",
    "**Task:**\n",
    "* Drop the redundant fields (provided in a list below) from the dataframe.\n",
    "* Save the to cleaned data a new CSV file `clean_arrival_data_student.csv` "
   ]
  },
  {
   "cell_type": "code",
   "execution_count": null,
   "metadata": {},
   "outputs": [],
   "source": [
    "to_drop = ['hosp_arrival_date', 'hosp_arrival_time',\n",
    "       'asu_admit_date', 'asu_discharge_date', 'ward2_admit_date',\n",
    "       'ward2_discharge_date', 'ward3_admit_date', 'ward3_discharge_date',\n",
    "       'ward4_admit_date', 'ward4_discharge_date', 'hosp_discharge_date',\n",
    "       'hosp_discharge_time']\n",
    "\n",
    "#your code here"
   ]
  },
  {
   "cell_type": "code",
   "execution_count": 163,
   "metadata": {},
   "outputs": [],
   "source": [
    "to_drop = ['hosp_arrival_date', 'hosp_arrival_time',\n",
    "       'asu_admit_date', 'asu_discharge_date', 'ward2_admit_date',\n",
    "       'ward2_discharge_date', 'ward3_admit_date', 'ward3_discharge_date',\n",
    "       'ward4_admit_date', 'ward4_discharge_date', 'hosp_discharge_date',\n",
    "       'hosp_discharge_time']\n",
    "\n",
    "acute_strokes = acute_strokes.drop(to_drop, axis=1)"
   ]
  },
  {
   "cell_type": "code",
   "execution_count": 164,
   "metadata": {},
   "outputs": [
    {
     "data": {
      "text/html": [
       "<div>\n",
       "<style scoped>\n",
       "    .dataframe tbody tr th:only-of-type {\n",
       "        vertical-align: middle;\n",
       "    }\n",
       "\n",
       "    .dataframe tbody tr th {\n",
       "        vertical-align: top;\n",
       "    }\n",
       "\n",
       "    .dataframe thead th {\n",
       "        text-align: right;\n",
       "    }\n",
       "</style>\n",
       "<table border=\"1\" class=\"dataframe\">\n",
       "  <thead>\n",
       "    <tr style=\"text-align: right;\">\n",
       "      <th></th>\n",
       "      <th>patient_type</th>\n",
       "      <th>esd</th>\n",
       "      <th>hosp_arrival_dt</th>\n",
       "      <th>hosp_discharge_dt</th>\n",
       "      <th>asu_admit_dt</th>\n",
       "    </tr>\n",
       "  </thead>\n",
       "  <tbody>\n",
       "    <tr>\n",
       "      <th>1825</th>\n",
       "      <td>0</td>\n",
       "      <td>0</td>\n",
       "      <td>2010-01-01 00:00:00</td>\n",
       "      <td>2010-01-13 14:25:00</td>\n",
       "      <td>2010-01-02 00:00:00</td>\n",
       "    </tr>\n",
       "    <tr>\n",
       "      <th>654</th>\n",
       "      <td>0</td>\n",
       "      <td>0</td>\n",
       "      <td>2010-01-01 12:20:00</td>\n",
       "      <td>2010-01-25 15:50:00</td>\n",
       "      <td>2010-01-01 16:20:00</td>\n",
       "    </tr>\n",
       "    <tr>\n",
       "      <th>1964</th>\n",
       "      <td>0</td>\n",
       "      <td>0</td>\n",
       "      <td>2010-01-02 16:10:00</td>\n",
       "      <td>2010-01-08 15:00:00</td>\n",
       "      <td>2010-01-02 20:10:00</td>\n",
       "    </tr>\n",
       "    <tr>\n",
       "      <th>2027</th>\n",
       "      <td>1</td>\n",
       "      <td>0</td>\n",
       "      <td>2010-01-02 21:40:00</td>\n",
       "      <td>2010-01-03 19:30:00</td>\n",
       "      <td>2010-01-03 01:40:00</td>\n",
       "    </tr>\n",
       "    <tr>\n",
       "      <th>359</th>\n",
       "      <td>3</td>\n",
       "      <td>0</td>\n",
       "      <td>2010-01-03 04:30:00</td>\n",
       "      <td>2010-01-22 05:00:00</td>\n",
       "      <td>2010-01-04 00:00:00</td>\n",
       "    </tr>\n",
       "  </tbody>\n",
       "</table>\n",
       "</div>"
      ],
      "text/plain": [
       "      patient_type  esd     hosp_arrival_dt   hosp_discharge_dt  \\\n",
       "1825             0    0 2010-01-01 00:00:00 2010-01-13 14:25:00   \n",
       "654              0    0 2010-01-01 12:20:00 2010-01-25 15:50:00   \n",
       "1964             0    0 2010-01-02 16:10:00 2010-01-08 15:00:00   \n",
       "2027             1    0 2010-01-02 21:40:00 2010-01-03 19:30:00   \n",
       "359              3    0 2010-01-03 04:30:00 2010-01-22 05:00:00   \n",
       "\n",
       "            asu_admit_dt  \n",
       "1825 2010-01-02 00:00:00  \n",
       "654  2010-01-01 16:20:00  \n",
       "1964 2010-01-02 20:10:00  \n",
       "2027 2010-01-03 01:40:00  \n",
       "359  2010-01-04 00:00:00  "
      ]
     },
     "execution_count": 164,
     "metadata": {},
     "output_type": "execute_result"
    }
   ],
   "source": [
    "acute_strokes.head()"
   ]
  },
  {
   "cell_type": "code",
   "execution_count": 165,
   "metadata": {},
   "outputs": [],
   "source": [
    "#acute_strokes.to_csv('cleaned_arrival_data_student.csv', index=False)"
   ]
  },
  {
   "cell_type": "markdown",
   "metadata": {},
   "source": [
    "---\n",
    "# PART 2: INTER-ARRIVAL TIMES\n",
    "\n",
    "## **Exercise 2.1** Explore the interarrival distributions\n",
    "\n",
    "A first task in input modelling is often to explore the interarrival distributions.  This is often a major source of variability in stochastic health systems.\n",
    "\n",
    "**Task:**\n",
    "\n",
    "* Using your **pre-sorted** data calculate the days between arrivals.  We will ignore patient types for the moment.\n",
    "* Plot a histogram of interarrival times\n",
    "* Calculate the mean and stdev of the interarrival times\n",
    "* What might be a reasonable distribution?\n",
    "* What does the histogram suggest might be going on in the data?\n",
    "\n",
    "**Hints**:\n",
    "\n",
    "* Checkout the `pd.DataFrame.diff()` method\n",
    "* This will return `timedelta64`.  To convert to hours you need to divide by:\n",
    "\n",
    "```python\n",
    "np.timedelta64(24, 'h')\n",
    "```"
   ]
  },
  {
   "cell_type": "code",
   "execution_count": 167,
   "metadata": {},
   "outputs": [
    {
     "name": "stdout",
     "output_type": "stream",
     "text": [
      "<class 'pandas.core.frame.DataFrame'>\n",
      "RangeIndex: 2293 entries, 0 to 2292\n",
      "Data columns (total 5 columns):\n",
      " #   Column             Non-Null Count  Dtype         \n",
      "---  ------             --------------  -----         \n",
      " 0   patient_type       2293 non-null   int64         \n",
      " 1   esd                2293 non-null   int64         \n",
      " 2   hosp_arrival_dt    2292 non-null   datetime64[ns]\n",
      " 3   hosp_discharge_dt  2293 non-null   datetime64[ns]\n",
      " 4   asu_admit_dt       2292 non-null   datetime64[ns]\n",
      "dtypes: datetime64[ns](3), int64(2)\n",
      "memory usage: 89.7 KB\n"
     ]
    }
   ],
   "source": [
    "#code to load cleaned dataset.\n",
    "acute_strokes = pd.read_csv('precleaned_arrival_data.csv', \n",
    "                             parse_dates=['hosp_arrival_dt', \n",
    "                                          'asu_admit_dt', \n",
    "                                          'hosp_discharge_dt'])\n",
    "acute_strokes.info()"
   ]
  },
  {
   "cell_type": "code",
   "execution_count": 20,
   "metadata": {},
   "outputs": [],
   "source": [
    "#your code here ..."
   ]
  },
  {
   "cell_type": "code",
   "execution_count": 21,
   "metadata": {},
   "outputs": [
    {
     "data": {
      "text/plain": [
       "1825         NaN\n",
       "654     0.513889\n",
       "1964    1.159722\n",
       "2027    0.229167\n",
       "359     0.284722\n",
       "Name: hosp_arrival_dt, dtype: float64"
      ]
     },
     "execution_count": 21,
     "metadata": {},
     "output_type": "execute_result"
    }
   ],
   "source": [
    "#example answer ...\n",
    "inter_arrivals = acute_strokes['hosp_arrival_dt'].diff() / np.timedelta64(24, 'h')\n",
    "inter_arrivals.head()"
   ]
  },
  {
   "cell_type": "code",
   "execution_count": 22,
   "metadata": {},
   "outputs": [
    {
     "data": {
      "text/plain": [
       "<matplotlib.axes._subplots.AxesSubplot at 0x7f231592bb38>"
      ]
     },
     "execution_count": 22,
     "metadata": {},
     "output_type": "execute_result"
    },
    {
     "data": {
      "image/png": "[encoded data removed]",
      "text/plain": [
       "<Figure size 432x288 with 1 Axes>"
      ]
     },
     "metadata": {
      "needs_background": "light"
     },
     "output_type": "display_data"
    }
   ],
   "source": [
    "inter_arrivals.hist(bins=100)"
   ]
  },
  {
   "cell_type": "code",
   "execution_count": 23,
   "metadata": {},
   "outputs": [
    {
     "data": {
      "text/plain": [
       "0.6109595518696359"
      ]
     },
     "execution_count": 23,
     "metadata": {},
     "output_type": "execute_result"
    }
   ],
   "source": [
    "inter_arrivals.mean()"
   ]
  },
  {
   "cell_type": "code",
   "execution_count": 24,
   "metadata": {},
   "outputs": [
    {
     "data": {
      "text/plain": [
       "0.6078056340280554"
      ]
     },
     "execution_count": 24,
     "metadata": {},
     "output_type": "execute_result"
    }
   ],
   "source": [
    "inter_arrivals.std()"
   ]
  },
  {
   "cell_type": "markdown",
   "metadata": {},
   "source": [
    "## **Exercise 2.2** Subgroup interarrival distributions.\n",
    "\n",
    "We know that there are at least four categories of patients that use the system.  The histogram of the overall population suggests that we should explore if the distributions vary by group.\n",
    "\n",
    "**Task:**\n",
    "* For each sub group (stroke, complex, tia and other)\n",
    "    * summarise the subgroup sample size\n",
    "    * calculate the subgroups interarrival days (i.e. the days between consecutive stroke arrivals)\n",
    "    * plot the distribution as a histogram\n",
    "    * calculate the mean and standard dev\n",
    "    \n",
    "* Without doing a formal statistical test, what distributions do you think would be useful?\n",
    "\n",
    "**Hints:**\n",
    "\n",
    "* You can plot each of histograms seperately.  But if you wanted to plot histograms in a grid remember `Matplotlib` has `fig, ax = plot.subplots(nrows, ncols)` where `ax` is a numpy matrix and each element represents the corresponding axis of a chart in the grid.\n",
    "* When plotting histograms you could try different numbers of bins.  A good starting number is 20."
   ]
  },
  {
   "cell_type": "code",
   "execution_count": 25,
   "metadata": {},
   "outputs": [],
   "source": [
    "# your code here ..."
   ]
  },
  {
   "cell_type": "code",
   "execution_count": 26,
   "metadata": {},
   "outputs": [
    {
     "name": "stdout",
     "output_type": "stream",
     "text": [
      "0: n:1259, m:1.11, s:1.09\n",
      "1: n:411, m:3.41, s:3.83\n",
      "2: n:157, m:8.64, s:10.70\n",
      "3: n:466, m:3.00, s:4.22\n"
     ]
    }
   ],
   "source": [
    "#example answer ...\n",
    "iat_by_group = {}\n",
    "\n",
    "for patient_type in range(4):\n",
    "    #calculate individual iat\n",
    "    data = acute_strokes.loc[acute_strokes['patient_type'] \\\n",
    "            == patient_type]['hosp_arrival_dt'].diff() / np.timedelta64(24, 'h')\n",
    "\n",
    "    #print mean\n",
    "    print(f'{patient_type}: n:{data.shape[0]}, m:{data.dropna().mean():.2f}, s:{data.dropna().std():.2f}')\n",
    "    \n",
    "    #store by group\n",
    "    iat_by_group[f'{patient_type}'] = data\n"
   ]
  },
  {
   "cell_type": "code",
   "execution_count": 127,
   "metadata": {},
   "outputs": [
    {
     "data": {
      "image/png": "[encoded data removed]",
      "text/plain": [
       "<Figure size 864x360 with 4 Axes>"
      ]
     },
     "metadata": {
      "needs_background": "light"
     },
     "output_type": "display_data"
    }
   ],
   "source": [
    "#plot histograms on grid sharing the same x-axis\n",
    "fig, ax = plt.subplots(nrows=2, ncols=2, figsize=(12, 5), sharex=True)\n",
    "\n",
    "key = 0\n",
    "for row in range(2):\n",
    "    for col in range(2):\n",
    "        #plot histogram dropping initial NAN to avoid matplotlib warning/moaning\n",
    "        ax[row][col].hist(iat_by_group[f'{key}'].dropna(), bins=20, \n",
    "                          density=True)\n",
    "        key += 1"
   ]
  },
  {
   "cell_type": "code",
   "execution_count": 121,
   "metadata": {},
   "outputs": [
    {
     "data": {
      "text/plain": [
       "[1.1126457339692635, 3.4132114235262154, 8.640179843304843, 3.0031406810035843]"
      ]
     },
     "execution_count": 121,
     "metadata": {},
     "output_type": "execute_result"
    }
   ],
   "source": [
    "#if you wanted to store subgroup means\n",
    "means = [items.dropna().to_numpy().mean() for group, items in iat_by_group.items()]\n",
    "means"
   ]
  },
  {
   "cell_type": "code",
   "execution_count": 122,
   "metadata": {},
   "outputs": [
    {
     "data": {
      "text/plain": [
       "[1.094318783888909, 3.829969598788407, 10.664019722424488, 4.215853117064161]"
      ]
     },
     "execution_count": 122,
     "metadata": {},
     "output_type": "execute_result"
    }
   ],
   "source": [
    "#and subgroup std\n",
    "stds = [items.dropna().to_numpy().std() for group, items in iat_by_group.items()]\n",
    "stds"
   ]
  },
  {
   "cell_type": "markdown",
   "metadata": {},
   "source": [
    "## **Exercise 2.3** Interarrivals: Stroke with ESD versus Stroke with no-ESD\n",
    "\n",
    "Let's explore if Early Supported Discharge patients have a different arrival process to non-ESD patients\n",
    "\n",
    "**Task:**\n",
    "\n",
    "* Using the field 'esd' split the **stroke** patients into two groups:  ESD stroke patients and non-ESD patients.\n",
    "* Plot the distributions\n",
    "* Calculate the mean and standard deviation of each subgroup.\n",
    "* You should find that the mean and stdev are roughly the same for each group.  \n",
    "    * What distribution does this suggest is a good choice and what is special about this distribution that means you don't need to model it as two seperate arrival processes?\n",
    "    * What percentage of stroke arrivals go on to have ESD?  How might you model that?\n",
    "* Using `auto_fit()` test if the exponential distribution is rejected"
   ]
  },
  {
   "cell_type": "code",
   "execution_count": 128,
   "metadata": {},
   "outputs": [],
   "source": [
    "# your code here ..."
   ]
  },
  {
   "cell_type": "code",
   "execution_count": 129,
   "metadata": {},
   "outputs": [
    {
     "data": {
      "text/plain": [
       "(281,)"
      ]
     },
     "execution_count": 129,
     "metadata": {},
     "output_type": "execute_result"
    }
   ],
   "source": [
    "inter_arrivals_esd = acute_strokes.loc[(acute_strokes['esd'] == 1) & (acute_strokes['patient_type'] == 0)]['hosp_arrival_dt'].diff() / np.timedelta64(1, 'h')\n",
    "inter_arrivals_esd.shape"
   ]
  },
  {
   "cell_type": "code",
   "execution_count": 130,
   "metadata": {},
   "outputs": [
    {
     "data": {
      "text/plain": [
       "(978,)"
      ]
     },
     "execution_count": 130,
     "metadata": {},
     "output_type": "execute_result"
    }
   ],
   "source": [
    "inter_arrivals_no_esd = acute_strokes.loc[(acute_strokes['esd'] == 0) & (acute_strokes['patient_type'] == 0)]['hosp_arrival_dt'].diff() / np.timedelta64(1, 'h')\n",
    "inter_arrivals_no_esd.shape"
   ]
  },
  {
   "cell_type": "code",
   "execution_count": 131,
   "metadata": {},
   "outputs": [
    {
     "data": {
      "text/plain": [
       "0.22319301032565528"
      ]
     },
     "execution_count": 131,
     "metadata": {},
     "output_type": "execute_result"
    }
   ],
   "source": [
    "#prop of arrivals that are ESD\n",
    "inter_arrivals_esd.shape[0] / (inter_arrivals_esd.shape[0] + inter_arrivals_no_esd.shape[0])"
   ]
  },
  {
   "cell_type": "code",
   "execution_count": 132,
   "metadata": {},
   "outputs": [
    {
     "data": {
      "image/png": "[encoded data removed]",
      "text/plain": [
       "<Figure size 864x360 with 2 Axes>"
      ]
     },
     "metadata": {
      "needs_background": "light"
     },
     "output_type": "display_data"
    }
   ],
   "source": [
    "#plot histograms on grid\n",
    "fig, ax = plt.subplots(nrows=2, ncols=1, figsize=(12, 5), sharey=True, sharex=True)\n",
    "\n",
    "ax[0].hist(inter_arrivals_no_esd.dropna(), density=True);\n",
    "ax[1].hist(inter_arrivals_esd.dropna(), density=True);"
   ]
  },
  {
   "cell_type": "code",
   "execution_count": 133,
   "metadata": {},
   "outputs": [
    {
     "data": {
      "text/plain": [
       "count    280.000000\n",
       "mean      93.021131\n",
       "std       94.328854\n",
       "min        0.066667\n",
       "25%       24.250000\n",
       "50%       66.083333\n",
       "75%      126.762500\n",
       "max      504.033333\n",
       "Name: hosp_arrival_dt, dtype: float64"
      ]
     },
     "execution_count": 133,
     "metadata": {},
     "output_type": "execute_result"
    }
   ],
   "source": [
    "inter_arrivals_esd.describe()"
   ]
  },
  {
   "cell_type": "code",
   "execution_count": 134,
   "metadata": {},
   "outputs": [
    {
     "data": {
      "text/plain": [
       "count    977.000000\n",
       "mean      34.383828\n",
       "std       35.106363\n",
       "min        0.083333\n",
       "25%        9.166667\n",
       "50%       24.500000\n",
       "75%       46.283333\n",
       "max      246.166667\n",
       "Name: hosp_arrival_dt, dtype: float64"
      ]
     },
     "execution_count": 134,
     "metadata": {},
     "output_type": "execute_result"
    }
   ],
   "source": [
    "inter_arrivals_no_esd.describe()"
   ]
  },
  {
   "cell_type": "code",
   "execution_count": 135,
   "metadata": {},
   "outputs": [
    {
     "name": "stdout",
     "output_type": "stream",
     "text": [
      "\n",
      "Distributions sorted by goodness of fit:\n",
      "----------------------------------------\n",
      "  Distribution  chi_square  p_value\n",
      "0        expon   69.890803  0.12452\n"
     ]
    },
    {
     "data": {
      "image/png": "[encoded data removed]",
      "text/plain": [
       "<Figure size 432x288 with 1 Axes>"
      ]
     },
     "metadata": {
      "needs_background": "light"
     },
     "output_type": "display_data"
    },
    {
     "name": "stdout",
     "output_type": "stream",
     "text": [
      "\n",
      "Distribution parameters:\n",
      "------------------------\n",
      "\n",
      "Distribution: expon\n",
      "Parameters: (0.08333333333333333, 34.30049471170249)\n"
     ]
    },
    {
     "data": {
      "image/png": "[encoded data removed]",
      "text/plain": [
       "<Figure size 576x360 with 2 Axes>"
      ]
     },
     "metadata": {
      "needs_background": "light"
     },
     "output_type": "display_data"
    }
   ],
   "source": [
    "#doesn't reject exponential/\n",
    "auto_fit(inter_arrivals_no_esd, hist=True, pp=True, dist_names=['expon'])"
   ]
  },
  {
   "cell_type": "markdown",
   "metadata": {},
   "source": [
    "**possible answer**\n",
    "\n",
    "The mean and the std of the ESD and non-ESD arrivals are for practical purposes the equal. Auto-fit suggests does not rule out an exponential distribution (i.e. a poission process).  Therefore an option would be to model both of these populations as a single arrival process where on arrival patients are labelled either 1 for ESD or for 0 ESD following a Bernoulli distribution. "
   ]
  },
  {
   "cell_type": "markdown",
   "metadata": {},
   "source": [
    "# PART 3: LENGTH OF STAY\n",
    "\n",
    "To estimate distributions of length of stay we need to calculate the difference in days between admission and discharge.\n",
    "\n",
    "**Before we do this there are a few complications in the dataset that we will need to manage as best we can**. The wrangled data is provided in `asu_discharges.csv`\n",
    "\n",
    "Issues with current data:\n",
    "* The data only contain a date stamp for admission to the ASU (there is no time), but we do have a hospital arrival timestamp. These can be on the same day or several (or many) days apart.\n",
    "* The data include a hospital discharge datetime stamp BUT this does not always represent a discharge from ASU.\n",
    "* This is because some of the patients in the data are transfered from the ASU to multiple hospital wards before they are discharged.  \n",
    "    \n",
    ">To handle these issues we will make some assumptions.  We'll assume that the sample of patients that only stayed on the asu is representative of the whole population and also make use of a target for getting admitting patients onto a stroke unit within 4 hours of arrival.\n",
    "\n",
    "This is what we will do:\n",
    "\n",
    "* We will limit our analysis of LoS to patients who only stay on a **single** ward. \n",
    "* If patients are admitted to the ASU on a different day from arrival to hospital we will assume admission time is midnight.\n",
    "* If patients are admitted to the ASU on the same day as arrival to hospital we will assume patients are admitted within 4 hours of their hospital arrival unless that crosses midnight and then we will set it to 23:59.\n",
    "\n",
    "**Note: In practice we would analyse these implications of these decisions during modelling through a process called *sensitivity analysis*.**\n",
    "\n",
    "## **Exercise 3.1**: LoS by `patient_type`\n",
    "\n",
    "**Task:**\n",
    "\n",
    "* Load `asu_discharges.csv` (code provided below)\n",
    "* Create a new field called `los` that is equal the patients length of stay in the asu **in days.**\n",
    "* Explore the distribution of LoS by `patient_type` subgroup.\n",
    "\n",
    "**Hints:**\n",
    "\n",
    "* In `pandas` when you calculate the difference between two `datetime64` values you are returned a `timedelta64`.  To convert this into days you need to divide by `np.timedelta64(24, 'h')`"
   ]
  },
  {
   "cell_type": "code",
   "execution_count": 102,
   "metadata": {},
   "outputs": [
    {
     "name": "stdout",
     "output_type": "stream",
     "text": [
      "<class 'pandas.core.frame.DataFrame'>\n",
      "RangeIndex: 2247 entries, 0 to 2246\n",
      "Data columns (total 5 columns):\n",
      " #   Column             Non-Null Count  Dtype         \n",
      "---  ------             --------------  -----         \n",
      " 0   hosp_arrival_dt    2246 non-null   datetime64[ns]\n",
      " 1   patient_type       2247 non-null   int64         \n",
      " 2   asu_admit_dt       2247 non-null   datetime64[ns]\n",
      " 3   hosp_discharge_dt  2247 non-null   datetime64[ns]\n",
      " 4   esd                2247 non-null   int64         \n",
      "dtypes: datetime64[ns](3), int64(2)\n",
      "memory usage: 87.9 KB\n"
     ]
    }
   ],
   "source": [
    "#load data\n",
    "asu_discharges = pd.read_csv('../../../../input_modelling_data/asu_discharges.csv', \n",
    "                             parse_dates=['hosp_arrival_dt', \n",
    "                                          'asu_admit_dt', \n",
    "                                          'hosp_discharge_dt'])\n",
    "asu_discharges.info()"
   ]
  },
  {
   "cell_type": "code",
   "execution_count": null,
   "metadata": {},
   "outputs": [],
   "source": [
    "#your code here to calculate the difference in days"
   ]
  },
  {
   "cell_type": "code",
   "execution_count": 136,
   "metadata": {},
   "outputs": [
    {
     "data": {
      "text/html": [
       "<div>\n",
       "<style scoped>\n",
       "    .dataframe tbody tr th:only-of-type {\n",
       "        vertical-align: middle;\n",
       "    }\n",
       "\n",
       "    .dataframe tbody tr th {\n",
       "        vertical-align: top;\n",
       "    }\n",
       "\n",
       "    .dataframe thead th {\n",
       "        text-align: right;\n",
       "    }\n",
       "</style>\n",
       "<table border=\"1\" class=\"dataframe\">\n",
       "  <thead>\n",
       "    <tr style=\"text-align: right;\">\n",
       "      <th></th>\n",
       "      <th>hosp_arrival_dt</th>\n",
       "      <th>patient_type</th>\n",
       "      <th>asu_admit_dt</th>\n",
       "      <th>hosp_discharge_dt</th>\n",
       "      <th>esd</th>\n",
       "      <th>los</th>\n",
       "    </tr>\n",
       "  </thead>\n",
       "  <tbody>\n",
       "    <tr>\n",
       "      <th>0</th>\n",
       "      <td>2010-01-01 00:00:00</td>\n",
       "      <td>0</td>\n",
       "      <td>2010-01-02 00:00:00</td>\n",
       "      <td>2010-01-13 14:25:00</td>\n",
       "      <td>0</td>\n",
       "      <td>11.600694</td>\n",
       "    </tr>\n",
       "    <tr>\n",
       "      <th>1</th>\n",
       "      <td>2010-01-01 12:20:00</td>\n",
       "      <td>0</td>\n",
       "      <td>2010-01-01 16:20:00</td>\n",
       "      <td>2010-01-25 15:50:00</td>\n",
       "      <td>0</td>\n",
       "      <td>23.979167</td>\n",
       "    </tr>\n",
       "    <tr>\n",
       "      <th>2</th>\n",
       "      <td>2010-01-02 16:10:00</td>\n",
       "      <td>0</td>\n",
       "      <td>2010-01-02 20:10:00</td>\n",
       "      <td>2010-01-08 15:00:00</td>\n",
       "      <td>0</td>\n",
       "      <td>5.784722</td>\n",
       "    </tr>\n",
       "    <tr>\n",
       "      <th>3</th>\n",
       "      <td>2010-01-02 21:40:00</td>\n",
       "      <td>1</td>\n",
       "      <td>2010-01-02 23:59:00</td>\n",
       "      <td>2010-01-03 19:30:00</td>\n",
       "      <td>0</td>\n",
       "      <td>0.813194</td>\n",
       "    </tr>\n",
       "    <tr>\n",
       "      <th>4</th>\n",
       "      <td>2010-01-03 04:30:00</td>\n",
       "      <td>3</td>\n",
       "      <td>2010-01-04 00:00:00</td>\n",
       "      <td>2010-01-22 05:00:00</td>\n",
       "      <td>0</td>\n",
       "      <td>18.208333</td>\n",
       "    </tr>\n",
       "  </tbody>\n",
       "</table>\n",
       "</div>"
      ],
      "text/plain": [
       "      hosp_arrival_dt  patient_type        asu_admit_dt   hosp_discharge_dt  \\\n",
       "0 2010-01-01 00:00:00             0 2010-01-02 00:00:00 2010-01-13 14:25:00   \n",
       "1 2010-01-01 12:20:00             0 2010-01-01 16:20:00 2010-01-25 15:50:00   \n",
       "2 2010-01-02 16:10:00             0 2010-01-02 20:10:00 2010-01-08 15:00:00   \n",
       "3 2010-01-02 21:40:00             1 2010-01-02 23:59:00 2010-01-03 19:30:00   \n",
       "4 2010-01-03 04:30:00             3 2010-01-04 00:00:00 2010-01-22 05:00:00   \n",
       "\n",
       "   esd        los  \n",
       "0    0  11.600694  \n",
       "1    0  23.979167  \n",
       "2    0   5.784722  \n",
       "3    0   0.813194  \n",
       "4    0  18.208333  "
      ]
     },
     "execution_count": 136,
     "metadata": {},
     "output_type": "execute_result"
    }
   ],
   "source": [
    "#example answer\n",
    "asu_discharges['los'] = (asu_discharges['hosp_discharge_dt'] - \\\n",
    "                    asu_discharges['asu_admit_dt']) / np.timedelta64(24, 'h')\n",
    "\n",
    "asu_discharges.head()"
   ]
  },
  {
   "cell_type": "code",
   "execution_count": 144,
   "metadata": {},
   "outputs": [
    {
     "name": "stdout",
     "output_type": "stream",
     "text": [
      "0: n:1233, m:7.37, s:8.88\n",
      "1: n:405, m:6.91, s:10.10\n",
      "2: n:156, m:2.18, s:4.00\n",
      "3: n:453, m:7.94, s:10.27\n"
     ]
    }
   ],
   "source": [
    "#loop through and create LoS by subgroup\n",
    "los_by_group = {}\n",
    "\n",
    "for patient_type in range(4):\n",
    "    #calculate individual los\n",
    "    data = asu_discharges.loc[asu_discharges['patient_type'] \\\n",
    "            == patient_type]['los']\n",
    "\n",
    "    #print mean\n",
    "    print(f'{patient_type}: n:{data.shape[0]}, m:{data.dropna().mean():.2f}, s:{data.dropna().std():.2f}')\n",
    "    \n",
    "    #store by group\n",
    "    los_by_group[f'{patient_type}'] = data"
   ]
  },
  {
   "cell_type": "code",
   "execution_count": 145,
   "metadata": {},
   "outputs": [
    {
     "data": {
      "image/png": "[encoded data removed]",
      "text/plain": [
       "<Figure size 864x360 with 4 Axes>"
      ]
     },
     "metadata": {
      "needs_background": "light"
     },
     "output_type": "display_data"
    }
   ],
   "source": [
    "#plot histograms on grid\n",
    "fig, ax = plt.subplots(nrows=2, ncols=2, figsize=(12, 5), sharex=True)\n",
    "\n",
    "key = 0\n",
    "for row in range(2):\n",
    "    for col in range(2):\n",
    "        #plot histogram dropping initial NAN to avoid matplotlib warning/moaning\n",
    "        ax[row][col].hist(los_by_group[f'{key}'].dropna(), bins=50)\n",
    "        key += 1"
   ]
  },
  {
   "cell_type": "code",
   "execution_count": 154,
   "metadata": {},
   "outputs": [
    {
     "name": "stdout",
     "output_type": "stream",
     "text": [
      "\n",
      "Distributions sorted by goodness of fit:\n",
      "----------------------------------------\n",
      "  Distribution    chi_square  p_value\n",
      "3      lognorm     35.948500  0.10335\n",
      "0         beta    345.391470  0.00001\n",
      "5     pearson3    347.223100  0.00001\n",
      "1        expon    451.261461  0.00002\n",
      "6  weibull_min    481.359701  0.00002\n",
      "7  weibull_max   2245.012222  0.00000\n",
      "4         norm   8301.037514  0.00000\n",
      "2        gamma  11008.561086  0.00000\n",
      "\n",
      "Distributions sorted by goodness of fit:\n",
      "----------------------------------------\n",
      "  Distribution   chi_square  p_value\n",
      "3      lognorm    29.419250  0.45596\n",
      "5     pearson3   135.348213  0.00407\n",
      "0         beta   237.651770  0.00050\n",
      "6  weibull_min   315.104293  0.00000\n",
      "1        expon   345.297580  0.00000\n",
      "2        gamma   929.209684  0.00000\n",
      "4         norm  3826.013093  0.00000\n",
      "7  weibull_max  9179.936725  0.00000\n",
      "\n",
      "Distributions sorted by goodness of fit:\n",
      "----------------------------------------\n",
      "  Distribution   chi_square  p_value\n",
      "3      lognorm   154.720439  0.00128\n",
      "1        expon   256.359466  0.00000\n",
      "6  weibull_min   266.544619  0.00002\n",
      "5     pearson3   292.530415  0.00003\n",
      "0         beta   371.880234  0.00000\n",
      "7  weibull_max   515.455054  0.00000\n",
      "4         norm  1840.276075  0.00000\n",
      "2        gamma  9068.846215  0.00000\n",
      "\n",
      "Distributions sorted by goodness of fit:\n",
      "----------------------------------------\n",
      "  Distribution    chi_square  p_value\n",
      "3      lognorm     53.223509  0.02616\n",
      "5     pearson3     69.253731  0.01368\n",
      "6  weibull_min     70.319820  0.15996\n",
      "1        expon     86.847710  0.00132\n",
      "0         beta    328.190298  0.00000\n",
      "2        gamma    956.515118  0.00000\n",
      "4         norm   3330.193625  0.00000\n",
      "7  weibull_max  10583.797735  0.00000\n"
     ]
    }
   ],
   "source": [
    "#auto fit\n",
    "\n",
    "key = 0\n",
    "for key in range(4):\n",
    "    auto_fit(los_by_group[f'{key}'].dropna(), hist=False)\n",
    "        "
   ]
  },
  {
   "cell_type": "markdown",
   "metadata": {},
   "source": [
    "**Conclusions:** There is no perfect distribution here.  But lognormal seems to be the best fitting.\n"
   ]
  },
  {
   "cell_type": "markdown",
   "metadata": {},
   "source": [
    "## Exercise 3.2. LoS ESD versus Non-ESD\n",
    "\n",
    "**Task**:\n",
    "* Using the `esd` and `patient_type` fields split the dataset into strokes with ESD and strokes without ESD.  \n",
    "* Generate summary statistics for each group.\n",
    "* Use auto-fit \n",
    "* Which distributions do you think are a good choice?"
   ]
  },
  {
   "cell_type": "code",
   "execution_count": null,
   "metadata": {},
   "outputs": [],
   "source": [
    "# your code here ..."
   ]
  },
  {
   "cell_type": "code",
   "execution_count": 155,
   "metadata": {},
   "outputs": [
    {
     "name": "stdout",
     "output_type": "stream",
     "text": [
      "ESD LoS summary\n",
      "count    280.000000\n",
      "mean       4.801434\n",
      "std        5.176494\n",
      "min        0.085417\n",
      "25%        1.759896\n",
      "50%        3.354861\n",
      "75%        5.930382\n",
      "max       44.887500\n",
      "Name: los, dtype: float64\n",
      "\n",
      "------------------\n",
      "NO ESD LOS summary\n",
      "count    953.000000\n",
      "mean       8.121903\n",
      "std        9.574398\n",
      "min       -0.079861\n",
      "25%        2.320139\n",
      "50%        4.914583\n",
      "75%        9.947917\n",
      "max       79.232639\n",
      "Name: los, dtype: float64\n"
     ]
    }
   ],
   "source": [
    "\n",
    "#Los distributions for esd\n",
    "los_stroke_esd = asu_discharges.loc[(asu_discharges['esd'] == 1) \\\n",
    "                                & (asu_discharges['patient_type'] == 0)]['los']\n",
    "\n",
    "los_stroke_no_esd = asu_discharges.loc[(asu_discharges['esd'] == 0) \\\n",
    "                                & (asu_discharges['patient_type'] == 0)]['los']\n",
    "\n",
    "print('ESD LoS summary')\n",
    "print(los_stroke_esd.describe())\n",
    "print('\\n------------------\\nNO ESD LOS summary')\n",
    "print(los_stroke_no_esd.describe())"
   ]
  },
  {
   "cell_type": "code",
   "execution_count": 158,
   "metadata": {},
   "outputs": [
    {
     "data": {
      "image/png": "[encoded data removed]",
      "text/plain": [
       "<Figure size 864x360 with 2 Axes>"
      ]
     },
     "metadata": {
      "needs_background": "light"
     },
     "output_type": "display_data"
    }
   ],
   "source": [
    "#plot histograms on grid\n",
    "fig, ax = plt.subplots(nrows=2, ncols=1, figsize=(12, 5), sharey=True, sharex=True)\n",
    "\n",
    "ax[0].hist(los_stroke_esd.dropna(), density=True, bins=40);\n",
    "ax[1].hist(los_stroke_no_esd.dropna(), density=True, bins=40);"
   ]
  },
  {
   "cell_type": "code",
   "execution_count": 159,
   "metadata": {},
   "outputs": [
    {
     "name": "stdout",
     "output_type": "stream",
     "text": [
      "\n",
      "Distributions sorted by goodness of fit:\n",
      "----------------------------------------\n",
      "  Distribution   chi_square  p_value\n",
      "2      lognorm    22.583561  0.43047\n",
      "0         beta   200.898467  0.00014\n",
      "4     pearson3   208.544519  0.00010\n",
      "1        expon   243.715911  0.00021\n",
      "5  weibull_min   276.939480  0.00048\n",
      "6  weibull_max  1759.750282  0.00000\n",
      "3         norm  6201.832694  0.00000\n"
     ]
    },
    {
     "data": {
      "image/png": "[encoded data removed]",
      "text/plain": [
       "<Figure size 432x288 with 1 Axes>"
      ]
     },
     "metadata": {
      "needs_background": "light"
     },
     "output_type": "display_data"
    },
    {
     "name": "stdout",
     "output_type": "stream",
     "text": [
      "\n",
      "Distribution parameters:\n",
      "------------------------\n",
      "\n",
      "Distribution: lognorm\n",
      "Parameters: (0.999382222318763, -0.33769558368091934, 5.229911427072647)\n",
      "\n",
      "Distribution: beta\n",
      "Parameters: (1.0461174329251233, 102667440125.70325, -0.08032007671117031, 804043315157.2334)\n",
      "\n",
      "Distribution: pearson3\n",
      "Parameters: (1.9574879938488685, 8.122658384056173, 8.028592624990448)\n",
      "\n",
      "Distribution: expon\n",
      "Parameters: (-0.0798611111111111, 8.201764165792234)\n",
      "\n",
      "Distribution: weibull_min\n",
      "Parameters: (0.975553313986685, -0.07986111111111112, 8.114808225702173)\n"
     ]
    }
   ],
   "source": [
    "dist_names = ['beta',\n",
    "              'expon',\n",
    "              'lognorm',\n",
    "              'norm',\n",
    "              'pearson3',\n",
    "              'weibull_min', \n",
    "              'weibull_max']\n",
    "\n",
    "auto_fit(los_stroke_no_esd, hist=True, pp=False, dist_names=dist_names)"
   ]
  },
  {
   "cell_type": "code",
   "execution_count": 160,
   "metadata": {},
   "outputs": [
    {
     "name": "stdout",
     "output_type": "stream",
     "text": [
      "\n",
      "Distributions sorted by goodness of fit:\n",
      "----------------------------------------\n",
      "  Distribution   chi_square  p_value\n",
      "2      lognorm    25.563642  0.24112\n",
      "4     pearson3    85.658922  0.09470\n",
      "0         beta    86.478074  0.09618\n",
      "5  weibull_min   154.999125  0.06828\n",
      "1        expon   300.361056  0.00658\n",
      "3         norm  1497.335902  0.00000\n",
      "6  weibull_max  1690.794999  0.00000\n"
     ]
    },
    {
     "data": {
      "image/png": "[encoded data removed]",
      "text/plain": [
       "<Figure size 432x288 with 1 Axes>"
      ]
     },
     "metadata": {
      "needs_background": "light"
     },
     "output_type": "display_data"
    },
    {
     "name": "stdout",
     "output_type": "stream",
     "text": [
      "\n",
      "Distribution parameters:\n",
      "------------------------\n",
      "\n",
      "Distribution: lognorm\n",
      "Parameters: (0.8512444493867832, -0.12661234203571153, 3.415918503472846)\n",
      "\n",
      "Distribution: pearson3\n",
      "Parameters: (1.7419909687552448, 4.801452008015927, 4.115719548751201)\n",
      "\n",
      "Distribution: beta\n",
      "Parameters: (1.270547160613324, 11597719182.75289, 0.07805763544719846, 43819687574.30808)\n",
      "\n",
      "Distribution: weibull_min\n",
      "Parameters: (1.0956014567078016, 0.08337078163782499, 4.903899445430568)\n",
      "\n",
      "Distribution: expon\n",
      "Parameters: (0.08541666666666667, 4.716016865079366)\n"
     ]
    }
   ],
   "source": [
    "auto_fit(los_stroke_esd, hist=True, pp=False, dist_names=dist_names)"
   ]
  },
  {
   "cell_type": "markdown",
   "metadata": {},
   "source": [
    "### Conclusions. ESD versus no ESD los.  \n",
    "\n",
    "No distribution is a perfect fit due to high kertosis, but lognormal is reasonable.  "
   ]
  },
  {
   "cell_type": "markdown",
   "metadata": {},
   "source": [
    "## END OF LAB"
   ]
  },
  {
   "cell_type": "code",
   "execution_count": null,
   "metadata": {},
   "outputs": [],
   "source": []
  }
 ],
 "metadata": {
  "kernelspec": {
   "display_name": "Python 3",
   "language": "python",
   "name": "python3"
  },
  "language_info": {
   "codemirror_mode": {
    "name": "ipython",
    "version": 3
   },
   "file_extension": ".py",
   "mimetype": "text/x-python",
   "name": "python",
   "nbconvert_exporter": "python",
   "pygments_lexer": "ipython3",
   "version": "3.7.3"
  }
 },
 "nbformat": 4,
 "nbformat_minor": 4
}
